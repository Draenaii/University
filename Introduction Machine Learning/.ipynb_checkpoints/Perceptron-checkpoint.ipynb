{
 "cells": [
  {
   "cell_type": "markdown",
   "metadata": {},
   "source": [
    "# Made by \n",
    "### GRADE: 9.2 / 10\n",
    "\n",
    "Thijmen van der Meijden 1670786\n",
    "\n",
    "Max Geraedts 2048523"
   ]
  },
  {
   "cell_type": "markdown",
   "metadata": {},
   "source": [
    "# Lab 1\n",
    "### Introduction to Machine Learning, 2021-2022 period 4\n",
    "\n",
    "Lab1 is meant to help you get oriented to the programming part of the course, by implementing a simple perceptron."
   ]
  },
  {
   "cell_type": "markdown",
   "metadata": {},
   "source": [
    "## A brief introduction to Python\n",
    "\n",
    "This is a Machine Learning course, and not a programming course. However, you need to program in order to run Machine Learning algorithms. In this course, we use Python, one of the most popular programming languages today. It was released for the first time in 1990, but gained extreme popularity in the last 15 years, hand in hand with the increasing importance of the world wide web, big data and data science. We use **Python 3** in the course to make full use of the features of the latest generation.\n",
    "\n",
    "There is a lot of free literature about Python available that you can use for the course in addition to the lecture notes provided. Especially if you have difficulties understanding a particular concept, it is often a good idea to look at alternative explanations. Here are some links to useful Python online books:\n",
    "\n",
    "* https://runestone.academy/ns/books/published/pythonds/index.html (“Problem Solving with Algorithms and Data Structures using Python”)\n",
    "* https://python.swaroopch.com (“A Byte of Python”, especially for beginners)\n",
    "* http://greenteapress.com/wp/think-python-2e/ (“Think Python”, also targeted at beginners)\n",
    "* https://docs.python.org/3/tutorial/index.html (the official Python tutorial)\n",
    "\n",
    "During the course we will work with the [Anaconda Python Data Science Platform](https://www.anaconda.com/); in particular we will use the Spyder Integrated Development Environment (IDE) and Jupyter notebooks. Below are instructions for installation and first steps with these environments."
   ]
  },
  {
   "cell_type": "markdown",
   "metadata": {},
   "source": [
    "## Python setup\n",
    "\n",
    "In this course we use Python 3, and we do most of the programming in Jupyter notebooks (this lab is written in a Jupyter notebook).\n",
    "\n",
    "**Easy installation** The easiest (and recommended) way to get the required software is to install Anaconda. Anaconda is a free and open source distribution of Python and some other programming languages used in scientific applications. It runs on all major operating systems and provides a number of very useful tools for Python programming.\n",
    "Here is what you have to do to get started:\n",
    "\n",
    "1. Go to https://docs.anaconda.com/anaconda/install/ and follow the installation instructions for your operating system. \n",
    "\n",
    "2. Go to https://docs.anaconda.com/anaconda/user-guide/getting-started/#open-nav-lin and follow the instructions how to start Spyder.\n",
    "\n",
    "**Manual installation** You can also choose to install Python manually on your computer. How to do this depends on your operating system:\n",
    "\n",
    "* Windows: https://www.python.org/downloads/windows/\n",
    "\n",
    "* Mac OS X: install Python via [Fink](https://www.finkproject.org/) or [Homebrew](https://brew.sh/)\n",
    "\n",
    "* Linux: install Python via [Apt](https://wiki.debian.org/Apt) or whichever package manager corresponds to your distribution\n",
    "\n",
    "If you go for the manual option, make sure that you have numpy and matplotlib installed. You typically do this using [Pip](https://pypi.org/project/pip/). Note that most of the instructions written in the labs for this course assume you are using Anaconda.\n",
    "\n",
    "**Last-resort option** If you have (unresolvable) trouble with the installation of Anaconda on your device, you can use it also via UU’s MyWorkplace (https://myworkplace.uu.nl/). The app that you need to start is called “Spyder Anaconda3”."
   ]
  },
  {
   "cell_type": "markdown",
   "metadata": {},
   "source": [
    "## Python versus C\\#\n",
    "\n",
    "You probably have taken the course \"Modelleren en programmeren\", where you have learned C#. It might be useful to get a quick overview of how Python differs from C#. Let's look at a simple program in C#, which asks the user to enter their name and then prints out a message:\n",
    "\n",
    "<img src=\"csharp.png\" alt=\"drawing\" width=\"600\"/>\n",
    "\n",
    "Note that we need about 10 lines of code to do this. Let's write the same program in Python:"
   ]
  },
  {
   "cell_type": "code",
   "execution_count": null,
   "metadata": {},
   "outputs": [],
   "source": [
    "user_name = input()\n",
    "print(f'Hello, {user_name}. How are you today?')"
   ]
  },
  {
   "cell_type": "markdown",
   "metadata": {},
   "source": [
    "Notice that we accomplished the same in 2 lines of code. That is one of the characteristics of Python: it is very compact. Furthermore, unlike in C#, we can write code without encapsulating it in a class. Finally, as we will see further, scope in Python is not determined by curly brackets, but rather by indentation. The C# code shown above contains three lines within the scope of the `Main` function, and they are all indented differently; this would cause errors in Python. Here is a function with correct indentation:"
   ]
  },
  {
   "cell_type": "code",
   "execution_count": null,
   "metadata": {},
   "outputs": [],
   "source": [
    "def print_message(name):\n",
    "    print(f'Hello, {name}. How are you today?')\n",
    "    \n",
    "user_name = input()\n",
    "print_message(user_name)"
   ]
  },
  {
   "cell_type": "markdown",
   "metadata": {},
   "source": [
    "The `using` keyword from C# roughly equates to `import` in Python, which we will use in this course. Other differences between Python and C#:\n",
    "\n",
    "* variable types do not have to be declared (see `user_name` above) in Python\n",
    "\n",
    "* C# is developed by Microsoft, Python is open-source\n",
    "\n",
    "* C# is compiled, Python is interpreted (you don't compile programs before running)\n",
    "\n",
    "* Python has a huge set of pre-packaged libraries\n",
    "\n",
    "Note that, as of recent Python versions, you are allowed to specified the expected types of the arguments of a function, as well as the return type. This is optional, but can sometimes make a function easier to read. For example:"
   ]
  },
  {
   "cell_type": "code",
   "execution_count": null,
   "metadata": {},
   "outputs": [],
   "source": [
    "def concatenate_strings(word1: str, word2: str) -> str:\n",
    "    return word1 + word2\n",
    "\n",
    "# As opposed to:\n",
    "\n",
    "def concatenate_strings(word1, word2):\n",
    "    return word1 + word2"
   ]
  },
  {
   "cell_type": "markdown",
   "metadata": {},
   "source": [
    "## Starting the notebook\n",
    "\n",
    "Download the notebook from Blackboard. Use Anaconda Navigator to open Jupyter Notebooks, then open this notebook. Your web browser will open.\n",
    "\n",
    "<img src=\"jupyter_home.png\" alt=\"drawing\" width=\"600\"/>\n",
    "\n",
    "Navigate to the location where you saved your notebook for this lab, and click on it. This notebook will open in the same browser."
   ]
  },
  {
   "cell_type": "markdown",
   "metadata": {},
   "source": [
    "## Perceptron\n",
    "\n",
    "Consider the perceptron that you have seen in class, in two dimensions \n",
    "\n",
    "$h(x) = sign(w^Tx)$ \n",
    "\n",
    "where \n",
    "\n",
    "$w=[w_o, w_1, w_2]^T$ \n",
    "\n",
    "and \n",
    "\n",
    "$x = [1, x_1, x_2]^T$ \n",
    "\n",
    "(Technically, $x$ has three dimensions, but we call this a two-dimensional perceptron because the first dimension is fixed to 1).\n",
    "\n",
    "In the following sections, you will complete a series of functions and code snippets to work with a perceptron and the perceptron learning algorithm. Fill in the parts labeled \"FILL IN\".\n",
    "\n",
    "In Python, a `list` is a mutable collection of objects arranged in a sequence. A collection of datapoints can naturally be expressed as a list. A `tuple` is an immutable collection of objects arranged in a sequence; a tuple is an immutable list. The coordinates of a datapoint can naturally be expressed as a tuple."
   ]
  },
  {
   "cell_type": "markdown",
   "metadata": {
    "tags": []
   },
   "source": [
    "**1.** Implement the *perceptron learning algorithm* (PLA) (section 1.1.2 in the book) in Python"
   ]
  },
  {
   "cell_type": "code",
   "execution_count": 1,
   "metadata": {},
   "outputs": [],
   "source": [
    "def sign(val: float) -> int:\n",
    "    if val > 0:\n",
    "        return 1\n",
    "    else:\n",
    "        return -1\n",
    "    \n",
    "def initialize_weights(d: int) -> tuple:\n",
    "    return tuple([0 for _ in range(d)])\n",
    "\n",
    "def perceptron(x: tuple, w: tuple) -> int:\n",
    "    h = 0\n",
    "    for i in range (len(x)):\n",
    "        h = h + x[i] * w[i]\n",
    "    return sign(h)\n",
    "\n",
    "def update_weights(x_t: tuple, y_t: int, w_t: tuple) -> tuple:\n",
    "    w_t_plus_1 = [0, 0, 0]\n",
    "    \n",
    "    for i in range (len(x_t)):\n",
    "        w_t_plus_1[i] = w_t[i] + y_t * x_t[i]\n",
    "    return tuple (w_t_plus_1)\n",
    "\n",
    "def learn_weights(xn: list, yn: list) -> tuple:\n",
    "    t = 0\n",
    "    w = initialize_weights(3)\n",
    "    converged = 0\n",
    "    unconverged = []\n",
    "    \n",
    "    for i in range (len(xn)):\n",
    "        if perceptron(xn[i], w) == yn[i]:\n",
    "            converged += 1\n",
    "        else:\n",
    "            unconverged.append(i)\n",
    "    \n",
    "    while converged != len(xn):\n",
    "        converged = 0\n",
    "        w = update_weights(xn[unconverged[0]], yn[unconverged[0]], w)\n",
    "        \n",
    "        unconverged = []\n",
    "        for i in range (len(xn)):\n",
    "            if perceptron(xn[i], w) == yn[i]:\n",
    "                converged += 1\n",
    "            else:\n",
    "                unconverged.append(i)\n",
    "        t += 1\n",
    "    \n",
    "    print(f'Converged in {t} iterations')\n",
    "    return w"
   ]
  },
  {
   "cell_type": "markdown",
   "metadata": {},
   "source": [
    "Test your program on a toy dataset of 3 datapoints. Create these datapoints and run your program:\n",
    "\n",
    "(1, 0.5, 1.5) -> +1\n",
    "\n",
    "(1, 4.3, -0.3) -> -1\n",
    "\n",
    "(1, -3.2, 2.2) -> +1"
   ]
  },
  {
   "cell_type": "code",
   "execution_count": 2,
   "metadata": {},
   "outputs": [
    {
     "name": "stdout",
     "output_type": "stream",
     "text": [
      "Converged in 2 iterations\n",
      "(0, -3.8, 1.8)\n"
     ]
    }
   ],
   "source": [
    "x3 = [(1, 0.5, 1.5), (1, 4.3, -0.3), (1, -3.2, 2.2)]\n",
    "y3 = [1, -1, 1]\n",
    "w = learn_weights(x3, y3)\n",
    "print(w)"
   ]
  },
  {
   "cell_type": "markdown",
   "metadata": {},
   "source": [
    "**2.** Generate a linearly separable dataset in two dimensions: Choose a random \n",
    "line in the plane as the target function, where one side of the line maps \n",
    "to +1 and the other maps to -1. Choose the inputs $x_n$ ($n=20$) to be random points \n",
    "in the plane, and evaluate the target function on each $x_n$ to get the \n",
    "corresponding output $y_n$."
   ]
  },
  {
   "cell_type": "code",
   "execution_count": 3,
   "metadata": {},
   "outputs": [],
   "source": [
    "import random\n",
    "\n",
    "SLOPE, INTERCEPT = random.uniform(-10, 10), random.uniform(-10, 10)\n",
    "MAX_VAL = 100\n",
    "\n",
    "def get_random_point():\n",
    "    x1 = random.uniform(-MAX_VAL, MAX_VAL)\n",
    "    x2 = random.uniform(-MAX_VAL, MAX_VAL)\n",
    "    return (1, x1, x2)\n",
    "\n",
    "def target(x):\n",
    "    if x[2] > SLOPE * x[1] + INTERCEPT:\n",
    "        return 1\n",
    "    else:\n",
    "        return -1\n",
    "    \n",
    "def generate_data(n: int) -> tuple:\n",
    "    xn = []\n",
    "    for i in range (n):\n",
    "        xn.append(get_random_point())\n",
    "    \n",
    "    yn = []\n",
    "    for i in range (n):\n",
    "        yn.append(target(xn[i]))\n",
    "     \n",
    "    return xn, yn"
   ]
  },
  {
   "cell_type": "code",
   "execution_count": 8,
   "metadata": {},
   "outputs": [],
   "source": [
    "x20, y20 = generate_data(20)"
   ]
  },
  {
   "cell_type": "markdown",
   "metadata": {},
   "source": [
    "**3.** Plot the examples ${(x_n, y_n)}$ as well as the target function \n",
    "(use `matplotlib`)"
   ]
  },
  {
   "cell_type": "code",
   "execution_count": 9,
   "metadata": {},
   "outputs": [
    {
     "name": "stderr",
     "output_type": "stream",
     "text": [
      "No handles with labels found to put in legend.\n"
     ]
    },
    {
     "data": {
      "image/png": "[encoded data removed]",
      "text/plain": [
       "<Figure size 432x288 with 1 Axes>"
      ]
     },
     "metadata": {
      "needs_background": "light"
     },
     "output_type": "display_data"
    }
   ],
   "source": [
    "import matplotlib.pyplot as plt\n",
    "\n",
    "def get_plot_markers(yn: list) -> list:\n",
    "    plot_marker = []\n",
    "    for i in range (len(yn)):\n",
    "        if yn[i] == 1:\n",
    "            plot_marker.append(\"+\")\n",
    "        elif yn[i] == -1:\n",
    "            plot_marker.append(\"_\")\n",
    "    \n",
    "    return plot_marker\n",
    "\n",
    "def plot(xn, yn):\n",
    "    # The x axis should be the x1 axis of the data\n",
    "    # The y axis should be the x2 axis of the data\n",
    "    # The marker should be different for +1 and -1 samples\n",
    "\n",
    "    plot_x = [x[1] for x in xn]\n",
    "    plot_y = [x[2] for x in xn]\n",
    "    plot_marker = get_plot_markers(yn)\n",
    "\n",
    "    # Plot the markers of the datapoints\n",
    "    fig, ax = plt.subplots()\n",
    "    for xp, yp, m in zip(plot_x, plot_y, plot_marker):\n",
    "        ax.scatter([xp],[yp], marker=m, color='b')\n",
    "\n",
    "    # Add the random line used to generate the target function (HINT: use SLOPE and INTERCEPT)\n",
    "    plt.plot([((100-INTERCEPT)/SLOPE), ((-100-INTERCEPT)/SLOPE)], [100, -100], linestyle=':')\n",
    "    \n",
    "    # Add axis labels and a legend\n",
    "    plt.xlabel('x1')\n",
    "    plt.xlabel('x2')\n",
    "    plt.legend()\n",
    "    plt.xlim(-MAX_VAL, MAX_VAL)\n",
    "    plt.ylim(-MAX_VAL, MAX_VAL)\n",
    "    plt.show()\n",
    "    \n",
    "plot(x20, y20)"
   ]
  },
  {
   "cell_type": "markdown",
   "metadata": {},
   "source": [
    "**4.** Run the perceptron algorithm on the above dataset, and add the hypothesis \n",
    "to the plot. Report the number of iterations. "
   ]
  },
  {
   "cell_type": "code",
   "execution_count": 10,
   "metadata": {},
   "outputs": [
    {
     "name": "stdout",
     "output_type": "stream",
     "text": [
      "Converged in 3 iterations\n",
      "(1, -111.89459093404817, 25.897860127023122)\n"
     ]
    }
   ],
   "source": [
    "w = learn_weights(x20, y20)\n",
    "print (w)"
   ]
  },
  {
   "cell_type": "code",
   "execution_count": 12,
   "metadata": {},
   "outputs": [
    {
     "name": "stderr",
     "output_type": "stream",
     "text": [
      "No handles with labels found to put in legend.\n"
     ]
    },
    {
     "data": {
      "image/png": "[encoded data removed]",
      "text/plain": [
       "<Figure size 432x288 with 1 Axes>"
      ]
     },
     "metadata": {
      "needs_background": "light"
     },
     "output_type": "display_data"
    }
   ],
   "source": [
    "def plot(xn, yn, w):\n",
    "    # The x axis should be the x1 axis of the data\n",
    "    # The y axis should be the x2 axis of the data\n",
    "    # The marker should be different for +1 and -1 samples\n",
    "\n",
    "    plot_x = [x[1] for x in xn]\n",
    "    plot_y = [x[2] for x in xn]\n",
    "    plot_marker = get_plot_markers(yn)\n",
    "\n",
    "    # Plot the markers of the datapoints\n",
    "    fig, ax = plt.subplots()\n",
    "    for xp, yp, m in zip(plot_x, plot_y, plot_marker):\n",
    "        ax.scatter([xp],[yp], marker=m, color='b')\n",
    "\n",
    "    # Add the random line used to generate the target function (HINT: use SLOPE and INTERCEPT)\n",
    "    plt.plot([((100-INTERCEPT)/SLOPE), ((-100-INTERCEPT)/SLOPE)], [100, -100], color='red', linestyle=':')\n",
    "    \n",
    "    # Add the learned hypothesis\n",
    "    # To plot the hypothesis, we need to convert the weights w0, w1, w2 into a line\n",
    "    plt.plot([-100, 100], [-100 * (w[1]/-w[2]) + (w[0]/-w[2]), 100 * (w[1]/-w[2]) + (w[0]/-w[2])],color='green', linestyle='--')\n",
    "\n",
    "    # Add axis labels and a legend\n",
    "    plt.xlabel('x1')\n",
    "    plt.xlabel('x2')\n",
    "    plt.legend()\n",
    "    plt.xlim(-MAX_VAL, MAX_VAL)\n",
    "    plt.ylim(-MAX_VAL, MAX_VAL)\n",
    "    plt.show()\n",
    "    \n",
    "plot(x20, y20, w)"
   ]
  },
  {
   "cell_type": "markdown",
   "metadata": {},
   "source": [
    "**5.** Generate another random dataset of 20 points, and repeat. Compare with the above results. "
   ]
  },
  {
   "cell_type": "code",
   "execution_count": 11,
   "metadata": {},
   "outputs": [
    {
     "name": "stdout",
     "output_type": "stream",
     "text": [
      "Converged in 3 iterations\n",
      "(-1, 13.207881516718246, 125.95907154632413)\n"
     ]
    }
   ],
   "source": [
    "x20test, y20test = generate_data(20)\n",
    "w = learn_weights(x20test, y20test)\n",
    "print(w)"
   ]
  },
  {
   "cell_type": "markdown",
   "metadata": {},
   "source": [
    "**6.** General a dataset of 1000 points and repeat. Compare with above results."
   ]
  },
  {
   "cell_type": "code",
   "execution_count": 23,
   "metadata": {
    "tags": []
   },
   "outputs": [
    {
     "name": "stdout",
     "output_type": "stream",
     "text": [
      "Converged in 21 iterations\n",
      "(-5, -229.50771500519585, 26.37099213262462)\n"
     ]
    },
    {
     "name": "stderr",
     "output_type": "stream",
     "text": [
      "No handles with labels found to put in legend.\n"
     ]
    },
    {
     "data": {
      "image/png": "[encoded data removed]",
      "text/plain": [
       "<Figure size 432x288 with 1 Axes>"
      ]
     },
     "metadata": {
      "needs_background": "light"
     },
     "output_type": "display_data"
    }
   ],
   "source": [
    "x1000test, y1000test = generate_data(1000)\n",
    "w = learn_weights(x1000test, y1000test)\n",
    "print(w)\n",
    "plot (x1000test, y1000test, w)"
   ]
  },
  {
   "cell_type": "markdown",
   "metadata": {},
   "source": [
    "What can you say about what happens when you increase the number of datapoints?"
   ]
  },
  {
   "cell_type": "markdown",
   "metadata": {},
   "source": [
    "It takes longer to converge because it has to calculate more points"
   ]
  }
 ],
 "metadata": {
  "kernelspec": {
   "display_name": "Python 3 (ipykernel)",
   "language": "python",
   "name": "python3"
  },
  "language_info": {
   "codemirror_mode": {
    "name": "ipython",
    "version": 3
   },
   "file_extension": ".py",
   "mimetype": "text/x-python",
   "name": "python",
   "nbconvert_exporter": "python",
   "pygments_lexer": "ipython3",
   "version": "3.9.7"
  }
 },
 "nbformat": 4,
 "nbformat_minor": 4
}
