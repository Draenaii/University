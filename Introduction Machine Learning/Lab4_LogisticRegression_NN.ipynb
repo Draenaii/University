{
 "cells": [
  {
   "cell_type": "markdown",
   "metadata": {
    "pycharm": {
     "name": "#%% md\n"
    }
   },
   "source": [
    "# Lab 4\n",
    "### Introduction to Machine Learning, 2021-2022 period 4\n",
    "\n",
    "This assignment is to be done with a partner. Please only submit ONE .ipynb (not .py) file per pair!\n",
    "\n",
    "There are **11** problems in this assignment\n",
    "\n",
    "**Total points: 10**\n",
    "\n",
    "**Deadline: 2022-06-17 17:00**\n",
    "\n",
    "**Write your names and student ids here before submission: Thijmen van der Meijden 1670786 & Max Geraedts 2048523**"
   ]
  },
  {
   "cell_type": "markdown",
   "metadata": {
    "pycharm": {
     "name": "#%% md\n"
    }
   },
   "source": [
    "---"
   ]
  },
  {
   "cell_type": "markdown",
   "metadata": {
    "pycharm": {
     "name": "#%% md\n"
    }
   },
   "source": [
    "# Introduction\n",
    "\n",
    "In this laboratory we will experiment with text classification. The inputs to our machine learning models will be texts, each of which has a label (0 or 1). The model is trained to classify new texts as 0 or 1. In particular, we will use the dataset from the shared task *Presupposed Taxonomies: Evaluating Neural Network Semantics (PreTENS)*, part of the SemEval 2022 conference:\n",
    "\n",
    "https://sites.google.com/view/semeval2022-pretens\n",
    "\n",
    "The data consists of simple sentences, such as these:\n",
    "\n",
    "    * I like trees, and in particular birches\n",
    "    * I like oaks, and in particular trees\n",
    "    \n",
    "Some of the sentences (like the first one shown above) make sense, while others (like the second one shown above) do not. The reason that these sentences do not make sense is that the relationship between the two nouns included in the sentence is not compatible with the pattern where the two nouns are inserted.\n",
    "Sentences that make sense are labeled as `1` (*acceptable*), while sentences that do not make sense are labeled as `0` (*unacceptable*). The labeling is done by human annotators.\n",
    "\n",
    "Participants in this shared task were asked to train a machine learning model to predict whether sentences are acceptable or unacceptable. The best model was then applied to a secret test set that was not provided to the participants, and the highest score won.\n",
    "\n",
    "We have downloaded the data from this task from their [Github repository](https://github.com/shammur/SemEval2022Task3). In total, we have approximately 20000 sentences."
   ]
  },
  {
   "cell_type": "markdown",
   "metadata": {
    "pycharm": {
     "name": "#%% md\n"
    }
   },
   "source": [
    "## Dependencies\n",
    "\n",
    "The following modules and packages are needed to load the data and to manipulate them. \n",
    "\n",
    "**Unless otherwise stated**, however, **DO NOT** use any method from these modules for any ML-related goal. "
   ]
  },
  {
   "cell_type": "code",
   "execution_count": 1,
   "metadata": {
    "pycharm": {
     "name": "#%%\n"
    }
   },
   "outputs": [],
   "source": [
    "import re\n",
    "import random\n",
    "import collections\n",
    "\n",
    "import nltk\n",
    "import numpy as np\n",
    "import pandas as pd\n",
    "import matplotlib.pyplot as plt\n",
    "\n",
    "from sklearn import linear_model\n",
    "from sklearn.feature_extraction.text import TfidfTransformer\n",
    "\n",
    "%matplotlib inline  \n",
    "plt.rcParams['figure.figsize'] = (15, 10)  "
   ]
  },
  {
   "cell_type": "markdown",
   "metadata": {
    "pycharm": {
     "name": "#%% md\n"
    }
   },
   "source": [
    "---"
   ]
  },
  {
   "cell_type": "markdown",
   "metadata": {
    "pycharm": {
     "name": "#%% md\n"
    }
   },
   "source": [
    "# Data Description\n",
    "\n",
    "For this assignment we pre-processed the sentences by tokenizing the text and annotating the grammatical category and lemma of each token (more details below). These data are available in the `labeled_data_preprocessed.csv` file"
   ]
  },
  {
   "cell_type": "code",
   "execution_count": 2,
   "metadata": {
    "pycharm": {
     "name": "#%%\n"
    }
   },
   "outputs": [
    {
     "data": {
      "text/plain": "                                            raw_sentence  class  \\\nid                                                                \n960                  I like water more than Chardonnay .      1   \n4317   He likes calculations , and more specifically ...      0   \n18758           He trusts his senses as much as rumors .      1   \n11857  Unlike jewelry , socks are often mentioned in ...      1   \n4342                     I like turkey , except caviar .      0   \n\n                                     pos_tagged_sentence  \\\nid                                                         \n960    [(i, NOUN), (like, VERB), (water, NOUN), (more...   \n4317   [(he, PRON), (likes, VERB), (calculations, NOU...   \n18758  [(he, PRON), (trusts, VERB), (his, PRON), (sen...   \n11857  [(unlike, ADP), (jewelry, NOUN), (,, .), (sock...   \n4342   [(i, NOUN), (like, ADP), (turkey, NOUN), (,, ....   \n\n                                     lemmatized_sentence  \nid                                                        \n960    [(i, i), (like, like), (water, water), (more, ...  \n4317   [(he, he), (likes, like), (calculations, calcu...  \n18758  [(he, he), (trusts, trust), (his, his), (sense...  \n11857  [(unlike, unlike), (jewelry, jewelry), (,, ,),...  \n4342   [(i, i), (like, like), (turkey, turkey), (,, ,...  ",
      "text/html": "<div>\n<style scoped>\n    .dataframe tbody tr th:only-of-type {\n        vertical-align: middle;\n    }\n\n    .dataframe tbody tr th {\n        vertical-align: top;\n    }\n\n    .dataframe thead th {\n        text-align: right;\n    }\n</style>\n<table border=\"1\" class=\"dataframe\">\n  <thead>\n    <tr style=\"text-align: right;\">\n      <th></th>\n      <th>raw_sentence</th>\n      <th>class</th>\n      <th>pos_tagged_sentence</th>\n      <th>lemmatized_sentence</th>\n    </tr>\n    <tr>\n      <th>id</th>\n      <th></th>\n      <th></th>\n      <th></th>\n      <th></th>\n    </tr>\n  </thead>\n  <tbody>\n    <tr>\n      <th>960</th>\n      <td>I like water more than Chardonnay .</td>\n      <td>1</td>\n      <td>[(i, NOUN), (like, VERB), (water, NOUN), (more...</td>\n      <td>[(i, i), (like, like), (water, water), (more, ...</td>\n    </tr>\n    <tr>\n      <th>4317</th>\n      <td>He likes calculations , and more specifically ...</td>\n      <td>0</td>\n      <td>[(he, PRON), (likes, VERB), (calculations, NOU...</td>\n      <td>[(he, he), (likes, like), (calculations, calcu...</td>\n    </tr>\n    <tr>\n      <th>18758</th>\n      <td>He trusts his senses as much as rumors .</td>\n      <td>1</td>\n      <td>[(he, PRON), (trusts, VERB), (his, PRON), (sen...</td>\n      <td>[(he, he), (trusts, trust), (his, his), (sense...</td>\n    </tr>\n    <tr>\n      <th>11857</th>\n      <td>Unlike jewelry , socks are often mentioned in ...</td>\n      <td>1</td>\n      <td>[(unlike, ADP), (jewelry, NOUN), (,, .), (sock...</td>\n      <td>[(unlike, unlike), (jewelry, jewelry), (,, ,),...</td>\n    </tr>\n    <tr>\n      <th>4342</th>\n      <td>I like turkey , except caviar .</td>\n      <td>0</td>\n      <td>[(i, NOUN), (like, ADP), (turkey, NOUN), (,, ....</td>\n      <td>[(i, i), (like, like), (turkey, turkey), (,, ,...</td>\n    </tr>\n  </tbody>\n</table>\n</div>"
     },
     "execution_count": 2,
     "metadata": {},
     "output_type": "execute_result"
    }
   ],
   "source": [
    "df = pd.read_csv(\"labeled_data_preprocessed.csv\", index_col = 4)\n",
    "annotation_re = re.compile(r\"(.+)/(.+)\")\n",
    "df['pos_tagged_sentence'] = df['pos_tagged_sentence'].apply(lambda x: [annotation_re.findall(s)[0] for s in x.split()])\n",
    "df['lemmatized_sentence'] = df['lemmatized_sentence'].apply(lambda x: [annotation_re.findall(s)[0] for s in x.split()])\n",
    "df.sample(5)"
   ]
  },
  {
   "cell_type": "markdown",
   "metadata": {
    "pycharm": {
     "name": "#%% md\n"
    }
   },
   "source": [
    "## A note on Pandas\n",
    "\n",
    "By executing the code above we've loaded our csv file as a Python Pandas DataFrame. If you are not familiar with this data structure you can easily cast our DataFrame into a  **dictionary of dictionaries**, as follows:"
   ]
  },
  {
   "cell_type": "code",
   "execution_count": 3,
   "metadata": {
    "pycharm": {
     "name": "#%%\n"
    }
   },
   "outputs": [
    {
     "name": "stdout",
     "output_type": "stream",
     "text": [
      "dict_keys(['raw_sentence', 'class', 'pos_tagged_sentence', 'lemmatized_sentence'])\n",
      "[0, 1, 2]\n"
     ]
    }
   ],
   "source": [
    "df_dict = df.to_dict()\n",
    "\n",
    "# note that the keys of the outmost dictionary are the column names\n",
    "print(df_dict.keys())\n",
    "\n",
    "# while the keys of each embedded dictionary are the rows indices\n",
    "print(list(df_dict['raw_sentence'].keys())[:3])"
   ]
  },
  {
   "cell_type": "markdown",
   "metadata": {
    "pycharm": {
     "name": "#%% md\n"
    }
   },
   "source": [
    "## Columns keys\n",
    "\n",
    "**`class`** = class label the sentence (**this is our target label**).\n",
    "\n",
    "    0 - unacceptable\n",
    "    1 - acceptable\n",
    "   \n",
    "**`raw_sentence`** = raw sentence text\n",
    "\n",
    "**`pos_tagged_sentence`** = an annotated version of each sentence obtained by:\n",
    "\n",
    "    - lowercasing the sentence\n",
    "    - tokenizing the text (roughly, splitting the into morphological units such as words and punctuation marks)\n",
    "    - annotating the grammatical category (a.k.a. Part of Speech: PoS) of each token\n",
    "\n",
    "**`lemmatized_sentence`** = annotated version of each sentence obtained by using the annotation available in the `pos_tagged_sentence` representation in order to tag the base form (e.g. \"*be*\" for the inflected word \"*am*\") of each token."
   ]
  },
  {
   "cell_type": "markdown",
   "metadata": {
    "pycharm": {
     "name": "#%% md\n"
    }
   },
   "source": [
    "## Tagging notation\n",
    "\n",
    "The PoS-tagged and the lemmatized sentences have been represented using the [nltk notation](http://www.nltk.org/book_1ed/ch05.html), where \n",
    "\n",
    "- each **sentence** is represented as a list of annotated tokens\n",
    "\n",
    "- each **annotated token** is represented as a `(word, tag)` tuple\n",
    "\n",
    "For instance, we can verbalize this PoS annotation:\n",
    "\n",
    "`[('The', 'DET'), ('grand', 'ADJ'), ('jury', 'NOUN'), ('commented', 'VERB')]`\n",
    "\n",
    "as:\n",
    "\n",
    "> *\"the determiner \"the\" is followed by the adjective \"grand\", in turn followed by the noun \"jury\" and the verb \"commented\"*\n",
    "\n",
    "... while the following lemmatized text \n",
    "\n",
    "`[('The', 'The'), ('grand', 'grand'), ('jury', 'jury'), ('commented', 'comment')]`\n",
    "\n",
    "can be read as \n",
    "\n",
    "> *the text is composed by inflected forms of the lemmas \"the\", \"grand\", \"jury\" and \"comment\"* (note that the only token that is different from its base form is the last one)"
   ]
  },
  {
   "cell_type": "markdown",
   "metadata": {
    "pycharm": {
     "name": "#%% md\n"
    }
   },
   "source": [
    "### Part of Speech TagSet\n",
    "\n",
    "For PoS-tagging our sentences we've used the Universal tagset proposed by [Petrov et al (2011)](https://arxiv.org/abs/1104.2086):\n",
    "\n",
    "|  tag  | meaning |\n",
    "|:-----:|:---------|\n",
    "| VERB | verbs (all tenses and modes) |\n",
    "| NOUN | nouns (common and proper) |\n",
    "| PRON | pronouns |\n",
    "| ADJ | adjectives |\n",
    "| ADV | adverbs |\n",
    "| ADP | adpositions (prepositions and postpositions) |\n",
    "| CONJ | conjunctions |\n",
    "| DET | determiners (e.g., articles) |\n",
    "| NUM | cardinal numbers |\n",
    "| PRT | particles or other function words |\n",
    "| X | other: foreign words, typos, abbreviations |\n",
    "| \\. | punctuation |"
   ]
  },
  {
   "cell_type": "markdown",
   "metadata": {
    "pycharm": {
     "name": "#%% md\n"
    }
   },
   "source": [
    "## Distribution of the judgments\n",
    "\n",
    "As shown by the following barplot, about half of the sentences belong to each class. In other words, we are going to work with a **balanced dataset**."
   ]
  },
  {
   "cell_type": "code",
   "execution_count": 4,
   "metadata": {
    "pycharm": {
     "name": "#%%\n"
    }
   },
   "outputs": [
    {
     "data": {
      "text/plain": "<AxesSubplot:>"
     },
     "execution_count": 4,
     "metadata": {},
     "output_type": "execute_result"
    },
    {
     "data": {
      "text/plain": "<Figure size 1080x720 with 1 Axes>",
      "image/png": "[encoded data removed]"
     },
     "metadata": {
      "needs_background": "light"
     },
     "output_type": "display_data"
    }
   ],
   "source": [
    "df['class'].value_counts(sort = False).plot.bar(color='#1f77b4')"
   ]
  },
  {
   "cell_type": "markdown",
   "metadata": {
    "pycharm": {
     "name": "#%% md\n"
    }
   },
   "source": [
    "---"
   ]
  },
  {
   "cell_type": "markdown",
   "metadata": {
    "pycharm": {
     "name": "#%% md\n"
    }
   },
   "source": [
    "# Data Preparation\n",
    "\n",
    "## Feature extraction\n",
    "\n",
    "In this step, we'll extract the features that we will later used to convert each sentence into a vector. Let's store all the estimates as subdictionaries of a `features_dictionary` dictionary of dictionaries:"
   ]
  },
  {
   "cell_type": "code",
   "execution_count": 4,
   "metadata": {
    "pycharm": {
     "name": "#%%\n"
    }
   },
   "outputs": [],
   "source": [
    "# Keys are feature names, values are dictionaries mapping sentence indices to feature values\n",
    "features_dictionary = dict() "
   ]
  },
  {
   "cell_type": "markdown",
   "metadata": {
    "pycharm": {
     "name": "#%% md\n"
    }
   },
   "source": [
    "**1.** **Number of tokens in each sentence** (0.5 points)\n",
    "\n",
    "Calculate the number of tokens (i.e. linguistic units) in each sentence. \n",
    "\n",
    "Store these numbers in a `features_dictionary` sub-dictionary labelled `tokens_counts`, whose keys are the `sentence_id` and the values are the number of tokens of each sentence. \n",
    "\n",
    "**Answer.**"
   ]
  },
  {
   "cell_type": "code",
   "execution_count": 5,
   "metadata": {
    "pycharm": {
     "name": "#%%\n"
    }
   },
   "outputs": [],
   "source": [
    "tokens_counts = dict()\n",
    "i = 0\n",
    "for sentence in df_dict['raw_sentence'].values():\n",
    "    key = list(df_dict['raw_sentence'].keys())[i]\n",
    "    token_list = sentence.split()\n",
    "    number_of_tokens = len(token_list)\n",
    "    tokens_counts[key] = number_of_tokens \n",
    "    i += 1\n",
    "\n",
    "features_dictionary[\"tokens_counts\"] = tokens_counts"
   ]
  },
  {
   "cell_type": "code",
   "execution_count": 6,
   "metadata": {
    "pycharm": {
     "name": "#%%\n"
    }
   },
   "outputs": [],
   "source": [
    "def test_token_counts():\n",
    "    key = 'tokens_counts'\n",
    "    assert len(features_dictionary) == 1, 'features_dictionary should contain a single key \"tokens_counts\"'\n",
    "    assert len(features_dictionary[key]) == len(df), f\"{len(features_dictionary[key])} {key}, {len(df)} sentences\"\n",
    "    assert all([el >= 0 for el in features_dictionary[key].values()]), f'{key} should be non-negative'\n",
    "    assert all([type(el) == int for el in features_dictionary[key].values()]), f'{key} should be integers'\n",
    "    assert set(features_dictionary[key].keys()) == set(df.index.tolist()), f'{key} indices should match sentence ids'\n",
    "\n",
    "test_token_counts()"
   ]
  },
  {
   "cell_type": "markdown",
   "metadata": {
    "pycharm": {
     "name": "#%% md\n"
    }
   },
   "source": [
    "**2.** **Number of characters in each sentence** (0.5 points)\n",
    "\n",
    "Calculate the number of characters in each **lemmatized sentence**. \n",
    "\n",
    "Store this estimates in a `features_dictionary` sub-dictionary labelled `characters_counts`, whose keys are the `sentence_id` and the values are the number of characters of each sentence. \n",
    "\n",
    "**Answer.**"
   ]
  },
  {
   "cell_type": "code",
   "execution_count": 7,
   "metadata": {
    "pycharm": {
     "name": "#%%\n"
    }
   },
   "outputs": [],
   "source": [
    "characters_counts = dict()\n",
    "i = 0\n",
    "for sentence in df_dict['raw_sentence'].values():\n",
    "    key = list(df_dict['raw_sentence'].keys())[i]\n",
    "    characters_counts[key] = len(sentence) \n",
    "    i += 1\n",
    "\n",
    "features_dictionary[\"characters_counts\"] = characters_counts"
   ]
  },
  {
   "cell_type": "code",
   "execution_count": 8,
   "metadata": {
    "pycharm": {
     "name": "#%%\n"
    }
   },
   "outputs": [],
   "source": [
    "def test_char_counts():\n",
    "    key = 'characters_counts'\n",
    "    assert len(features_dictionary) == 2, 'features_dictionary keys should be \"tokens_counts\" and \"characters_counts\"'\n",
    "    assert len(features_dictionary[key]) == len(df), f\"{len(features_dictionary[key])} {key}, {len(df)} sentences\"\n",
    "    assert all([el >= 0 for el in features_dictionary[key].values()]), f'{key} should be non-negative'\n",
    "    assert all([type(el) == int for el in features_dictionary[key].values()]), f'{key} should be integers'\n",
    "    assert set(features_dictionary[key].keys()) == set(df.index.tolist()), f'{key} indices should match sentence ids'\n",
    "\n",
    "test_char_counts()"
   ]
  },
  {
   "cell_type": "markdown",
   "metadata": {
    "pycharm": {
     "name": "#%% md\n"
    }
   },
   "source": [
    "**3.** **n-grams features** (1 point)\n",
    "\n",
    "As you have learned (or will shortly learn) in *Computationele Linguistiek*, a common way to enhance features is to use $n$-grams, i.e., a contiguous sequence of $n$ words. Write a piece of code that:\n",
    "\n",
    "a) finds the 200 most frequent $n$-grams in our *lemmatized* sentences, with $n$ equal to 1, 2, or 3. Store these $n$-grams in a set called `most_frequent_ngrams`\n",
    "\n",
    "b) counts how many times each of these `most_frequent_ngrams` appears in each sentence and stores these estimates in a dictionary of dictionaries called `ngrams_frequencies`, in which the keys are the $n$-grams (e.g. `my god`) and the values are dictionaries of the form `{sentence_id : occurrences_of_this_ngram}`. \n",
    "\n",
    "*Hint*: the `nltk.ngrams(sequence, n)` method can be used to generate all the possible length-$n$ $n$-grams from a sequence, as in the following examples (ignore eventual `DeprecationWarning` warnings):"
   ]
  },
  {
   "cell_type": "code",
   "execution_count": 11,
   "metadata": {
    "pycharm": {
     "name": "#%%\n"
    }
   },
   "outputs": [
    {
     "name": "stdout",
     "output_type": "stream",
     "text": [
      "[('I', 'came'), ('came', 'here'), ('here', 'to'), ('to', 'rescue'), ('rescue', 'you'), ('you', 'from'), ('from', 'him')]\n",
      "[('I', 'came', 'here'), ('came', 'here', 'to'), ('here', 'to', 'rescue'), ('to', 'rescue', 'you'), ('rescue', 'you', 'from'), ('you', 'from', 'him')]\n"
     ]
    }
   ],
   "source": [
    "print(list(nltk.ngrams([\"I\", \"came\", \"here\", \"to\", \"rescue\", \"you\", \"from\", \"him\"], 2)))\n",
    "print(list(nltk.ngrams([\"I\", \"came\", \"here\", \"to\", \"rescue\", \"you\", \"from\", \"him\"], 3)))"
   ]
  },
  {
   "cell_type": "markdown",
   "metadata": {
    "pycharm": {
     "name": "#%% md\n"
    }
   },
   "source": [
    "**Answer.**"
   ]
  },
  {
   "cell_type": "code",
   "execution_count": 39,
   "outputs": [],
   "source": [
    "most_frequent_ngrams = set()\n",
    "ngram_count = dict()\n",
    "for index,sent in enumerate(df[\"lemmatized_sentence\"]):\n",
    "    lemma_sent = [lemmatized_word for (normal_word,lemmatized_word) in sent] # Get the lemmatized version of the word\n",
    "    for n in range(3):\n",
    "        ngrams = list(nltk.ngrams(lemma_sent, n+1)) # Get ngrams\n",
    "        for ngram in ngrams:\n",
    "            if ngram in ngram_count: # Standard counter\n",
    "                ngram_count[ngram]+=1\n",
    "            else:\n",
    "                ngram_count[ngram] =1\n",
    "\n",
    "counted_ngrams = sorted(ngram_count.items(), key=lambda item:item[1],reverse=True)[0:200] # Sort the most frequent ngrams by count\n",
    "for count in counted_ngrams:\n",
    "    most_frequent_ngrams.add(count[0]) # Most frequent ngrams added to the set\n",
    "\n",
    "sentence_ids = sorted(df_dict['raw_sentence'].keys())\n",
    "ngrams_frequencies = dict()\n",
    "for i in most_frequent_ngrams:\n",
    "    occurences_dict = dict()\n",
    "    for index,sent in enumerate(df[\"lemmatized_sentence\"]): # Most frequent ngram per sentence\n",
    "        lemma_sent = [lemmatized_word for (normal_word,lemmatized_word) in sent]\n",
    "        ngrams = list(nltk.ngrams(lemma_sent, len(i)))\n",
    "        count = 0\n",
    "        for j in ngrams:\n",
    "            if i == j:\n",
    "                count += 1\n",
    "        occurences_dict.update({index : count})\n",
    "    ngrams_frequencies[i] = occurences_dict"
   ],
   "metadata": {
    "collapsed": false,
    "pycharm": {
     "name": "#%%\n"
    }
   }
  },
  {
   "cell_type": "markdown",
   "source": [
    "## Reorganizing our features\n",
    "\n",
    "Up to this moment, we have organized our features into the following dictionaries:\n",
    "\n",
    "1. `ngrams_frequencies`: a group of lexical features, encoding how many times a given sequence of words (i.e. an n-gram) occurs in each sentence\n",
    "\n",
    "1. `features_dictionary`: the numbers of tokens and characters in each sentence"
   ],
   "metadata": {
    "collapsed": false,
    "pycharm": {
     "name": "#%% md\n"
    }
   }
  },
  {
   "cell_type": "markdown",
   "source": [
    "In order to train our models, we're going to convert these dictionaries into matrices, where each row vector represent a single sentence. \n",
    "\n",
    "The following script converts the `features_dictionary` into a `other_features_matrix`, whose columns are the keys of `features_dictionary`, and the rows are the sentence ids. Similarly, it converts `ngrams_frequencies` into `ngrams_matrix`."
   ],
   "metadata": {
    "collapsed": false,
    "pycharm": {
     "name": "#%% md\n"
    }
   }
  },
  {
   "cell_type": "code",
   "execution_count": 29,
   "outputs": [],
   "source": [
    "def to_matrix(feature_dict: dict, sentence_ids: list) -> np.ndarray:\n",
    "    # feature_dict is one of features_dictionary, ngrams_frequencies\n",
    "    feature_names = feature_dict.keys()\n",
    "    # let's create a matrix of zeros and populate it by iterating over our dictionary \n",
    "    feature_matrix = np.zeros((len(sentence_ids), len(feature_names)))\n",
    "    for fix, feature_name in enumerate(feature_names):\n",
    "        for tix, sentence_id in enumerate(sentence_ids):\n",
    "            feature_matrix[tix, fix] = feature_dict[feature_name][sentence_id]\n",
    "    return feature_matrix"
   ],
   "metadata": {
    "collapsed": false,
    "pycharm": {
     "name": "#%%\n"
    }
   }
  },
  {
   "cell_type": "code",
   "execution_count": 31,
   "outputs": [],
   "source": [
    "sentence_ids = sorted(df_dict['raw_sentence'].keys())\n",
    "\n",
    "other_features_matrix = to_matrix(features_dictionary, sentence_ids)\n",
    "ngrams_matrix = to_matrix(ngrams_frequencies, sentence_ids)\n",
    "\n",
    "a = 1"
   ],
   "metadata": {
    "collapsed": false,
    "pycharm": {
     "name": "#%%\n"
    }
   }
  },
  {
   "cell_type": "markdown",
   "source": [
    "## Target variable\n",
    "\n",
    "Next, we create an array with the class label for each sentence."
   ],
   "metadata": {
    "collapsed": false,
    "pycharm": {
     "name": "#%% md\n"
    }
   }
  },
  {
   "cell_type": "code",
   "execution_count": 32,
   "outputs": [],
   "source": [
    "sentence_classes = np.asarray([df_dict['class'][i] for i in sentence_ids])"
   ],
   "metadata": {
    "collapsed": false,
    "pycharm": {
     "name": "#%%\n"
    }
   }
  },
  {
   "cell_type": "markdown",
   "source": [
    "## Weighting the lexical feature frequencies\n",
    "\n",
    "Absolute frequencies may be a deceiving source of information: a word may appear frequently in a sentence simply due to its overall high frequency, while the use of an overall rare word may be an useful semantic or pragmatic clue. As a consequence, it is common practice to **weight** the frequency of a word so as to take into account its overall distribution (sometimes, along with the distribution of all the words in the corpus). \n",
    "\n",
    "Probably the most widely used statistic in information retrieval and text mining is the [term frequency-inverse document frequency (tf-idf)](https://en.wikipedia.org/wiki/Tf%E2%80%93idf), in which the weigth of each term $t$ in each document $d$ is estimated as:"
   ],
   "metadata": {
    "collapsed": false,
    "pycharm": {
     "name": "#%% md\n"
    }
   }
  },
  {
   "cell_type": "markdown",
   "source": [
    "$$\\text{tf-idf}_{t,d} = \\text{tf}_{t,d} \\times \\text{idf}_t = \\text{tf}_{t,d} \\times log \\left( \\frac{N}{\\text{df}_t}\\right)$$"
   ],
   "metadata": {
    "collapsed": false,
    "pycharm": {
     "name": "#%% md\n"
    }
   }
  },
  {
   "cell_type": "markdown",
   "source": [
    "- where:\n",
    "    - tf$_{t,d}$ is the number of occurrences of term $t$ in document $d$ (the term frequency)\n",
    "    - $N$ is the total number of documents\n",
    "    - df$_t$ is the number of documents in which term $t$ appears (the document frequency)\n",
    "    \n",
    "We transform `ngrams_matrix` into tf-idf representations called `ngrams_matrix_tfidf` using the `TfidfTransformer()` from sklearn (see the [docs](http://scikit-learn.org/stable/modules/generated/sklearn.feature_extraction.text.TfidfTransformer.html) for more info)."
   ],
   "metadata": {
    "collapsed": false,
    "pycharm": {
     "name": "#%% md\n"
    }
   }
  },
  {
   "cell_type": "code",
   "execution_count": 33,
   "outputs": [],
   "source": [
    "# let's weight our matrix (norm=\"l1\" because we chose to adjust the term frequency for document length)\n",
    "ngrams_matrix_tfidf = TfidfTransformer(norm=\"l1\").fit_transform(ngrams_matrix).todense()"
   ],
   "metadata": {
    "collapsed": false,
    "pycharm": {
     "name": "#%%\n"
    }
   }
  },
  {
   "cell_type": "markdown",
   "source": [
    "## Merging our feature matrices\n",
    "\n",
    "**4. Merging our feature matrices** (0.5 points)\n",
    "\n",
    "Create a feature matrix by merging the non-lexical features with the lexical feature set\n",
    "\n",
    "- `features_set_ngrams`, obtained by merging `other_features_matrix` and `ngrams_matrix_tfidf`\n",
    "\n",
    "\n",
    "*Hint*: the numpy.concatenate() method can be used to concatenate two matrices\n",
    "\n",
    "**Answer.**"
   ],
   "metadata": {
    "collapsed": false,
    "pycharm": {
     "name": "#%% md\n"
    }
   }
  },
  {
   "cell_type": "code",
   "execution_count": 34,
   "outputs": [],
   "source": [
    "features_set_ngrams = np.concatenate((other_features_matrix, ngrams_matrix_tfidf), axis=1)"
   ],
   "metadata": {
    "collapsed": false,
    "pycharm": {
     "name": "#%%\n"
    }
   }
  },
  {
   "cell_type": "markdown",
   "source": [
    "## Dataset splitting\n",
    "\n",
    "**5. Development and Test Set** (0.5 points)\n",
    "\n",
    "As a first step, split the whole dataset into a development and a test set: randomly select 10% of the sentences to be used in the next phase of this activity (i.e. \"Test the best performing model\"). This is done mainly to prevent our models from over-fitting the training data.\n",
    "\n",
    "The remaining 90% of our sentences will compose the development set on which we are going to train our model.\n",
    "\n",
    "Divide the ids of our matrix into a test set (approximately 10% of the ids of the rows of our matrices) and a development set (the remaining rows)"
   ],
   "metadata": {
    "collapsed": false,
    "pycharm": {
     "name": "#%% md\n"
    }
   }
  },
  {
   "cell_type": "markdown",
   "source": [
    "**Answer.**"
   ],
   "metadata": {
    "collapsed": false,
    "pycharm": {
     "name": "#%% md\n"
    }
   }
  },
  {
   "cell_type": "code",
   "execution_count": 35,
   "outputs": [],
   "source": [
    "np.random.shuffle(sentence_ids)\n",
    "testset = sentence_ids[int(len(sentence_ids) * .0) : int(len(sentence_ids) * .10)]\n",
    "developset = sentence_ids[int(len(sentence_ids) * .10) : int(len(sentence_ids) * 1)]"
   ],
   "metadata": {
    "collapsed": false,
    "pycharm": {
     "name": "#%%\n"
    }
   }
  },
  {
   "cell_type": "markdown",
   "source": [
    "---"
   ],
   "metadata": {
    "collapsed": false,
    "pycharm": {
     "name": "#%% md\n"
    }
   }
  },
  {
   "cell_type": "markdown",
   "source": [
    "# Logistic Regression"
   ],
   "metadata": {
    "collapsed": false,
    "pycharm": {
     "name": "#%% md\n"
    }
   }
  },
  {
   "cell_type": "markdown",
   "source": [
    "In the second step, we will see how a Machine Learning algorithm we discussed in class, Logistic Regression, performs with the dataset we've created in the previous phase. For implementing Logistic Regression, we'll use the `linear_model` module available in the `scikit-learn` library (**please note that you are not allowed to use any other module of this library**)"
   ],
   "metadata": {
    "collapsed": false,
    "pycharm": {
     "name": "#%% md\n"
    }
   }
  },
  {
   "cell_type": "markdown",
   "source": [
    "## Implementing our ML algorithm\n",
    "\n",
    "The following example shows how you can use the `scikit-learn` library to implement Logistic Regression:"
   ],
   "metadata": {
    "collapsed": false,
    "pycharm": {
     "name": "#%% md\n"
    }
   }
  },
  {
   "cell_type": "code",
   "execution_count": 15,
   "outputs": [],
   "source": [
    "# some dummy datasets\n",
    "\n",
    "X_train = np.random.randint(3, size=(20, 6))  # dummy datatset of training data\n",
    "X_test = np.random.randint(3, size=(5, 6))  # dummy datatset of test data\n",
    "\n",
    "y_train = np.random.randint(3, size=20)  # dummy labels for the training data\n",
    "y_test = np.random.randint(3, size=5)  # dummy labels for the test data"
   ],
   "metadata": {
    "collapsed": false,
    "pycharm": {
     "name": "#%%\n"
    }
   }
  },
  {
   "cell_type": "code",
   "execution_count": 16,
   "outputs": [],
   "source": [
    "# a minimal Logistic Regression\n",
    "\n",
    "# Create logistic regression object\n",
    "regr = linear_model.LogisticRegression(solver='lbfgs', multi_class='multinomial')\n",
    "\n",
    "#Train the model using the training sets\n",
    "regr.fit(X_train, y_train)\n",
    "\n",
    "#Predict the response for test dataset\n",
    "y_pred = regr.predict(X_test)"
   ],
   "metadata": {
    "collapsed": false,
    "pycharm": {
     "name": "#%%\n"
    }
   }
  },
  {
   "cell_type": "markdown",
   "source": [
    "Having trained a model, you would then estimate its performance by comparing `y_pred` (the predicted labels) and `y_test` (the gold standard)"
   ],
   "metadata": {
    "collapsed": false,
    "pycharm": {
     "name": "#%% md\n"
    }
   }
  },
  {
   "cell_type": "markdown",
   "source": [
    "## Performance Measures\n",
    "\n",
    "To evaluate the quality of a model, we generate predictions on a held-out set (for which we have the correct annotations) and we calculate:\n",
    "\n",
    "**Accuracy**: the percentage of inputs documents (i.e., sentences) correctly classified\n",
    "\n",
    "**Precision, Recall and F-measure** are calculated from the following estimates:\n",
    "\n",
    "- True Positives: fraction of sentences that we correctly identified as relevant\n",
    "- True Negatives: fraction of sentences that we correctly identified as irrelevant\n",
    "- False Positives (or Type I errors): irrelevant sentences that we incorrectly identified as relevant\n",
    "- False Negatives (or Type II errors): relevant sentences that we incorrectly identified as irrelevant\n",
    "\n",
    "<img src=\"https://www.nltk.org/images/precision-recall.png\" alt=\"drawing\" width=\"600\"/>\n",
    "\n",
    "- **Precision**: how many of the items that we identified as relevant were actually relevant: $\\frac{\\text{TP}}{(\\text{TP}+\\text{FP})}$.\n",
    "\n",
    "\n",
    "- **Recall**: how many of the relevant items we identified we identified as relevant, is $\\frac{\\text{TP}}{(\\text{TP}+\\text{FN})}$,\n",
    "\n",
    "\n",
    "- **F$_1$-measure**: the harmonic mean of the precision and recall: $2 \\times \\frac{\\text{Precision} \\times \\text{Recall}}{\\text{Precision} + \\text{Recall}}$"
   ],
   "metadata": {
    "collapsed": false,
    "pycharm": {
     "name": "#%% md\n"
    }
   }
  },
  {
   "cell_type": "markdown",
   "source": [
    "## Cross-validation\n",
    "\n",
    "Below we will train our logistic regression model with two feature sets:\n",
    "\n",
    "- `other_features_matrix` alone\n",
    "\n",
    "- `features_set_ngrams`, which includes `other_features_matrix` as well as our $n$-grams features\n",
    "\n",
    "When comparing different models, it is better to perform multiple evaluations on different portions of our develpment set, and then combining the scores from those evaluations. This techinique is called **cross validation**.\n",
    "\n",
    "Now, we will divide our development set into **5 subsets** called folds. For each fold, we train our models using all the data in the develpment set except those in this fold, and then we test our models on this fold. We then combine our evaluation to compute the overal score of our models. "
   ],
   "metadata": {
    "collapsed": false,
    "pycharm": {
     "name": "#%% md\n"
    }
   }
  },
  {
   "cell_type": "markdown",
   "source": [
    "### Using NumPy\n",
    "\n",
    "Some of the computations you will perform below, such as creating a training set from the development set, will require selecting some elements from a NumPy array or matrix. We actively encourage you to perform such operations using matrices entirely, i.e., using NumPy methods such as `numpy.take`, rather than to create `for` loops. Practice with NumPy will be essential in your follow-up course *Machine Learning*."
   ],
   "metadata": {
    "collapsed": false,
    "pycharm": {
     "name": "#%% md\n"
    }
   }
  },
  {
   "cell_type": "markdown",
   "source": [
    "**6. Logistic regression training and cross validation** (2 points). Follows these steps to compare our settings:\n",
    "\n",
    "1. Shuffle development dataset (you may consider using the `random.shuffle()` method)\n",
    "\n",
    "2. Split the shuffled development set into 5 groups (you may consider using the `np.array_split()` method)\n",
    "\n",
    "3. For each fold:\n",
    "    - take the fold as the held-out data set and the remaining folds together as a training set\n",
    "    - train Logistic Regression with each feature setting (lemmas vs. ngrams) on the training set\n",
    "    - evaluate each ML algorithm + feature setting on the held-out set\n",
    "    - for each model (manually, i.e., without using existing libraries) calculate accuracy, precision, recall and f-measure and store these results\n",
    "    \n",
    "4. for each feature setting, average the performance measures over all the folds in cross-validation (this is called **macro-averaging**)\n",
    "\n",
    "5. choose the best performing feature setting"
   ],
   "metadata": {
    "collapsed": false,
    "pycharm": {
     "name": "#%% md\n"
    }
   }
  },
  {
   "cell_type": "markdown",
   "source": [
    "**Answer.**"
   ],
   "metadata": {
    "collapsed": false,
    "pycharm": {
     "name": "#%% md\n"
    }
   }
  },
  {
   "cell_type": "code",
   "execution_count": 36,
   "outputs": [],
   "source": [
    "def evaluate(y_pred, y_target):\n",
    "    tn = 0\n",
    "    fp = 0\n",
    "    fn = 0\n",
    "    tp = 0\n",
    "    \n",
    "    for i in range(len(y_pred)):\n",
    "        if y_pred[i] == 1:\n",
    "            if y_target[i] == 1:\n",
    "                tp += 1\n",
    "            else:\n",
    "                fp += 1\n",
    "        if y_pred[i] == 0:\n",
    "            if y_target[i] == 1:\n",
    "                fn += 1\n",
    "            else:\n",
    "                tn += 1\n",
    "                \n",
    "    accuracy = (tp + tn) / len(y_pred)\n",
    "    precision = tp / (tp + fp)\n",
    "    recall = tp / (tp + fn)\n",
    "    fmeasure = 2 * ((precision*recall)/(precision+recall))\n",
    "    return accuracy, precision, recall, fmeasure, tp, tn, fp, fn\n",
    "    \n",
    "def logistic_regression():\n",
    "    np.random.shuffle(developset)\n",
    "    np.warnings.filterwarnings('ignore', category=np.VisibleDeprecationWarning) #Disable warnings (problem is generated in regr.fit(not my code))\n",
    "\n",
    "    accuracy_other = []\n",
    "    precisions_other = []\n",
    "    recalls_other = []\n",
    "    fmeasures_other = []\n",
    "\n",
    "    accuracy_ngrams = []\n",
    "    precisions_ngrams = []\n",
    "    recalls_ngrams = []\n",
    "    fmeasures_ngrams = []\n",
    "\n",
    "    features = [other_features_matrix, features_set_ngrams]\n",
    "    featurecount = 0\n",
    "    foldcount = 0\n",
    "    split_developset = np.array_split(developset, 5)\n",
    "    for fold in split_developset:\n",
    "        heldout = fold\n",
    "        trainingset = np.delete(split_developset, foldcount, 0)\n",
    "\n",
    "        for feature in features:\n",
    "\n",
    "            # Create logistic regression object\n",
    "            regr = linear_model.LogisticRegression(solver='lbfgs', multi_class='multinomial')\n",
    "\n",
    "            #Train the model using the feature_matrix\n",
    "            wanted_sentence_ids = []\n",
    "            for i in trainingset:\n",
    "                for j in i:\n",
    "                    wanted_sentence_ids.append(j)\n",
    "\n",
    "            x_train = feature[wanted_sentence_ids]\n",
    "            y_train = sentence_classes.T[wanted_sentence_ids]\n",
    "            regr.fit(x_train, y_train)\n",
    "\n",
    "            #Predict the response for test dataset\n",
    "            heldout_sentence_ids = []\n",
    "            for i in heldout:\n",
    "                heldout_sentence_ids.append(i)\n",
    "            x_test = feature[heldout_sentence_ids]\n",
    "            y_pred = regr.predict(x_test)\n",
    "\n",
    "            if featurecount in [0, 2, 4, 6, 8]:\n",
    "                fold_eval = evaluate(y_pred, sentence_classes)\n",
    "                accuracy_other.append(fold_eval[0])\n",
    "                precisions_other.append(fold_eval[1])\n",
    "                recalls_other.append(fold_eval[2])\n",
    "                fmeasures_other.append(fold_eval[3])\n",
    "            else:\n",
    "                fold_eval = evaluate(y_pred, sentence_classes)\n",
    "                accuracy_ngrams.append(fold_eval[0])\n",
    "                precisions_ngrams.append(fold_eval[1])\n",
    "                recalls_ngrams.append(fold_eval[2])\n",
    "                fmeasures_ngrams.append(fold_eval[3])\n",
    "\n",
    "            featurecount += 1\n",
    "    return accuracy_other, precisions_other, recalls_other, fmeasures_other, accuracy_ngrams, precisions_ngrams, recalls_ngrams, fmeasures_ngrams\n"
   ],
   "metadata": {
    "collapsed": false,
    "pycharm": {
     "name": "#%%\n"
    }
   }
  },
  {
   "cell_type": "markdown",
   "metadata": {
    "pycharm": {
     "name": "#%% md\n"
    }
   },
   "source": [
    "## Model evaluation on a test set\n",
    "\n",
    "**7. Test the best performing model** (1 point)\n",
    "\n",
    "Assess the performance of the better model identified in the previous step. For this evaluation, we will use as training set the full development set that we've used fro the 5-folds cross-validation, corresponding to 90% of our sentences). We will then evaluate out model on the remaining 10% of sentences that we've never used (up to now), i.e. the `test set`.\n",
    "\n",
    "We will compare the prediction of our model against the human annotations and we will **manually** calculate:\n",
    "\n",
    "- its accuracy\n",
    "\n",
    "- its precision, recall and f-measure\n",
    "\n",
    "- the confusion matrix (fell free to use the `matplotlib.pyplot.imshow()` method to plot it, but bear in mind that the confusion matrix should be calculated manually)"
   ]
  },
  {
   "cell_type": "markdown",
   "metadata": {
    "pycharm": {
     "name": "#%% md\n"
    }
   },
   "source": [
    "**Answer.**"
   ]
  },
  {
   "cell_type": "code",
   "execution_count": 37,
   "metadata": {
    "pycharm": {
     "name": "#%%\n"
    }
   },
   "outputs": [
    {
     "name": "stderr",
     "output_type": "stream",
     "text": [
      "C:\\Users\\Thijmen\\anaconda3\\lib\\site-packages\\sklearn\\linear_model\\_logistic.py:763: ConvergenceWarning: lbfgs failed to converge (status=1):\n",
      "STOP: TOTAL NO. of ITERATIONS REACHED LIMIT.\n",
      "\n",
      "Increase the number of iterations (max_iter) or scale the data as shown in:\n",
      "    https://scikit-learn.org/stable/modules/preprocessing.html\n",
      "Please also refer to the documentation for alternative solver options:\n",
      "    https://scikit-learn.org/stable/modules/linear_model.html#logistic-regression\n",
      "  n_iter_i = _check_optimize_result(\n",
      "C:\\Users\\Thijmen\\anaconda3\\lib\\site-packages\\sklearn\\linear_model\\_logistic.py:763: ConvergenceWarning: lbfgs failed to converge (status=1):\n",
      "STOP: TOTAL NO. of ITERATIONS REACHED LIMIT.\n",
      "\n",
      "Increase the number of iterations (max_iter) or scale the data as shown in:\n",
      "    https://scikit-learn.org/stable/modules/preprocessing.html\n",
      "Please also refer to the documentation for alternative solver options:\n",
      "    https://scikit-learn.org/stable/modules/linear_model.html#logistic-regression\n",
      "  n_iter_i = _check_optimize_result(\n",
      "C:\\Users\\Thijmen\\anaconda3\\lib\\site-packages\\sklearn\\linear_model\\_logistic.py:763: ConvergenceWarning: lbfgs failed to converge (status=1):\n",
      "STOP: TOTAL NO. of ITERATIONS REACHED LIMIT.\n",
      "\n",
      "Increase the number of iterations (max_iter) or scale the data as shown in:\n",
      "    https://scikit-learn.org/stable/modules/preprocessing.html\n",
      "Please also refer to the documentation for alternative solver options:\n",
      "    https://scikit-learn.org/stable/modules/linear_model.html#logistic-regression\n",
      "  n_iter_i = _check_optimize_result(\n",
      "C:\\Users\\Thijmen\\anaconda3\\lib\\site-packages\\sklearn\\linear_model\\_logistic.py:763: ConvergenceWarning: lbfgs failed to converge (status=1):\n",
      "STOP: TOTAL NO. of ITERATIONS REACHED LIMIT.\n",
      "\n",
      "Increase the number of iterations (max_iter) or scale the data as shown in:\n",
      "    https://scikit-learn.org/stable/modules/preprocessing.html\n",
      "Please also refer to the documentation for alternative solver options:\n",
      "    https://scikit-learn.org/stable/modules/linear_model.html#logistic-regression\n",
      "  n_iter_i = _check_optimize_result(\n"
     ]
    },
    {
     "name": "stdout",
     "output_type": "stream",
     "text": [
      "Result of other_features_matrix:\n",
      "Accuracy = 0.5005440094861153\n",
      "Precision = 0.5271594240416613\n",
      "Recalls = 0.44918190067873265\n",
      "F-Measure = 0.4850419656571766\n",
      "\n",
      "Result of feature_set_matrix:\n",
      "Accuracy = 0.5022331599790859\n",
      "Precision = 0.5242083444353325\n",
      "Recalls = 0.5344836561412507\n",
      "F-Measure = 0.5292819895862632\n"
     ]
    },
    {
     "name": "stderr",
     "output_type": "stream",
     "text": [
      "C:\\Users\\Thijmen\\anaconda3\\lib\\site-packages\\sklearn\\linear_model\\_logistic.py:763: ConvergenceWarning: lbfgs failed to converge (status=1):\n",
      "STOP: TOTAL NO. of ITERATIONS REACHED LIMIT.\n",
      "\n",
      "Increase the number of iterations (max_iter) or scale the data as shown in:\n",
      "    https://scikit-learn.org/stable/modules/preprocessing.html\n",
      "Please also refer to the documentation for alternative solver options:\n",
      "    https://scikit-learn.org/stable/modules/linear_model.html#logistic-regression\n",
      "  n_iter_i = _check_optimize_result(\n"
     ]
    }
   ],
   "source": [
    "x = logistic_regression()\n",
    "avg_accuracy_other = sum(x[0]) / len(x[0])\n",
    "avg_precision_other = sum(x[1]) / len(x[1])\n",
    "avg_recalls_other = sum(x[2]) / len(x[2])\n",
    "avg_fmeasures_other = sum(x[3]) / len(x[3])\n",
    "\n",
    "avg_accuracy_ngrams = sum(x[4]) / len(x[4])\n",
    "avg_precision_ngrams = sum(x[5]) / len(x[5])\n",
    "avg_recalls_ngrams = sum(x[6]) / len(x[6])\n",
    "avg_fmeasures_ngrams = sum(x[7]) / len(x[7])\n",
    "\n",
    "\n",
    "print(\"Result of other_features_matrix:\"\n",
    "      f\"\\nAccuracy = {avg_accuracy_other}\"\n",
    "      f\"\\nPrecision = {avg_precision_other}\"\n",
    "      f\"\\nRecalls = {avg_recalls_other}\"\n",
    "      f\"\\nF-Measure = {avg_fmeasures_other}\"\n",
    "      \"\\n\"\n",
    "      \"\\nResult of feature_set_matrix:\"\n",
    "      f\"\\nAccuracy = {avg_accuracy_ngrams}\"\n",
    "      f\"\\nPrecision = {avg_precision_ngrams}\"\n",
    "      f\"\\nRecalls = {avg_recalls_ngrams}\"\n",
    "      f\"\\nF-Measure = {avg_fmeasures_ngrams}\"\n",
    "      )"
   ]
  },
  {
   "cell_type": "markdown",
   "metadata": {
    "pycharm": {
     "name": "#%% md\n"
    }
   },
   "source": [
    "---"
   ]
  },
  {
   "cell_type": "markdown",
   "metadata": {
    "pycharm": {
     "name": "#%% md\n"
    }
   },
   "source": [
    "# Neural Networks\n",
    "\n",
    "Now instead of logistic regression we will experiment with neural networks for this classification task. For this, you will need to install tensorflow (e.g. via Anaconda) if you haven't already."
   ]
  },
  {
   "cell_type": "code",
   "execution_count": 41,
   "metadata": {
    "pycharm": {
     "name": "#%%\n"
    }
   },
   "outputs": [],
   "source": [
    "import tensorflow as tf"
   ]
  },
  {
   "cell_type": "markdown",
   "metadata": {
    "pycharm": {
     "name": "#%% md\n"
    }
   },
   "source": [
    "The goal of this exercise is not to find a classifier with the best out-of-sample performance, but rather to see the practical impact of various choices in setting up a neural network (some of which you have seen in the lecture, some not).\n",
    "\n",
    "We will use Keras, which is a higher-level interface that can be used on top of tensorflow. It makes many common deep learning tasks very easy to perform. The following code sets up a simple neural network with one hidden layer of 20 neurons. We will use the Stochastic Gradient Descent (SGD) optimizer; see documentation here: https://www.tensorflow.org/api_docs/python/tf/keras/optimizers/SGD"
   ]
  },
  {
   "cell_type": "code",
   "execution_count": 42,
   "metadata": {
    "pycharm": {
     "name": "#%%\n"
    }
   },
   "outputs": [],
   "source": [
    "model = tf.keras.models.Sequential([\n",
    "    tf.keras.layers.Dense(20, activation='tanh'),\n",
    "    tf.keras.layers.Dense(2, activation='softmax')\n",
    "])\n",
    "sgd = tf.keras.optimizers.SGD()\n",
    "model.compile(optimizer=sgd,\n",
    "              loss='sparse_categorical_crossentropy',\n",
    "              metrics=['accuracy'])"
   ]
  },
  {
   "cell_type": "markdown",
   "metadata": {
    "pycharm": {
     "name": "#%% md\n"
    }
   },
   "source": [
    "The hidden layer uses `tanh` as its nonlinear activation function. The output layer uses `softmax`, which is also a smooth nonlinear function, but has the special property that it transforms an arbitrary real-valued vector into a vector of numbers between 0 and 1, summing to 1. These values are interpreted as likelihoods for the classes, just as for logistic regression. The network is trained to minimize the loss function `sparse_categorical_crossentropy`, which corresponds to maximizing that likelihood, again like logistic regression.\n",
    "\n",
    "**Note:** A loss function `categorical_crossentropy` also exists in Keras. If the labels were encoded as \"one-hot\" vectors instead of as integers, `categorical_crossentropy` would be the right loss function to use instead of the `sparse_` one."
   ]
  },
  {
   "cell_type": "markdown",
   "metadata": {
    "pycharm": {
     "name": "#%% md\n"
    }
   },
   "source": [
    "**8. Train a simple neural network** Using `features_set_ngrams`, fit this model to your development data (with `epochs=30`; in each \"epoch\", all data points are passed through the network forward and backward once). Then evaluate the model on the test data (1 points)"
   ]
  },
  {
   "cell_type": "markdown",
   "metadata": {
    "pycharm": {
     "name": "#%% md\n"
    }
   },
   "source": [
    "**Answer.**"
   ]
  },
  {
   "cell_type": "code",
   "execution_count": 48,
   "metadata": {
    "pycharm": {
     "name": "#%%\n"
    }
   },
   "outputs": [
    {
     "name": "stdout",
     "output_type": "stream",
     "text": [
      "Epoch 1/30\n",
      "638/638 [==============================] - 1s 1ms/step - loss: 0.5439 - accuracy: 0.7406\n",
      "Epoch 2/30\n",
      "638/638 [==============================] - 1s 1ms/step - loss: 0.5540 - accuracy: 0.7358\n",
      "Epoch 3/30\n",
      "638/638 [==============================] - 1s 1ms/step - loss: 0.5436 - accuracy: 0.7438\n",
      "Epoch 4/30\n",
      "638/638 [==============================] - 1s 1ms/step - loss: 0.5483 - accuracy: 0.7399\n",
      "Epoch 5/30\n",
      "638/638 [==============================] - 1s 1ms/step - loss: 0.5431 - accuracy: 0.7468\n",
      "Epoch 6/30\n",
      "638/638 [==============================] - 1s 1ms/step - loss: 0.5490 - accuracy: 0.7395\n",
      "Epoch 7/30\n",
      "638/638 [==============================] - 1s 1ms/step - loss: 0.5359 - accuracy: 0.7504\n",
      "Epoch 8/30\n",
      "638/638 [==============================] - 1s 1ms/step - loss: 0.5451 - accuracy: 0.7437\n",
      "Epoch 9/30\n",
      "638/638 [==============================] - 1s 1ms/step - loss: 0.5422 - accuracy: 0.7441\n",
      "Epoch 10/30\n",
      "638/638 [==============================] - 1s 1ms/step - loss: 0.5331 - accuracy: 0.7533\n",
      "Epoch 11/30\n",
      "638/638 [==============================] - 1s 1ms/step - loss: 0.5439 - accuracy: 0.7432\n",
      "Epoch 12/30\n",
      "638/638 [==============================] - 1s 1ms/step - loss: 0.5395 - accuracy: 0.7472\n",
      "Epoch 13/30\n",
      "638/638 [==============================] - 1s 1ms/step - loss: 0.5461 - accuracy: 0.7406\n",
      "Epoch 14/30\n",
      "638/638 [==============================] - 1s 1ms/step - loss: 0.5414 - accuracy: 0.7485\n",
      "Epoch 15/30\n",
      "638/638 [==============================] - 1s 1ms/step - loss: 0.5421 - accuracy: 0.7459\n",
      "Epoch 16/30\n",
      "638/638 [==============================] - 1s 1ms/step - loss: 0.5388 - accuracy: 0.7510\n",
      "Epoch 17/30\n",
      "638/638 [==============================] - 1s 1ms/step - loss: 0.5439 - accuracy: 0.7477\n",
      "Epoch 18/30\n",
      "638/638 [==============================] - 1s 1ms/step - loss: 0.5320 - accuracy: 0.7554\n",
      "Epoch 19/30\n",
      "638/638 [==============================] - 1s 1ms/step - loss: 0.5429 - accuracy: 0.7452\n",
      "Epoch 20/30\n",
      "638/638 [==============================] - 1s 1ms/step - loss: 0.5339 - accuracy: 0.7523\n",
      "Epoch 21/30\n",
      "638/638 [==============================] - 1s 1ms/step - loss: 0.5445 - accuracy: 0.7432\n",
      "Epoch 22/30\n",
      "638/638 [==============================] - 1s 1ms/step - loss: 0.5392 - accuracy: 0.7530\n",
      "Epoch 23/30\n",
      "638/638 [==============================] - 1s 1ms/step - loss: 0.5351 - accuracy: 0.7527\n",
      "Epoch 24/30\n",
      "638/638 [==============================] - 1s 1ms/step - loss: 0.5587 - accuracy: 0.7325\n",
      "Epoch 25/30\n",
      "638/638 [==============================] - 1s 1ms/step - loss: 0.5381 - accuracy: 0.7514\n",
      "Epoch 26/30\n",
      "638/638 [==============================] - 1s 1ms/step - loss: 0.5357 - accuracy: 0.7523\n",
      "Epoch 27/30\n",
      "638/638 [==============================] - 1s 1ms/step - loss: 0.5338 - accuracy: 0.7545\n",
      "Epoch 28/30\n",
      "638/638 [==============================] - 1s 1ms/step - loss: 0.5393 - accuracy: 0.7507\n",
      "Epoch 29/30\n",
      "638/638 [==============================] - 1s 1ms/step - loss: 0.5262 - accuracy: 0.7605\n",
      "Epoch 30/30\n",
      "638/638 [==============================] - 1s 1ms/step - loss: 0.5261 - accuracy: 0.7609\n"
     ]
    },
    {
     "data": {
      "text/plain": "<keras.callbacks.History at 0x1e3f83216a0>"
     },
     "execution_count": 48,
     "metadata": {},
     "output_type": "execute_result"
    }
   ],
   "source": [
    "import time\n",
    "ids = np.array([i for i, v in enumerate(features_set_ngrams)])\n",
    "trainings_x = features_set_ngrams[ids]\n",
    "\n",
    "trainings_y = sentence_classes[ids]\n",
    "\n",
    "model.fit(trainings_x, trainings_y, epochs=30)"
   ]
  },
  {
   "cell_type": "markdown",
   "metadata": {
    "pycharm": {
     "name": "#%% md\n"
    }
   },
   "source": [
    "**9. Neural network parameter exploration** (2 points)\n",
    "\n",
    "The `model.fit` function returns a History object, which stores among other things the training (in-sample) losses per epoch. If the History object is called `hist[i]`, the losses are `hist[i].history['loss']`.\n",
    "\n",
    "Use this to plot the training losses per epoch for three different values of the `learning_rate` (the step size $\\eta$, or \"eta\", used by stochastic gradient descent): 0.1, 0.01 (the default), and 0.001. (To write your solution, start by copy-pasting the code from above and putting a for-loop around it.)\n",
    "What do you observe?\n",
    "\n",
    "Similarly experiment with each of the following aspects of the neural network:\n",
    "* You can pass different values of `batch_size` to `model.fit`. For `batch_size=1`, we get standard Stochastic Gradient Descent (SGD) where the gradient is computed for one data point at a time. For a batch size at least as large as the training data, the gradient is computed for all these data points together (this is batch GD). The default value of 32 is in between these two extremes (this is called a \"minibatch\");\n",
    "* Gradient descent only looks at the gradient, and only at the point of the current weights. More advanced optimizers take more information into account, such as second derivatives and recently visited points. A popular choice is `optimizer='adam'` instead of `optimizer=sgd`;\n",
    "* The number of epochs used when fitting the model (if the 30 epochs we chose before led to worse performance than logistic regression, try increasing the number of epochs; see if the accuracy seems to be converging);\n",
    "* The activation function in the hidden layer (e.g. `'relu'` instead of `'tanh'`);\n",
    "* The number of neurons in the hidden layer.\n",
    "\n",
    "For each of these, write code that tries out models with different values of that setting, while keeping all other settings constant at values you choose based on the previous experiments. Your code must produce relevant output when the notebook is run. This can be one of many different things, e.g. training losses per epoch, test accuracy, computation time, ..., so for each setting, pick one that you expect to be interesting, and write code to measure it. In the corresponding text cell, write down your conclusions from your code's output."
   ]
  },
  {
   "cell_type": "markdown",
   "metadata": {
    "pycharm": {
     "name": "#%% md\n"
    }
   },
   "source": [
    "**Answer.**"
   ]
  },
  {
   "cell_type": "code",
   "execution_count": 62,
   "metadata": {
    "pycharm": {
     "name": "#%%\n"
    }
   },
   "outputs": [
    {
     "name": "stdout",
     "output_type": "stream",
     "text": [
      "Epoch 1/30\n",
      "638/638 [==============================] - 1s 1ms/step - loss: 0.7090 - accuracy: 0.5023\n",
      "Epoch 2/30\n",
      "638/638 [==============================] - 1s 2ms/step - loss: 0.7089 - accuracy: 0.4987\n",
      "Epoch 3/30\n",
      "638/638 [==============================] - 2s 3ms/step - loss: 0.7134 - accuracy: 0.4961\n",
      "Epoch 4/30\n",
      "638/638 [==============================] - 1s 1ms/step - loss: 0.7127 - accuracy: 0.4997\n",
      "Epoch 5/30\n",
      "638/638 [==============================] - 2s 3ms/step - loss: 0.7126 - accuracy: 0.4957\n",
      "Epoch 6/30\n",
      "638/638 [==============================] - 2s 3ms/step - loss: 0.7100 - accuracy: 0.5041\n",
      "Epoch 7/30\n",
      "638/638 [==============================] - 1s 2ms/step - loss: 0.7092 - accuracy: 0.5023\n",
      "Epoch 8/30\n",
      "638/638 [==============================] - 3s 4ms/step - loss: 0.7103 - accuracy: 0.4999\n",
      "Epoch 9/30\n",
      "638/638 [==============================] - 1s 2ms/step - loss: 0.7127 - accuracy: 0.4980\n",
      "Epoch 10/30\n",
      "638/638 [==============================] - 1s 1ms/step - loss: 0.7101 - accuracy: 0.5020\n",
      "Epoch 11/30\n",
      "638/638 [==============================] - 1s 2ms/step - loss: 0.7088 - accuracy: 0.4988\n",
      "Epoch 12/30\n",
      "638/638 [==============================] - 2s 3ms/step - loss: 0.7090 - accuracy: 0.5071\n",
      "Epoch 13/30\n",
      "638/638 [==============================] - 2s 3ms/step - loss: 0.7120 - accuracy: 0.4973\n",
      "Epoch 14/30\n",
      "638/638 [==============================] - 2s 3ms/step - loss: 0.7102 - accuracy: 0.4974\n",
      "Epoch 15/30\n",
      "638/638 [==============================] - 3s 5ms/step - loss: 0.7095 - accuracy: 0.5013\n",
      "Epoch 16/30\n",
      "638/638 [==============================] - 2s 4ms/step - loss: 0.7117 - accuracy: 0.4958\n",
      "Epoch 17/30\n",
      "638/638 [==============================] - 2s 3ms/step - loss: 0.7073 - accuracy: 0.5044\n",
      "Epoch 18/30\n",
      "638/638 [==============================] - 2s 3ms/step - loss: 0.7086 - accuracy: 0.5049\n",
      "Epoch 19/30\n",
      "638/638 [==============================] - 2s 2ms/step - loss: 0.7085 - accuracy: 0.5008\n",
      "Epoch 20/30\n",
      "638/638 [==============================] - 1s 1ms/step - loss: 0.7075 - accuracy: 0.5053\n",
      "Epoch 21/30\n",
      "638/638 [==============================] - 1s 1ms/step - loss: 0.7093 - accuracy: 0.5001\n",
      "Epoch 22/30\n",
      "638/638 [==============================] - 2s 3ms/step - loss: 0.7090 - accuracy: 0.5001\n",
      "Epoch 23/30\n",
      "638/638 [==============================] - 2s 3ms/step - loss: 0.7119 - accuracy: 0.4986\n",
      "Epoch 24/30\n",
      "638/638 [==============================] - 2s 3ms/step - loss: 0.7112 - accuracy: 0.5018\n",
      "Epoch 25/30\n",
      "638/638 [==============================] - 3s 5ms/step - loss: 0.7085 - accuracy: 0.5043\n",
      "Epoch 26/30\n",
      "638/638 [==============================] - 2s 3ms/step - loss: 0.7070 - accuracy: 0.5050\n",
      "Epoch 27/30\n",
      "638/638 [==============================] - 2s 4ms/step - loss: 0.7107 - accuracy: 0.4994\n",
      "Epoch 28/30\n",
      "638/638 [==============================] - 2s 3ms/step - loss: 0.7113 - accuracy: 0.5013\n",
      "Epoch 29/30\n",
      "638/638 [==============================] - 1s 2ms/step - loss: 0.7088 - accuracy: 0.5000\n",
      "Epoch 30/30\n",
      "638/638 [==============================] - 1s 1ms/step - loss: 0.7077 - accuracy: 0.5059\n",
      "Epoch 1/30\n",
      "638/638 [==============================] - 2s 3ms/step - loss: 0.6942 - accuracy: 0.5088\n",
      "Epoch 2/30\n",
      "638/638 [==============================] - 2s 3ms/step - loss: 0.6935 - accuracy: 0.5132\n",
      "Epoch 3/30\n",
      "638/638 [==============================] - 2s 3ms/step - loss: 0.6938 - accuracy: 0.5085\n",
      "Epoch 4/30\n",
      "638/638 [==============================] - 2s 3ms/step - loss: 0.6934 - accuracy: 0.5135\n",
      "Epoch 5/30\n",
      "638/638 [==============================] - 2s 3ms/step - loss: 0.6934 - accuracy: 0.5146\n",
      "Epoch 6/30\n",
      "638/638 [==============================] - 2s 3ms/step - loss: 0.6932 - accuracy: 0.5109\n",
      "Epoch 7/30\n",
      "638/638 [==============================] - 1s 2ms/step - loss: 0.6934 - accuracy: 0.5108\n",
      "Epoch 8/30\n",
      "638/638 [==============================] - 2s 3ms/step - loss: 0.6935 - accuracy: 0.5078\n",
      "Epoch 9/30\n",
      "638/638 [==============================] - 1s 2ms/step - loss: 0.6932 - accuracy: 0.5163\n",
      "Epoch 10/30\n",
      "638/638 [==============================] - 2s 3ms/step - loss: 0.6940 - accuracy: 0.5055\n",
      "Epoch 11/30\n",
      "638/638 [==============================] - 1s 2ms/step - loss: 0.6935 - accuracy: 0.5053\n",
      "Epoch 12/30\n",
      "638/638 [==============================] - 2s 3ms/step - loss: 0.6932 - accuracy: 0.5144\n",
      "Epoch 13/30\n",
      "638/638 [==============================] - 2s 4ms/step - loss: 0.6937 - accuracy: 0.5064\n",
      "Epoch 14/30\n",
      "638/638 [==============================] - 2s 3ms/step - loss: 0.6936 - accuracy: 0.5061\n",
      "Epoch 15/30\n",
      "638/638 [==============================] - 2s 3ms/step - loss: 0.6933 - accuracy: 0.5102\n",
      "Epoch 16/30\n",
      "638/638 [==============================] - 2s 3ms/step - loss: 0.6936 - accuracy: 0.5064\n",
      "Epoch 17/30\n",
      "638/638 [==============================] - 1s 1ms/step - loss: 0.6935 - accuracy: 0.5037\n",
      "Epoch 18/30\n",
      "638/638 [==============================] - 2s 2ms/step - loss: 0.6937 - accuracy: 0.5098\n",
      "Epoch 19/30\n",
      "638/638 [==============================] - 2s 3ms/step - loss: 0.6937 - accuracy: 0.5062\n",
      "Epoch 20/30\n",
      "638/638 [==============================] - 2s 4ms/step - loss: 0.6935 - accuracy: 0.5106\n",
      "Epoch 21/30\n",
      "638/638 [==============================] - 1s 2ms/step - loss: 0.6938 - accuracy: 0.5079\n",
      "Epoch 22/30\n",
      "638/638 [==============================] - 2s 2ms/step - loss: 0.6937 - accuracy: 0.5102\n",
      "Epoch 23/30\n",
      "638/638 [==============================] - 1s 2ms/step - loss: 0.6935 - accuracy: 0.5072\n",
      "Epoch 24/30\n",
      "638/638 [==============================] - 1s 1ms/step - loss: 0.6937 - accuracy: 0.5079\n",
      "Epoch 25/30\n",
      "638/638 [==============================] - 2s 2ms/step - loss: 0.6937 - accuracy: 0.5031\n",
      "Epoch 26/30\n",
      "638/638 [==============================] - 2s 3ms/step - loss: 0.6937 - accuracy: 0.5088\n",
      "Epoch 27/30\n",
      "638/638 [==============================] - 2s 3ms/step - loss: 0.6936 - accuracy: 0.5067\n",
      "Epoch 28/30\n",
      "638/638 [==============================] - 2s 4ms/step - loss: 0.6937 - accuracy: 0.5055\n",
      "Epoch 29/30\n",
      "638/638 [==============================] - 2s 3ms/step - loss: 0.6938 - accuracy: 0.4989\n",
      "Epoch 30/30\n",
      "638/638 [==============================] - 2s 3ms/step - loss: 0.6938 - accuracy: 0.5066\n",
      "Epoch 1/30\n",
      "638/638 [==============================] - 1s 2ms/step - loss: 0.6928 - accuracy: 0.5126\n",
      "Epoch 2/30\n",
      "638/638 [==============================] - 1s 1ms/step - loss: 0.6928 - accuracy: 0.5155\n",
      "Epoch 3/30\n",
      "638/638 [==============================] - 1s 2ms/step - loss: 0.6928 - accuracy: 0.5155\n",
      "Epoch 4/30\n",
      "638/638 [==============================] - 1s 1ms/step - loss: 0.6928 - accuracy: 0.5155\n",
      "Epoch 5/30\n",
      "638/638 [==============================] - 1s 2ms/step - loss: 0.6928 - accuracy: 0.5153\n",
      "Epoch 6/30\n",
      "638/638 [==============================] - 2s 3ms/step - loss: 0.6928 - accuracy: 0.5155\n",
      "Epoch 7/30\n",
      "638/638 [==============================] - 1s 2ms/step - loss: 0.6928 - accuracy: 0.5155\n",
      "Epoch 8/30\n",
      "638/638 [==============================] - 1s 2ms/step - loss: 0.6928 - accuracy: 0.5155\n",
      "Epoch 9/30\n",
      "638/638 [==============================] - 2s 3ms/step - loss: 0.6928 - accuracy: 0.5155\n",
      "Epoch 10/30\n",
      "638/638 [==============================] - 2s 4ms/step - loss: 0.6928 - accuracy: 0.5155\n",
      "Epoch 11/30\n",
      "638/638 [==============================] - 3s 4ms/step - loss: 0.6928 - accuracy: 0.5155\n",
      "Epoch 12/30\n",
      "638/638 [==============================] - 3s 4ms/step - loss: 0.6928 - accuracy: 0.5155\n",
      "Epoch 13/30\n",
      "638/638 [==============================] - 3s 4ms/step - loss: 0.6928 - accuracy: 0.5155\n",
      "Epoch 14/30\n",
      "638/638 [==============================] - 2s 3ms/step - loss: 0.6927 - accuracy: 0.5155\n",
      "Epoch 15/30\n",
      "638/638 [==============================] - 1s 2ms/step - loss: 0.6927 - accuracy: 0.5155\n",
      "Epoch 16/30\n",
      "638/638 [==============================] - 1s 2ms/step - loss: 0.6928 - accuracy: 0.5147\n",
      "Epoch 17/30\n",
      "638/638 [==============================] - 1s 2ms/step - loss: 0.6928 - accuracy: 0.5155\n",
      "Epoch 18/30\n",
      "638/638 [==============================] - 1s 2ms/step - loss: 0.6928 - accuracy: 0.5155\n",
      "Epoch 19/30\n",
      "638/638 [==============================] - 1s 2ms/step - loss: 0.6927 - accuracy: 0.5155\n",
      "Epoch 20/30\n",
      "638/638 [==============================] - 1s 2ms/step - loss: 0.6928 - accuracy: 0.5141\n",
      "Epoch 21/30\n",
      "638/638 [==============================] - 1s 1ms/step - loss: 0.6928 - accuracy: 0.5150\n",
      "Epoch 22/30\n",
      "638/638 [==============================] - 1s 1ms/step - loss: 0.6927 - accuracy: 0.5154\n",
      "Epoch 23/30\n",
      "638/638 [==============================] - 1s 1ms/step - loss: 0.6926 - accuracy: 0.5155\n",
      "Epoch 24/30\n",
      "638/638 [==============================] - 1s 1ms/step - loss: 0.6928 - accuracy: 0.5155\n",
      "Epoch 25/30\n",
      "638/638 [==============================] - 1s 1ms/step - loss: 0.6928 - accuracy: 0.5155\n",
      "Epoch 26/30\n",
      "638/638 [==============================] - 1s 2ms/step - loss: 0.6927 - accuracy: 0.5155\n",
      "Epoch 27/30\n",
      "638/638 [==============================] - 1s 2ms/step - loss: 0.6928 - accuracy: 0.5155\n",
      "Epoch 28/30\n",
      "638/638 [==============================] - 2s 3ms/step - loss: 0.6928 - accuracy: 0.5155\n",
      "Epoch 29/30\n",
      "638/638 [==============================] - 2s 3ms/step - loss: 0.6928 - accuracy: 0.5155\n",
      "Epoch 30/30\n",
      "638/638 [==============================] - 1s 2ms/step - loss: 0.6928 - accuracy: 0.5155\n"
     ]
    },
    {
     "data": {
      "text/plain": "<Figure size 1080x720 with 1 Axes>",
      "image/png": "[encoded data removed]"
     },
     "metadata": {
      "needs_background": "light"
     },
     "output_type": "display_data"
    }
   ],
   "source": [
    "learningrates = [0.1, 0.01, 0.001]\n",
    "history = []\n",
    "\n",
    "for i in learningrates:\n",
    "    model.optimizer.learning_rate = i\n",
    "    history.append(model.fit(trainings_x, trainings_y, epochs=30))\n",
    "\n",
    "for i in range(len(history)):\n",
    "    x = np.arange(30)\n",
    "    y = history[i].history['loss']\n",
    "\n",
    "    plt.plot(x, y, label = f\"learningrates = {learningrates[i]}\")\n",
    "    plt.title(\"Learning rate\")\n",
    "    plt.legend()\n",
    "    plt.show"
   ]
  },
  {
   "cell_type": "markdown",
   "metadata": {
    "pycharm": {
     "name": "#%% md\n"
    }
   },
   "source": [
    "learning rate: The lower the learning rate, the worse it is"
   ]
  },
  {
   "cell_type": "code",
   "execution_count": 63,
   "metadata": {
    "pycharm": {
     "name": "#%%\n"
    }
   },
   "outputs": [
    {
     "name": "stdout",
     "output_type": "stream",
     "text": [
      "160/160 [==============================] - 0s 2ms/step - loss: 0.6927 - accuracy: 0.5155\n",
      "160/160 [==============================] - 0s 2ms/step - loss: 0.6927 - accuracy: 0.5155\n",
      "160/160 [==============================] - 1s 3ms/step - loss: 0.6927 - accuracy: 0.5155\n",
      "160/160 [==============================] - 0s 2ms/step - loss: 0.6927 - accuracy: 0.5155\n",
      "160/160 [==============================] - 0s 2ms/step - loss: 0.6927 - accuracy: 0.5155\n",
      "160/160 [==============================] - 0s 2ms/step - loss: 0.6927 - accuracy: 0.5155\n",
      "160/160 [==============================] - 0s 2ms/step - loss: 0.6927 - accuracy: 0.5155\n",
      "160/160 [==============================] - 0s 2ms/step - loss: 0.6927 - accuracy: 0.5155\n",
      "160/160 [==============================] - 0s 2ms/step - loss: 0.6927 - accuracy: 0.5155\n",
      "160/160 [==============================] - 0s 2ms/step - loss: 0.6927 - accuracy: 0.5155\n",
      "160/160 [==============================] - 0s 2ms/step - loss: 0.6927 - accuracy: 0.5155\n",
      "160/160 [==============================] - 0s 2ms/step - loss: 0.6927 - accuracy: 0.5155\n",
      "160/160 [==============================] - 0s 2ms/step - loss: 0.6927 - accuracy: 0.5155\n",
      "160/160 [==============================] - 1s 5ms/step - loss: 0.6927 - accuracy: 0.5155\n",
      "160/160 [==============================] - 0s 2ms/step - loss: 0.6927 - accuracy: 0.5155\n",
      "160/160 [==============================] - 0s 2ms/step - loss: 0.6927 - accuracy: 0.5155\n",
      "160/160 [==============================] - 0s 2ms/step - loss: 0.6927 - accuracy: 0.5155\n",
      "160/160 [==============================] - 1s 4ms/step - loss: 0.6927 - accuracy: 0.5155\n",
      "160/160 [==============================] - 1s 3ms/step - loss: 0.6927 - accuracy: 0.5155\n",
      "160/160 [==============================] - 0s 3ms/step - loss: 0.6927 - accuracy: 0.5155\n",
      "160/160 [==============================] - 1s 3ms/step - loss: 0.6927 - accuracy: 0.5155\n",
      "160/160 [==============================] - 1s 3ms/step - loss: 0.6927 - accuracy: 0.5155\n",
      "160/160 [==============================] - 1s 4ms/step - loss: 0.6927 - accuracy: 0.5155\n",
      "160/160 [==============================] - 0s 2ms/step - loss: 0.6927 - accuracy: 0.5155\n",
      "160/160 [==============================] - 0s 2ms/step - loss: 0.6927 - accuracy: 0.5155\n",
      "160/160 [==============================] - 0s 2ms/step - loss: 0.6927 - accuracy: 0.5155\n",
      "160/160 [==============================] - 1s 5ms/step - loss: 0.6927 - accuracy: 0.5155\n",
      "160/160 [==============================] - 0s 2ms/step - loss: 0.6927 - accuracy: 0.5155\n",
      "160/160 [==============================] - 1s 4ms/step - loss: 0.6927 - accuracy: 0.5155\n",
      "160/160 [==============================] - 0s 2ms/step - loss: 0.6927 - accuracy: 0.5155\n",
      "319/319 [==============================] - 1s 3ms/step - loss: 0.6927 - accuracy: 0.5155\n",
      "319/319 [==============================] - 1s 2ms/step - loss: 0.6927 - accuracy: 0.5155\n",
      "319/319 [==============================] - 1s 2ms/step - loss: 0.6927 - accuracy: 0.5155\n",
      "319/319 [==============================] - 1s 2ms/step - loss: 0.6927 - accuracy: 0.5155\n",
      "319/319 [==============================] - 1s 4ms/step - loss: 0.6927 - accuracy: 0.5155\n",
      "319/319 [==============================] - 1s 2ms/step - loss: 0.6927 - accuracy: 0.5155\n",
      "319/319 [==============================] - 1s 2ms/step - loss: 0.6927 - accuracy: 0.5155\n",
      "319/319 [==============================] - 1s 2ms/step - loss: 0.6927 - accuracy: 0.5155\n",
      "319/319 [==============================] - 1s 3ms/step - loss: 0.6927 - accuracy: 0.5155\n",
      "319/319 [==============================] - 1s 3ms/step - loss: 0.6927 - accuracy: 0.5155\n",
      "319/319 [==============================] - 1s 3ms/step - loss: 0.6927 - accuracy: 0.5155\n",
      "319/319 [==============================] - 1s 3ms/step - loss: 0.6927 - accuracy: 0.5155\n",
      "319/319 [==============================] - 1s 4ms/step - loss: 0.6927 - accuracy: 0.5155\n",
      "319/319 [==============================] - 1s 5ms/step - loss: 0.6927 - accuracy: 0.5155\n",
      "319/319 [==============================] - 1s 2ms/step - loss: 0.6927 - accuracy: 0.5155\n",
      "319/319 [==============================] - 1s 3ms/step - loss: 0.6927 - accuracy: 0.5155\n",
      "319/319 [==============================] - 1s 3ms/step - loss: 0.6927 - accuracy: 0.5155\n",
      "319/319 [==============================] - 1s 2ms/step - loss: 0.6927 - accuracy: 0.5155\n",
      "319/319 [==============================] - 1s 2ms/step - loss: 0.6927 - accuracy: 0.5155\n",
      "319/319 [==============================] - 1s 3ms/step - loss: 0.6927 - accuracy: 0.5155\n",
      "319/319 [==============================] - 1s 3ms/step - loss: 0.6928 - accuracy: 0.5155\n",
      "319/319 [==============================] - 1s 4ms/step - loss: 0.6927 - accuracy: 0.5155\n",
      "319/319 [==============================] - 1s 2ms/step - loss: 0.6927 - accuracy: 0.5155\n",
      "319/319 [==============================] - 1s 2ms/step - loss: 0.6927 - accuracy: 0.5155\n",
      "319/319 [==============================] - 1s 2ms/step - loss: 0.6927 - accuracy: 0.5155\n",
      "319/319 [==============================] - 1s 3ms/step - loss: 0.6927 - accuracy: 0.5155\n",
      "319/319 [==============================] - 1s 3ms/step - loss: 0.6927 - accuracy: 0.5155\n",
      "319/319 [==============================] - 1s 2ms/step - loss: 0.6927 - accuracy: 0.5155\n",
      "319/319 [==============================] - 1s 4ms/step - loss: 0.6927 - accuracy: 0.5155\n",
      "319/319 [==============================] - 1s 3ms/step - loss: 0.6927 - accuracy: 0.5155\n",
      "638/638 [==============================] - 3s 4ms/step - loss: 0.6927 - accuracy: 0.5155\n",
      "638/638 [==============================] - 2s 4ms/step - loss: 0.6927 - accuracy: 0.5155\n",
      "638/638 [==============================] - 1s 1ms/step - loss: 0.6927 - accuracy: 0.5144\n",
      "638/638 [==============================] - 2s 3ms/step - loss: 0.6927 - accuracy: 0.5155\n",
      "638/638 [==============================] - 3s 5ms/step - loss: 0.6928 - accuracy: 0.5155\n",
      "638/638 [==============================] - 2s 3ms/step - loss: 0.6927 - accuracy: 0.5150\n",
      "638/638 [==============================] - 2s 2ms/step - loss: 0.6927 - accuracy: 0.5149\n",
      "638/638 [==============================] - 2s 4ms/step - loss: 0.6928 - accuracy: 0.5155\n",
      "638/638 [==============================] - 2s 4ms/step - loss: 0.6927 - accuracy: 0.5155\n",
      "638/638 [==============================] - 2s 3ms/step - loss: 0.6928 - accuracy: 0.5155\n",
      "638/638 [==============================] - 1s 2ms/step - loss: 0.6928 - accuracy: 0.5155\n",
      "638/638 [==============================] - 1s 2ms/step - loss: 0.6927 - accuracy: 0.5138\n",
      "638/638 [==============================] - 2s 3ms/step - loss: 0.6927 - accuracy: 0.5155\n",
      "638/638 [==============================] - 1s 2ms/step - loss: 0.6927 - accuracy: 0.5155\n",
      "638/638 [==============================] - 2s 4ms/step - loss: 0.6927 - accuracy: 0.5133\n",
      "638/638 [==============================] - 1s 2ms/step - loss: 0.6927 - accuracy: 0.5142\n",
      "638/638 [==============================] - 2s 4ms/step - loss: 0.6928 - accuracy: 0.5155\n",
      "638/638 [==============================] - 2s 3ms/step - loss: 0.6927 - accuracy: 0.5155\n",
      "638/638 [==============================] - 2s 3ms/step - loss: 0.6928 - accuracy: 0.5155\n",
      "638/638 [==============================] - 1s 2ms/step - loss: 0.6928 - accuracy: 0.5155\n",
      "638/638 [==============================] - 2s 3ms/step - loss: 0.6928 - accuracy: 0.5155\n",
      "638/638 [==============================] - 2s 3ms/step - loss: 0.6928 - accuracy: 0.5155\n",
      "638/638 [==============================] - 2s 4ms/step - loss: 0.6928 - accuracy: 0.5155\n",
      "638/638 [==============================] - 2s 4ms/step - loss: 0.6928 - accuracy: 0.5155\n",
      "638/638 [==============================] - 2s 4ms/step - loss: 0.6928 - accuracy: 0.5155\n",
      "638/638 [==============================] - 1s 2ms/step - loss: 0.6927 - accuracy: 0.5145\n",
      "638/638 [==============================] - 2s 2ms/step - loss: 0.6928 - accuracy: 0.5155\n",
      "638/638 [==============================] - 1s 2ms/step - loss: 0.6928 - accuracy: 0.5155\n",
      "638/638 [==============================] - 1s 2ms/step - loss: 0.6928 - accuracy: 0.5155\n",
      "638/638 [==============================] - 2s 3ms/step - loss: 0.6928 - accuracy: 0.5155\n"
     ]
    },
    {
     "data": {
      "text/plain": "<Figure size 1080x720 with 1 Axes>",
      "image/png": "[encoded data removed]"
     },
     "metadata": {
      "needs_background": "light"
     },
     "output_type": "display_data"
    }
   ],
   "source": [
    "timelist = []\n",
    "for i in [128, 64, 32]:\n",
    "    times = []\n",
    "    for j in range(30):\n",
    "        begin = time.time()\n",
    "        model.fit(trainings_x, trainings_y, epochs=1, batch_size=i)\n",
    "        runtime = round(time.time()-begin, 3)\n",
    "        times.append(runtime)\n",
    "    timelist.append(times)\n",
    "\n",
    "for i in range(len(history)):\n",
    "    x = np.arange(30)\n",
    "    y = timelist[i]\n",
    "    plt.plot(x, y, label = f\"batches = {[128, 64, 32][i]}\" )\n",
    "    plt.title(\"Length of calculation\")\n",
    "    plt.legend()\n",
    "plt.show()"
   ]
  },
  {
   "cell_type": "markdown",
   "metadata": {
    "pycharm": {
     "name": "#%% md\n"
    }
   },
   "source": [
    "batch size: How more batches there are, how less time it takes to compute."
   ]
  },
  {
   "cell_type": "code",
   "execution_count": 66,
   "metadata": {
    "pycharm": {
     "name": "#%%\n"
    }
   },
   "outputs": [
    {
     "name": "stdout",
     "output_type": "stream",
     "text": [
      "Epoch 1/30\n",
      "638/638 [==============================] - 1s 2ms/step - loss: 0.6928 - accuracy: 0.5149\n",
      "Epoch 2/30\n",
      "638/638 [==============================] - 1s 2ms/step - loss: 0.6928 - accuracy: 0.5155\n",
      "Epoch 3/30\n",
      "638/638 [==============================] - 1s 2ms/step - loss: 0.6928 - accuracy: 0.5155\n",
      "Epoch 4/30\n",
      "638/638 [==============================] - 2s 3ms/step - loss: 0.6928 - accuracy: 0.5155\n",
      "Epoch 5/30\n",
      "638/638 [==============================] - 1s 2ms/step - loss: 0.6928 - accuracy: 0.5155\n",
      "Epoch 6/30\n",
      "638/638 [==============================] - 1s 2ms/step - loss: 0.6928 - accuracy: 0.5155\n",
      "Epoch 7/30\n",
      "638/638 [==============================] - 1s 2ms/step - loss: 0.6928 - accuracy: 0.5155\n",
      "Epoch 8/30\n",
      "638/638 [==============================] - 1s 1ms/step - loss: 0.6928 - accuracy: 0.5155\n",
      "Epoch 9/30\n",
      "638/638 [==============================] - 1s 2ms/step - loss: 0.6928 - accuracy: 0.5155\n",
      "Epoch 10/30\n",
      "638/638 [==============================] - 2s 3ms/step - loss: 0.6928 - accuracy: 0.5155\n",
      "Epoch 11/30\n",
      "638/638 [==============================] - 1s 1ms/step - loss: 0.6928 - accuracy: 0.5152\n",
      "Epoch 12/30\n",
      "638/638 [==============================] - 1s 2ms/step - loss: 0.6928 - accuracy: 0.5155\n",
      "Epoch 13/30\n",
      "638/638 [==============================] - 1s 2ms/step - loss: 0.6928 - accuracy: 0.5155\n",
      "Epoch 14/30\n",
      "638/638 [==============================] - 1s 2ms/step - loss: 0.6928 - accuracy: 0.5150\n",
      "Epoch 15/30\n",
      "638/638 [==============================] - 1s 1ms/step - loss: 0.6927 - accuracy: 0.5146\n",
      "Epoch 16/30\n",
      "638/638 [==============================] - 1s 2ms/step - loss: 0.6928 - accuracy: 0.5155\n",
      "Epoch 17/30\n",
      "638/638 [==============================] - 1s 2ms/step - loss: 0.6928 - accuracy: 0.5155\n",
      "Epoch 18/30\n",
      "638/638 [==============================] - 1s 1ms/step - loss: 0.6928 - accuracy: 0.5155\n",
      "Epoch 19/30\n",
      "638/638 [==============================] - 1s 2ms/step - loss: 0.6928 - accuracy: 0.5155\n",
      "Epoch 20/30\n",
      "638/638 [==============================] - 2s 3ms/step - loss: 0.6928 - accuracy: 0.5155\n",
      "Epoch 21/30\n",
      "638/638 [==============================] - 2s 3ms/step - loss: 0.6928 - accuracy: 0.5155\n",
      "Epoch 22/30\n",
      "638/638 [==============================] - 1s 1ms/step - loss: 0.6928 - accuracy: 0.5155\n",
      "Epoch 23/30\n",
      "638/638 [==============================] - 1s 1ms/step - loss: 0.6928 - accuracy: 0.5155\n",
      "Epoch 24/30\n",
      "638/638 [==============================] - 1s 2ms/step - loss: 0.6928 - accuracy: 0.5155\n",
      "Epoch 25/30\n",
      "638/638 [==============================] - 1s 2ms/step - loss: 0.6927 - accuracy: 0.5155\n",
      "Epoch 26/30\n",
      "638/638 [==============================] - 2s 3ms/step - loss: 0.6928 - accuracy: 0.5155\n",
      "Epoch 27/30\n",
      "638/638 [==============================] - 2s 3ms/step - loss: 0.6927 - accuracy: 0.5146\n",
      "Epoch 28/30\n",
      "638/638 [==============================] - 1s 1ms/step - loss: 0.6927 - accuracy: 0.5155\n",
      "Epoch 29/30\n",
      "638/638 [==============================] - 2s 3ms/step - loss: 0.6928 - accuracy: 0.5155\n",
      "Epoch 30/30\n",
      "638/638 [==============================] - 2s 3ms/step - loss: 0.6928 - accuracy: 0.5155\n",
      "Epoch 1/30\n",
      "638/638 [==============================] - 2s 3ms/step - loss: 0.6927 - accuracy: 0.5155\n",
      "Epoch 2/30\n",
      "638/638 [==============================] - 2s 3ms/step - loss: 0.6928 - accuracy: 0.5155\n",
      "Epoch 3/30\n",
      "638/638 [==============================] - 2s 3ms/step - loss: 0.6928 - accuracy: 0.5155\n",
      "Epoch 4/30\n",
      "638/638 [==============================] - 1s 2ms/step - loss: 0.6927 - accuracy: 0.5155\n",
      "Epoch 5/30\n",
      "638/638 [==============================] - 1s 1ms/step - loss: 0.6928 - accuracy: 0.5155\n",
      "Epoch 6/30\n",
      "638/638 [==============================] - 1s 1ms/step - loss: 0.6927 - accuracy: 0.5155\n",
      "Epoch 7/30\n",
      "638/638 [==============================] - 2s 3ms/step - loss: 0.6927 - accuracy: 0.5155\n",
      "Epoch 8/30\n",
      "638/638 [==============================] - 1s 1ms/step - loss: 0.6928 - accuracy: 0.5155\n",
      "Epoch 9/30\n",
      "638/638 [==============================] - 1s 1ms/step - loss: 0.6928 - accuracy: 0.5155\n",
      "Epoch 10/30\n",
      "638/638 [==============================] - 1s 2ms/step - loss: 0.6927 - accuracy: 0.5155\n",
      "Epoch 11/30\n",
      "638/638 [==============================] - 1s 1ms/step - loss: 0.6927 - accuracy: 0.5155\n",
      "Epoch 12/30\n",
      "638/638 [==============================] - 1s 1ms/step - loss: 0.6928 - accuracy: 0.5149\n",
      "Epoch 13/30\n",
      "638/638 [==============================] - 1s 2ms/step - loss: 0.6928 - accuracy: 0.5155\n",
      "Epoch 14/30\n",
      "638/638 [==============================] - 1s 1ms/step - loss: 0.6928 - accuracy: 0.5155\n",
      "Epoch 15/30\n",
      "638/638 [==============================] - 1s 2ms/step - loss: 0.6927 - accuracy: 0.5150\n",
      "Epoch 16/30\n",
      "638/638 [==============================] - 1s 1ms/step - loss: 0.6928 - accuracy: 0.5150\n",
      "Epoch 17/30\n",
      "638/638 [==============================] - 1s 2ms/step - loss: 0.6927 - accuracy: 0.5155\n",
      "Epoch 18/30\n",
      "638/638 [==============================] - 1s 2ms/step - loss: 0.6928 - accuracy: 0.5155\n",
      "Epoch 19/30\n",
      "638/638 [==============================] - 1s 1ms/step - loss: 0.6928 - accuracy: 0.5155\n",
      "Epoch 20/30\n",
      "638/638 [==============================] - 1s 1ms/step - loss: 0.6928 - accuracy: 0.5155\n",
      "Epoch 21/30\n",
      "638/638 [==============================] - 1s 1ms/step - loss: 0.6927 - accuracy: 0.5155\n",
      "Epoch 22/30\n",
      "638/638 [==============================] - 2s 4ms/step - loss: 0.6928 - accuracy: 0.5155\n",
      "Epoch 23/30\n",
      "638/638 [==============================] - 1s 2ms/step - loss: 0.6927 - accuracy: 0.5148\n",
      "Epoch 24/30\n",
      "638/638 [==============================] - 1s 1ms/step - loss: 0.6928 - accuracy: 0.5155\n",
      "Epoch 25/30\n",
      "638/638 [==============================] - 1s 1ms/step - loss: 0.6928 - accuracy: 0.5155\n",
      "Epoch 26/30\n",
      "638/638 [==============================] - 1s 1ms/step - loss: 0.6927 - accuracy: 0.5155\n",
      "Epoch 27/30\n",
      "638/638 [==============================] - 1s 1ms/step - loss: 0.6928 - accuracy: 0.5152\n",
      "Epoch 28/30\n",
      "638/638 [==============================] - 1s 1ms/step - loss: 0.6928 - accuracy: 0.5155\n",
      "Epoch 29/30\n",
      "638/638 [==============================] - 1s 2ms/step - loss: 0.6927 - accuracy: 0.5155\n",
      "Epoch 30/30\n",
      "638/638 [==============================] - 1s 1ms/step - loss: 0.6928 - accuracy: 0.5155\n",
      "Epoch 1/30\n",
      "638/638 [==============================] - 1s 2ms/step - loss: 0.6928 - accuracy: 0.5155\n",
      "Epoch 2/30\n",
      "638/638 [==============================] - 1s 2ms/step - loss: 0.6928 - accuracy: 0.5155\n",
      "Epoch 3/30\n",
      "638/638 [==============================] - 1s 1ms/step - loss: 0.6928 - accuracy: 0.5155\n",
      "Epoch 4/30\n",
      "638/638 [==============================] - 1s 1ms/step - loss: 0.6928 - accuracy: 0.5155\n",
      "Epoch 5/30\n",
      "638/638 [==============================] - 1s 2ms/step - loss: 0.6927 - accuracy: 0.5155\n",
      "Epoch 6/30\n",
      "638/638 [==============================] - 1s 1ms/step - loss: 0.6928 - accuracy: 0.5155\n",
      "Epoch 7/30\n",
      "638/638 [==============================] - 1s 1ms/step - loss: 0.6928 - accuracy: 0.5155\n",
      "Epoch 8/30\n",
      "638/638 [==============================] - 1s 1ms/step - loss: 0.6928 - accuracy: 0.5155\n",
      "Epoch 9/30\n",
      "638/638 [==============================] - 1s 1ms/step - loss: 0.6928 - accuracy: 0.5155\n",
      "Epoch 10/30\n",
      "638/638 [==============================] - 1s 1ms/step - loss: 0.6928 - accuracy: 0.5155\n",
      "Epoch 11/30\n",
      "638/638 [==============================] - 2s 4ms/step - loss: 0.6928 - accuracy: 0.5155\n",
      "Epoch 12/30\n",
      "638/638 [==============================] - 1s 2ms/step - loss: 0.6927 - accuracy: 0.5155\n",
      "Epoch 13/30\n",
      "638/638 [==============================] - 1s 1ms/step - loss: 0.6928 - accuracy: 0.5155\n",
      "Epoch 14/30\n",
      "638/638 [==============================] - 1s 1ms/step - loss: 0.6928 - accuracy: 0.5155\n",
      "Epoch 15/30\n",
      "638/638 [==============================] - 1s 1ms/step - loss: 0.6928 - accuracy: 0.5155\n",
      "Epoch 16/30\n",
      "638/638 [==============================] - 1s 1ms/step - loss: 0.6928 - accuracy: 0.5155\n",
      "Epoch 17/30\n",
      "638/638 [==============================] - 1s 2ms/step - loss: 0.6928 - accuracy: 0.5149\n",
      "Epoch 18/30\n",
      "638/638 [==============================] - 1s 1ms/step - loss: 0.6928 - accuracy: 0.5155\n",
      "Epoch 19/30\n",
      "638/638 [==============================] - 1s 1ms/step - loss: 0.6927 - accuracy: 0.5155\n",
      "Epoch 20/30\n",
      "638/638 [==============================] - 1s 2ms/step - loss: 0.6928 - accuracy: 0.5155\n",
      "Epoch 21/30\n",
      "638/638 [==============================] - 2s 4ms/step - loss: 0.6928 - accuracy: 0.5155\n",
      "Epoch 22/30\n",
      "638/638 [==============================] - 1s 2ms/step - loss: 0.6927 - accuracy: 0.5155\n",
      "Epoch 23/30\n",
      "638/638 [==============================] - 1s 1ms/step - loss: 0.6928 - accuracy: 0.5154\n",
      "Epoch 24/30\n",
      "638/638 [==============================] - 2s 3ms/step - loss: 0.6928 - accuracy: 0.5155\n",
      "Epoch 25/30\n",
      "638/638 [==============================] - 2s 3ms/step - loss: 0.6927 - accuracy: 0.5155\n",
      "Epoch 26/30\n",
      "638/638 [==============================] - 2s 3ms/step - loss: 0.6928 - accuracy: 0.5155\n",
      "Epoch 27/30\n",
      "638/638 [==============================] - 2s 3ms/step - loss: 0.6927 - accuracy: 0.5155\n",
      "Epoch 28/30\n",
      "638/638 [==============================] - 1s 1ms/step - loss: 0.6928 - accuracy: 0.5155\n",
      "Epoch 29/30\n",
      "638/638 [==============================] - 1s 1ms/step - loss: 0.6928 - accuracy: 0.5155\n",
      "Epoch 30/30\n",
      "638/638 [==============================] - 1s 2ms/step - loss: 0.6928 - accuracy: 0.5155\n"
     ]
    },
    {
     "data": {
      "text/plain": "<Figure size 1080x720 with 1 Axes>",
      "image/png": "[encoded data removed]"
     },
     "metadata": {
      "needs_background": "light"
     },
     "output_type": "display_data"
    }
   ],
   "source": [
    "optima = [\"adem\", \"sgd\", 'adagrad']\n",
    "history = []\n",
    "\n",
    "for prime in optima:\n",
    "    model.optimizer.Optimizer = prime\n",
    "    history.append(model.fit(trainings_x, trainings_y, epochs=30))\n",
    "\n",
    "for i in range(len(history)):\n",
    "    x = np.arange(30)\n",
    "    y = history[i].history['loss']\n",
    "    plt.title(\"Optimizations\")\n",
    "    plt.plot(x, y, label = f\"Optimizer = {optima[i]}\" )\n",
    "    plt.legend()\n",
    "plt.show()"
   ]
  },
  {
   "cell_type": "markdown",
   "metadata": {
    "pycharm": {
     "name": "#%% md\n"
    }
   },
   "source": [
    "optimizer: There not a clear winner here. These optimizers are almost identical."
   ]
  },
  {
   "cell_type": "code",
   "execution_count": 46,
   "metadata": {
    "pycharm": {
     "name": "#%%\n"
    }
   },
   "outputs": [
    {
     "name": "stdout",
     "output_type": "stream",
     "text": [
      "638/638 [==============================] - 1s 1ms/step - loss: 0.5813 - accuracy: 0.7086\n",
      "Epoch 1/10\n",
      "638/638 [==============================] - 1s 1ms/step - loss: 0.5771 - accuracy: 0.7106\n",
      "Epoch 2/10\n",
      "638/638 [==============================] - 1s 1ms/step - loss: 0.5729 - accuracy: 0.7166\n",
      "Epoch 3/10\n",
      "638/638 [==============================] - 1s 1ms/step - loss: 0.5753 - accuracy: 0.7111\n",
      "Epoch 4/10\n",
      "638/638 [==============================] - 1s 1ms/step - loss: 0.5795 - accuracy: 0.7113\n",
      "Epoch 5/10\n",
      "638/638 [==============================] - 1s 1ms/step - loss: 0.5758 - accuracy: 0.7115\n",
      "Epoch 6/10\n",
      "638/638 [==============================] - 1s 1ms/step - loss: 0.5750 - accuracy: 0.7150\n",
      "Epoch 7/10\n",
      "638/638 [==============================] - 1s 1ms/step - loss: 0.5762 - accuracy: 0.7136\n",
      "Epoch 8/10\n",
      "638/638 [==============================] - 1s 1ms/step - loss: 0.5779 - accuracy: 0.7128\n",
      "Epoch 9/10\n",
      "638/638 [==============================] - 1s 1ms/step - loss: 0.5730 - accuracy: 0.7129\n",
      "Epoch 10/10\n",
      "638/638 [==============================] - 1s 1ms/step - loss: 0.6186 - accuracy: 0.6717\n",
      "Epoch 1/50\n",
      "638/638 [==============================] - 1s 1ms/step - loss: 0.5720 - accuracy: 0.7197\n",
      "Epoch 2/50\n",
      "638/638 [==============================] - 1s 1ms/step - loss: 0.5838 - accuracy: 0.7094\n",
      "Epoch 3/50\n",
      "638/638 [==============================] - 1s 1ms/step - loss: 0.5706 - accuracy: 0.7195\n",
      "Epoch 4/50\n",
      "638/638 [==============================] - 1s 1ms/step - loss: 0.5746 - accuracy: 0.7107\n",
      "Epoch 5/50\n",
      "638/638 [==============================] - 1s 1ms/step - loss: 0.5742 - accuracy: 0.7151\n",
      "Epoch 6/50\n",
      "638/638 [==============================] - 1s 1ms/step - loss: 0.5621 - accuracy: 0.7288\n",
      "Epoch 7/50\n",
      "638/638 [==============================] - 1s 1ms/step - loss: 0.5773 - accuracy: 0.7119\n",
      "Epoch 8/50\n",
      "638/638 [==============================] - 1s 1ms/step - loss: 0.5740 - accuracy: 0.7170\n",
      "Epoch 9/50\n",
      "638/638 [==============================] - 1s 1ms/step - loss: 0.5625 - accuracy: 0.7260\n",
      "Epoch 10/50\n",
      "638/638 [==============================] - 1s 1ms/step - loss: 0.5756 - accuracy: 0.7184\n",
      "Epoch 11/50\n",
      "638/638 [==============================] - 1s 1ms/step - loss: 0.5732 - accuracy: 0.7189\n",
      "Epoch 12/50\n",
      "638/638 [==============================] - 1s 1ms/step - loss: 0.5549 - accuracy: 0.7338\n",
      "Epoch 13/50\n",
      "638/638 [==============================] - 1s 1ms/step - loss: 0.5667 - accuracy: 0.7218\n",
      "Epoch 14/50\n",
      "638/638 [==============================] - 1s 1ms/step - loss: 0.5684 - accuracy: 0.7217\n",
      "Epoch 15/50\n",
      "638/638 [==============================] - 1s 1ms/step - loss: 0.5675 - accuracy: 0.7231\n",
      "Epoch 16/50\n",
      "638/638 [==============================] - 1s 1ms/step - loss: 0.5608 - accuracy: 0.7288\n",
      "Epoch 17/50\n",
      "638/638 [==============================] - 1s 1ms/step - loss: 0.5654 - accuracy: 0.7249\n",
      "Epoch 18/50\n",
      "638/638 [==============================] - 1s 1ms/step - loss: 0.5565 - accuracy: 0.7330\n",
      "Epoch 19/50\n",
      "638/638 [==============================] - 1s 1ms/step - loss: 0.5705 - accuracy: 0.7204\n",
      "Epoch 20/50\n",
      "638/638 [==============================] - 1s 1ms/step - loss: 0.5550 - accuracy: 0.7320\n",
      "Epoch 21/50\n",
      "638/638 [==============================] - 1s 1ms/step - loss: 0.5610 - accuracy: 0.7259\n",
      "Epoch 22/50\n",
      "638/638 [==============================] - 1s 1ms/step - loss: 0.5617 - accuracy: 0.7268\n",
      "Epoch 23/50\n",
      "638/638 [==============================] - 1s 1ms/step - loss: 0.5527 - accuracy: 0.7355\n",
      "Epoch 24/50\n",
      "638/638 [==============================] - 1s 1ms/step - loss: 0.5570 - accuracy: 0.7305\n",
      "Epoch 25/50\n",
      "638/638 [==============================] - 1s 1ms/step - loss: 0.5573 - accuracy: 0.7295\n",
      "Epoch 26/50\n",
      "638/638 [==============================] - 1s 1ms/step - loss: 0.5597 - accuracy: 0.7310\n",
      "Epoch 27/50\n",
      "638/638 [==============================] - 1s 1ms/step - loss: 0.5602 - accuracy: 0.7293\n",
      "Epoch 28/50\n",
      "638/638 [==============================] - 1s 1ms/step - loss: 0.5562 - accuracy: 0.7339\n",
      "Epoch 29/50\n",
      "638/638 [==============================] - 1s 1ms/step - loss: 0.5663 - accuracy: 0.7228\n",
      "Epoch 30/50\n",
      "638/638 [==============================] - 1s 1ms/step - loss: 0.5698 - accuracy: 0.7211\n",
      "Epoch 31/50\n",
      "638/638 [==============================] - 1s 1ms/step - loss: 0.5698 - accuracy: 0.7241\n",
      "Epoch 32/50\n",
      "638/638 [==============================] - 1s 1ms/step - loss: 0.5573 - accuracy: 0.7298\n",
      "Epoch 33/50\n",
      "638/638 [==============================] - 1s 1ms/step - loss: 0.5579 - accuracy: 0.7332\n",
      "Epoch 34/50\n",
      "638/638 [==============================] - 1s 1ms/step - loss: 0.5551 - accuracy: 0.7302\n",
      "Epoch 35/50\n",
      "638/638 [==============================] - 1s 1ms/step - loss: 0.5601 - accuracy: 0.7321\n",
      "Epoch 36/50\n",
      "638/638 [==============================] - 1s 1ms/step - loss: 0.5538 - accuracy: 0.7349\n",
      "Epoch 37/50\n",
      "638/638 [==============================] - 1s 1ms/step - loss: 0.5591 - accuracy: 0.7318\n",
      "Epoch 38/50\n",
      "638/638 [==============================] - 1s 1ms/step - loss: 0.5401 - accuracy: 0.7465\n",
      "Epoch 39/50\n",
      "638/638 [==============================] - 1s 1ms/step - loss: 0.5658 - accuracy: 0.7270\n",
      "Epoch 40/50\n",
      "638/638 [==============================] - 1s 1ms/step - loss: 0.5492 - accuracy: 0.7342\n",
      "Epoch 41/50\n",
      "638/638 [==============================] - 1s 1ms/step - loss: 0.5535 - accuracy: 0.7376\n",
      "Epoch 42/50\n",
      "638/638 [==============================] - 1s 1ms/step - loss: 0.5464 - accuracy: 0.7411\n",
      "Epoch 43/50\n",
      "638/638 [==============================] - 1s 1ms/step - loss: 0.5577 - accuracy: 0.7310\n",
      "Epoch 44/50\n",
      "638/638 [==============================] - 1s 1ms/step - loss: 0.5490 - accuracy: 0.7397\n",
      "Epoch 45/50\n",
      "638/638 [==============================] - 1s 1ms/step - loss: 0.5516 - accuracy: 0.7372\n",
      "Epoch 46/50\n",
      "638/638 [==============================] - 1s 1ms/step - loss: 0.5448 - accuracy: 0.7419\n",
      "Epoch 47/50\n",
      "638/638 [==============================] - 1s 1ms/step - loss: 0.5470 - accuracy: 0.7407\n",
      "Epoch 48/50\n",
      "638/638 [==============================] - 1s 1ms/step - loss: 0.5365 - accuracy: 0.7506\n",
      "Epoch 49/50\n",
      "638/638 [==============================] - 1s 1ms/step - loss: 0.5596 - accuracy: 0.7288\n",
      "Epoch 50/50\n",
      "638/638 [==============================] - 1s 1ms/step - loss: 0.5627 - accuracy: 0.7293\n"
     ]
    }
   ],
   "source": [
    "epochs = [1, 10, 50]\n",
    "history = []\n",
    "avg_accuracy = []\n",
    "for i in epochs:\n",
    "    avg_accuracy.append(sum(model.fit(trainings_x, trainings_y, epochs=i).history['accuracy'])/i)\n",
    "\n",
    "for i in range(len(history)):\n",
    "    plt.title(\"Epoch accuracy\")\n",
    "    plt.bar(epochs, avg_accuracy)\n",
    "    plt.legend()\n",
    "plt.show()"
   ]
  },
  {
   "cell_type": "markdown",
   "metadata": {
    "pycharm": {
     "name": "#%% md\n"
    }
   },
   "source": [
    "epochs: We see that the higher the epochs, the higher the accuracy because you train the model more often so it becomes better and better (at least for this dataset, maybe not for others (overfitting))"
   ]
  },
  {
   "cell_type": "code",
   "execution_count": 49,
   "metadata": {
    "pycharm": {
     "name": "#%%\n"
    }
   },
   "outputs": [
    {
     "name": "stdout",
     "output_type": "stream",
     "text": [
      "Epoch 1/15\n",
      "638/638 [==============================] - 1s 1ms/step - loss: 0.5353 - accuracy: 0.7510\n",
      "Epoch 2/15\n",
      "638/638 [==============================] - 1s 1ms/step - loss: 0.5379 - accuracy: 0.7503\n",
      "Epoch 3/15\n",
      "638/638 [==============================] - 1s 1ms/step - loss: 0.5316 - accuracy: 0.7536\n",
      "Epoch 4/15\n",
      "638/638 [==============================] - 1s 1ms/step - loss: 0.5280 - accuracy: 0.7605\n",
      "Epoch 5/15\n",
      "638/638 [==============================] - 1s 1ms/step - loss: 0.5294 - accuracy: 0.7569\n",
      "Epoch 6/15\n",
      "638/638 [==============================] - 1s 1ms/step - loss: 0.5446 - accuracy: 0.7451\n",
      "Epoch 7/15\n",
      "638/638 [==============================] - 1s 1ms/step - loss: 0.5347 - accuracy: 0.7518\n",
      "Epoch 8/15\n",
      "638/638 [==============================] - 1s 1ms/step - loss: 0.5272 - accuracy: 0.7562\n",
      "Epoch 9/15\n",
      "638/638 [==============================] - 1s 1ms/step - loss: 0.5272 - accuracy: 0.7564\n",
      "Epoch 10/15\n",
      "638/638 [==============================] - 1s 1ms/step - loss: 0.5322 - accuracy: 0.7538\n",
      "Epoch 11/15\n",
      "638/638 [==============================] - 1s 1ms/step - loss: 0.5367 - accuracy: 0.7530\n",
      "Epoch 12/15\n",
      "638/638 [==============================] - 1s 1ms/step - loss: 0.5323 - accuracy: 0.7512\n",
      "Epoch 13/15\n",
      "638/638 [==============================] - 1s 1ms/step - loss: 0.5300 - accuracy: 0.7584\n",
      "Epoch 14/15\n",
      "638/638 [==============================] - 1s 1ms/step - loss: 0.5394 - accuracy: 0.7461\n",
      "Epoch 15/15\n",
      "638/638 [==============================] - 1s 1ms/step - loss: 0.5243 - accuracy: 0.7619\n",
      "Epoch 1/15\n",
      "638/638 [==============================] - 1s 1ms/step - loss: 0.5277 - accuracy: 0.7583\n",
      "Epoch 2/15\n",
      "638/638 [==============================] - 1s 1ms/step - loss: 0.5245 - accuracy: 0.7629\n",
      "Epoch 3/15\n",
      "638/638 [==============================] - 1s 1ms/step - loss: 0.5174 - accuracy: 0.7682\n",
      "Epoch 4/15\n",
      "638/638 [==============================] - 1s 1ms/step - loss: 0.5310 - accuracy: 0.7555\n",
      "Epoch 5/15\n",
      "638/638 [==============================] - 1s 1ms/step - loss: 0.5143 - accuracy: 0.7694\n",
      "Epoch 6/15\n",
      "638/638 [==============================] - 1s 1ms/step - loss: 0.5229 - accuracy: 0.7606\n",
      "Epoch 7/15\n",
      "638/638 [==============================] - 1s 1ms/step - loss: 0.5487 - accuracy: 0.7416\n",
      "Epoch 8/15\n",
      "638/638 [==============================] - 1s 1ms/step - loss: 0.5150 - accuracy: 0.7686\n",
      "Epoch 9/15\n",
      "638/638 [==============================] - 1s 1ms/step - loss: 0.5364 - accuracy: 0.7549\n",
      "Epoch 10/15\n",
      "638/638 [==============================] - 1s 1ms/step - loss: 0.5248 - accuracy: 0.7629\n",
      "Epoch 11/15\n",
      "638/638 [==============================] - 1s 1ms/step - loss: 0.5237 - accuracy: 0.7646\n",
      "Epoch 12/15\n",
      "638/638 [==============================] - 1s 1ms/step - loss: 0.5234 - accuracy: 0.7626\n",
      "Epoch 13/15\n",
      "638/638 [==============================] - 1s 1ms/step - loss: 0.5226 - accuracy: 0.7610\n",
      "Epoch 14/15\n",
      "638/638 [==============================] - 1s 1ms/step - loss: 0.5216 - accuracy: 0.7665\n",
      "Epoch 15/15\n",
      "638/638 [==============================] - 1s 1ms/step - loss: 0.5175 - accuracy: 0.7654\n",
      "Epoch 1/15\n",
      "638/638 [==============================] - 1s 1ms/step - loss: 0.5249 - accuracy: 0.7616\n",
      "Epoch 2/15\n",
      "638/638 [==============================] - 1s 1ms/step - loss: 0.5165 - accuracy: 0.7684\n",
      "Epoch 3/15\n",
      "638/638 [==============================] - 1s 1ms/step - loss: 0.5286 - accuracy: 0.7588\n",
      "Epoch 4/15\n",
      "638/638 [==============================] - 1s 1ms/step - loss: 0.5205 - accuracy: 0.7640\n",
      "Epoch 5/15\n",
      "638/638 [==============================] - 1s 1ms/step - loss: 0.5319 - accuracy: 0.7603\n",
      "Epoch 6/15\n",
      "638/638 [==============================] - 1s 1ms/step - loss: 0.5251 - accuracy: 0.7598\n",
      "Epoch 7/15\n",
      "638/638 [==============================] - 1s 1ms/step - loss: 0.5098 - accuracy: 0.7758\n",
      "Epoch 8/15\n",
      "638/638 [==============================] - 1s 1ms/step - loss: 0.5228 - accuracy: 0.7653\n",
      "Epoch 9/15\n",
      "638/638 [==============================] - 1s 1ms/step - loss: 0.5153 - accuracy: 0.7715\n",
      "Epoch 10/15\n",
      "638/638 [==============================] - 1s 1ms/step - loss: 0.5143 - accuracy: 0.7750\n",
      "Epoch 11/15\n",
      "638/638 [==============================] - 1s 1ms/step - loss: 0.5187 - accuracy: 0.7670\n",
      "Epoch 12/15\n",
      "638/638 [==============================] - 1s 1ms/step - loss: 0.5232 - accuracy: 0.7646\n",
      "Epoch 13/15\n",
      "638/638 [==============================] - 1s 1ms/step - loss: 0.5212 - accuracy: 0.7660\n",
      "Epoch 14/15\n",
      "638/638 [==============================] - 1s 1ms/step - loss: 0.5200 - accuracy: 0.7675\n",
      "Epoch 15/15\n",
      "638/638 [==============================] - 1s 1ms/step - loss: 0.5205 - accuracy: 0.7661\n",
      "Epoch 1/15\n",
      "638/638 [==============================] - 1s 1ms/step - loss: 0.5188 - accuracy: 0.7653\n",
      "Epoch 2/15\n",
      "638/638 [==============================] - 1s 1ms/step - loss: 0.5366 - accuracy: 0.7582\n",
      "Epoch 3/15\n",
      "638/638 [==============================] - 1s 1ms/step - loss: 0.5647 - accuracy: 0.7356\n",
      "Epoch 4/15\n",
      "638/638 [==============================] - 1s 1ms/step - loss: 0.5293 - accuracy: 0.7593\n",
      "Epoch 5/15\n",
      "638/638 [==============================] - 1s 1ms/step - loss: 0.5148 - accuracy: 0.7680\n",
      "Epoch 6/15\n",
      "638/638 [==============================] - 1s 1ms/step - loss: 0.5093 - accuracy: 0.7734\n",
      "Epoch 7/15\n",
      "638/638 [==============================] - 1s 1ms/step - loss: 0.5103 - accuracy: 0.7708\n",
      "Epoch 8/15\n",
      "638/638 [==============================] - 1s 1ms/step - loss: 0.5219 - accuracy: 0.7654\n",
      "Epoch 9/15\n",
      "638/638 [==============================] - 1s 1ms/step - loss: 0.5160 - accuracy: 0.7725\n",
      "Epoch 10/15\n",
      "638/638 [==============================] - 1s 1ms/step - loss: 0.5113 - accuracy: 0.7737\n",
      "Epoch 11/15\n",
      "638/638 [==============================] - 1s 1ms/step - loss: 0.5108 - accuracy: 0.7733\n",
      "Epoch 12/15\n",
      "638/638 [==============================] - 1s 1ms/step - loss: 0.5178 - accuracy: 0.7695\n",
      "Epoch 13/15\n",
      "638/638 [==============================] - 1s 1ms/step - loss: 0.5085 - accuracy: 0.7745\n",
      "Epoch 14/15\n",
      "638/638 [==============================] - 1s 1ms/step - loss: 0.5082 - accuracy: 0.7753\n",
      "Epoch 15/15\n",
      "638/638 [==============================] - 1s 1ms/step - loss: 0.5019 - accuracy: 0.7792\n",
      "Epoch 1/15\n",
      "638/638 [==============================] - 1s 1ms/step - loss: 0.5115 - accuracy: 0.7697\n",
      "Epoch 2/15\n",
      "638/638 [==============================] - 1s 1ms/step - loss: 0.5141 - accuracy: 0.7688\n",
      "Epoch 3/15\n",
      "638/638 [==============================] - 1s 1ms/step - loss: 0.5047 - accuracy: 0.7780\n",
      "Epoch 4/15\n",
      "638/638 [==============================] - 1s 1ms/step - loss: 0.5132 - accuracy: 0.7719\n",
      "Epoch 5/15\n",
      "638/638 [==============================] - 1s 1ms/step - loss: 0.5213 - accuracy: 0.7674\n",
      "Epoch 6/15\n",
      "638/638 [==============================] - 1s 1ms/step - loss: 0.5062 - accuracy: 0.7811\n",
      "Epoch 7/15\n",
      "638/638 [==============================] - 1s 1ms/step - loss: 0.5068 - accuracy: 0.7796\n",
      "Epoch 8/15\n",
      "638/638 [==============================] - 1s 1ms/step - loss: 0.5169 - accuracy: 0.7655\n",
      "Epoch 9/15\n",
      "638/638 [==============================] - 1s 1ms/step - loss: 0.5392 - accuracy: 0.7576\n",
      "Epoch 10/15\n",
      "638/638 [==============================] - 1s 1ms/step - loss: 0.5009 - accuracy: 0.7810\n",
      "Epoch 11/15\n",
      "638/638 [==============================] - 1s 1ms/step - loss: 0.4957 - accuracy: 0.7834\n",
      "Epoch 12/15\n",
      "638/638 [==============================] - 1s 1ms/step - loss: 0.5083 - accuracy: 0.7779\n",
      "Epoch 13/15\n",
      "638/638 [==============================] - 1s 1ms/step - loss: 0.5031 - accuracy: 0.7813\n",
      "Epoch 14/15\n",
      "638/638 [==============================] - 1s 1ms/step - loss: 0.5092 - accuracy: 0.7757\n",
      "Epoch 15/15\n",
      "638/638 [==============================] - 1s 1ms/step - loss: 0.5480 - accuracy: 0.7480\n"
     ]
    },
    {
     "data": {
      "text/plain": "<BarContainer object of 5 artists>"
     },
     "execution_count": 49,
     "metadata": {},
     "output_type": "execute_result"
    },
    {
     "data": {
      "text/plain": "<Figure size 1080x720 with 1 Axes>",
      "image/png": "[encoded data removed]"
     },
     "metadata": {
      "needs_background": "light"
     },
     "output_type": "display_data"
    }
   ],
   "source": [
    "functions = ['softmax', 'tanh', 'relu', 'elu', 'sigmoid']\n",
    "\n",
    "history = []\n",
    "timelist = []\n",
    "for func in functions:\n",
    "    model.add(tf.keras.layers.Activation(func))\n",
    "\n",
    "    begin = time.time()\n",
    "    history.append(model.fit(trainings_x, trainings_y, epochs=15))\n",
    "    runtime = round(time.time()-begin, 3)\n",
    "    timelist.append(runtime)\n",
    "\n",
    "plt.title(\"Length of calculation per activation function\")\n",
    "plt.bar(functions, [t for t in timelist])"
   ]
  },
  {
   "cell_type": "markdown",
   "metadata": {
    "pycharm": {
     "name": "#%% md\n"
    }
   },
   "source": [
    "activation function: They all take just as long as each other except for softmax, that one takes somewhat longer. So it is a harder function to compute."
   ]
  },
  {
   "cell_type": "code",
   "execution_count": null,
   "metadata": {
    "pycharm": {
     "name": "#%%\n"
    }
   },
   "outputs": [],
   "source": [
    "# number of neurons: your code here"
   ]
  },
  {
   "cell_type": "markdown",
   "metadata": {
    "pycharm": {
     "name": "#%% md\n"
    }
   },
   "source": [
    "number of neurons: your answer here"
   ]
  },
  {
   "cell_type": "markdown",
   "source": [
    "---\n",
    "\n",
    "# Questions\n",
    "\n",
    "**10.** What was your better logistic regression model? Intuitively, why do you think that it performed better? (0.5 points)\n",
    "\n",
    "**Answer**\n",
    "\n",
    "The feature_set_ngrams model is somewhat better than the other model because it contains that model and the ngram feature set.\n",
    "\n",
    "**11.** Did the neural networks perform better or worse than logistic regression? How can you interpret that result? (0.5 points)\n",
    "\n",
    "**Answer**\n",
    "\n",
    "The neural networks performed better just because they are more complex and more capable to learn. Also, we use more epochs so it is learning multiple times to our data."
   ],
   "metadata": {
    "collapsed": false,
    "pycharm": {
     "name": "#%% md\n"
    }
   }
  },
  {
   "cell_type": "code",
   "execution_count": null,
   "outputs": [],
   "source": [],
   "metadata": {
    "collapsed": false,
    "pycharm": {
     "name": "#%%\n"
    }
   }
  }
 ],
 "metadata": {
  "kernelspec": {
   "display_name": "Python 3 (ipykernel)",
   "language": "python",
   "name": "python3"
  },
  "language_info": {
   "codemirror_mode": {
    "name": "ipython",
    "version": 3
   },
   "file_extension": ".py",
   "mimetype": "text/x-python",
   "name": "python",
   "nbconvert_exporter": "python",
   "pygments_lexer": "ipython3",
   "version": "3.9.7"
  }
 },
 "nbformat": 4,
 "nbformat_minor": 2
}