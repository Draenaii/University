{
  "cells": [
    {
      "cell_type": "markdown",
      "id": "333fb0a5-1e6b-4211-8a64-2de9260378ef",
      "metadata": {
        "id": "333fb0a5-1e6b-4211-8a64-2de9260378ef",
        "tags": []
      },
      "source": [
        "# Assignment 3\n",
        "\n",
        "*Part of the course:\n",
        "Machine Learning (code: INFOB3ML), fall 2023, Utrecht University*\n",
        "\n",
        "Total points: 10 (100%)\n",
        "\n",
        "Deadline: Wednesday 18 October, 23:59\n",
        "\n",
        "**Write your names and student numbers here: Joel van de Hoeve 5280273 & Thijmen van der Meijden 1670786**\n",
        "\n",
        "Submit one ipynb file per pair.\n",
        "\n",
        "**Before you submit, click Kernel > Restart & Run All to make sure you submit a working version of your code!**\n"
      ]
    },
    {
      "cell_type": "markdown",
      "id": "7d823b0f",
      "metadata": {
        "id": "7d823b0f"
      },
      "source": [
        "\n",
        "## The BoAW Approach for emotion classification of utterances\n",
        "In this programming assignment, you will be implementing Bag-of-Audio-Words (BoAW) method for acoustic low level descriptor (LLD) representation over utterances.\n",
        "The acoustic LLDs per utterance are extracted and provided to you in separate files.\n",
        "Your task is to implement the BoAW approach and the component methods, followed by classification using existing python libraries.\n",
        "\n",
        "In a nutshell, you will be implementing the following functions (use of an existing library/package like `sklearn` is not allowed for this part):\n",
        "1. Principal Component Analysis (PCA)\n",
        "2. K-Means algorithm\n",
        "3. BoAW representation function\n",
        "\n",
        "You will then experiment with different combinations of PCA dimensions (`p_pca`) and K-Means components (`K`), and optimize said combinations using a Support Vector Machine (SVM) classifier.\n",
        "You are given data of 16 speakers, where:\n",
        "- The data of the first 8 speakers will be used as training set\n",
        "- The data of speakers 9-12 will be used as validation set and\n",
        "- The data of speakers 13-16 will be used as the test set.\n",
        "\n",
        "The training set will be used to learn PCA and K-Means model, as well as to train the SVM classifiers using the BoAW representations as features and the emotions of the speakers as responses.\n",
        "The hyper-parameter `C` of the classifiers as well as the number of principal components (`p_pca`) and cluster components (`K`) will be optimized on the validation set.\n",
        "The top model (resulting from the best combination of `p_pca`, `K` and `C` hyper-parameters) will be applied to the test set."
      ]
    },
    {
      "cell_type": "markdown",
      "id": "1b971fcf-1488-4ef7-8495-a5202ccd024e",
      "metadata": {
        "id": "1b971fcf-1488-4ef7-8495-a5202ccd024e",
        "tags": []
      },
      "source": [
        "### The BoAW approach\n",
        "In the BoAW approach (can also be applied to visual descriptors) we train a K-Means model using the combined LLDs from all trained set utterances.\n",
        "Since K-Means assumes no correlations in the data, and partly for reducing dimensionality, we first apply PCA to LLDs.\n",
        "The BoAW representation amounts to assigning each LLD to the nearest K-Means cluster and computing a K-dimensional histogram of the accumulated instances around each mean.\n",
        "This means that each utterance will be \"represented\" by a histogram, where each entry is the number of LLD sequences in the utterance that are assigned to a certain cluster.\n",
        "Normalization of the histogram (so that each entry is a frequency as opposed to an absolute number) is possible."
      ]
    },
    {
      "cell_type": "markdown",
      "id": "04b3eb90-b7c0-472d-a700-bf1e0118e06e",
      "metadata": {
        "id": "04b3eb90-b7c0-472d-a700-bf1e0118e06e"
      },
      "source": [
        "### Note\n",
        "The last part of this assignment contains a lot of code that you do not need to (and should not) modify. However, it is important that you understand what is going on there, otherwise it will be difficult to fill-in the blanks when we ask you to.\n",
        "\n",
        "The only places where you need to write code say \"YOUR CODE HERE\" explicitly."
      ]
    },
    {
      "cell_type": "markdown",
      "id": "fa876d63-0a6a-4565-a6a7-98b0765aaed9",
      "metadata": {
        "id": "fa876d63-0a6a-4565-a6a7-98b0765aaed9"
      },
      "source": [
        "### Required packages:\n",
        "- numpy\n",
        "- pandas\n",
        "- scipy\n",
        "- sklearn\n",
        "\n",
        "\n",
        "### Required Dataset\n",
        "You can download the zipped folder containing the extracted acoustic LLDs from subset of RAVDESS dataset from:\n",
        "\n",
        "https://surfdrive.surf.nl/files/index.php/s/EeJxsea0CfCn17S\n",
        "\n",
        "Unzip it in the same folder as this python notebook to ensure smooth working of the scripts we have prepared."
      ]
    },
    {
      "cell_type": "code",
      "execution_count": 80,
      "id": "dd6b014f-7574-4101-bc4c-463ac50f4191",
      "metadata": {
        "id": "dd6b014f-7574-4101-bc4c-463ac50f4191"
      },
      "outputs": [],
      "source": [
        "# DO NOT MODIFY\n",
        "import numpy as np"
      ]
    },
    {
      "cell_type": "markdown",
      "id": "684adf47-70db-439f-a337-492e4e60721d",
      "metadata": {
        "id": "684adf47-70db-439f-a337-492e4e60721d",
        "tags": []
      },
      "source": [
        "### Step 1: Implementing PCA (Graded 20%)\n",
        "Define a function `mypca(X)` with the following signature:\n",
        " - Input  `X`: N x D dimensional dataset\n",
        " - Output: `(W, lambda, mu)`\n",
        "     + `W`: D x D eigenvalue sorted PCA projection matrix (i.e. first column is the first principal component)\n",
        "     + `lambdas`: Dx1 vector of sorted eigenvalues (sorted in _descending_ order)\n",
        "     + `mu`: Dx1 the mean of X (should be calculated and removed from the data before subsequent projection using W)\n",
        "     \n",
        "Hints:\n",
        " 1. Recall that you should start by ensuring that the data has zero mean.\n",
        " 2. You may want to make use of the numpy function `np.cov`. Be careful with what matrix you feed into this function. (Extra hint: look at the description `rowvar` argument of this function in the documentation).\n",
        " 3. You will want to sort the eigenvalues in descending order, but numpy's sort method can only sort in ascending order. You may want to consider using `np.argsort` and using the fact that the ascending sorting indices for `-v` and the descending sorting indices for `v` are the same.\n",
        " 4. Other numpy functions you may want to use: `np.mean`, `np.linalg.eig`."
      ]
    },
    {
      "cell_type": "code",
      "execution_count": 81,
      "id": "69095bc0-d3d2-48d0-8c94-8933ba894d12",
      "metadata": {
        "id": "69095bc0-d3d2-48d0-8c94-8933ba894d12"
      },
      "outputs": [],
      "source": [
        "def mypca(X):\n",
        "    mu = np.mean(X, axis=0)\n",
        "    X2 = X - mu\n",
        "\n",
        "    cov_matrix = np.cov(X2, rowvar=False)\n",
        "\n",
        "    eigenvalues, eigenvectors = np.linalg.eig(cov_matrix)\n",
        "    sorted_index = np.argsort(eigenvalues)[::-1]\n",
        "\n",
        "    lambdas = eigenvalues[sorted_index]\n",
        "    W = eigenvectors[:, sorted_index]\n",
        "    return W, lambdas, mu"
      ]
    },
    {
      "cell_type": "code",
      "execution_count": 82,
      "id": "4c8cf8fe-7274-4d1e-8260-050ed4589ddf",
      "metadata": {
        "id": "4c8cf8fe-7274-4d1e-8260-050ed4589ddf"
      },
      "outputs": [
        {
          "name": "stdout",
          "output_type": "stream",
          "text": [
            "W = [[-0.19056484  0.29124074  0.9374774 ]\n",
            " [ 0.75580654 -0.56588686  0.32943669]\n",
            " [ 0.62645153  0.7713306  -0.11228352]]\n",
            "\n",
            "lambdas = [0.0568462  0.02424662 0.00291952]\n",
            "\n",
            "mu = [0.47868135 0.70558555 0.68530379]\n"
          ]
        }
      ],
      "source": [
        "# TEST\n",
        "np.random.seed(0)\n",
        "X = np.random.rand(4, 3) # Three features; four samples.\n",
        "W, lambdas, mu = mypca(X)\n",
        "print(f\"W = {W}\")\n",
        "print(f\"\\nlambdas = {lambdas}\")\n",
        "print(f\"\\nmu = {mu}\")\n",
        "\n",
        "assert W.shape == (3, 3), \"Wrong shape of array W!\"\n",
        "assert len(lambdas) == 3, \"Wrong length of vector lambdas!\"\n",
        "assert len(mu) == 3, \"Wrong length of vector mu!\""
      ]
    },
    {
      "cell_type": "markdown",
      "id": "34f454a5-2106-4e35-82c0-3e8778992b5d",
      "metadata": {
        "id": "34f454a5-2106-4e35-82c0-3e8778992b5d",
        "tags": []
      },
      "source": [
        "### Step 2: Implementing K-Means (Graded 40%)\n",
        "Define a function `mykmeans(X, K, maxiter=200, epsilon=0.0001)` with the following signature:\n",
        " - Input\n",
        "     + `X`: N x D dimensional dataset\n",
        "     + `K`: Hyper-parameter (number of clusters) of K-Means\n",
        "     + `maxiter`: maximum number of iterations (default 200)\n",
        "     + `epsilon`: algorithm will stop when error improvement < epsilon (or number of iterations surpasses `maxiter`) (default 200)\n",
        " - Output: `(M, A)`\n",
        "     + `M`: K x D dimensional matrix of means\n",
        "     + `A`: N x 1 dimensional cluster assignments\n",
        "     \n",
        "Notes:\n",
        " 1. It is not necessary but you may want to test your function in a simple example that is easy to visualize, like the ones in the book. In that case, you'll need to come up with it yourself. If you do so, I would advise doing so in a separate Python file and if you do it in this notebook _do not leave that extra code in, or you'll be penalized_.\n",
        " 2. You will need to compute distances between samples `X[n]` and mean vectors `M[k]`. You can use the function `dist` given below for that. Do not modify it."
      ]
    },
    {
      "cell_type": "code",
      "execution_count": 83,
      "id": "11d3c25f-9380-4283-b066-9bfdc405d1c7",
      "metadata": {
        "id": "11d3c25f-9380-4283-b066-9bfdc405d1c7"
      },
      "outputs": [],
      "source": [
        "# DO NOT MODIFY\n",
        "from scipy.spatial.distance import cdist\n",
        "# Hint: you will need this function in your K-Means (mykmeans) and BoAW (myboaw) function implementations\n",
        "def dist(X, M):\n",
        "    \"\"\"Computes the matrix with entries dist_matrix_nk = euclidean distance between X[n] and M[k] efficiently.\"\"\"\n",
        "    return cdist(X,M,metric='euclidean')"
      ]
    },
    {
      "cell_type": "code",
      "execution_count": 201,
      "id": "41963bd4-ec5f-4bed-9d54-5c4d674b36b6",
      "metadata": {
        "id": "41963bd4-ec5f-4bed-9d54-5c4d674b36b6"
      },
      "outputs": [],
      "source": [
        "def mykmeans(X, K, maxiter=200, epsilon=0.0001):\n",
        "    np.random.seed(1)\n",
        "    N, D = X.shape\n",
        "    # initialize model/output variables\n",
        "    initial_indices = np.random.choice(N, K) # sample random K out of N instances to use as initial means\n",
        "    M = X[initial_indices, :] # (K, D) matrix\n",
        "    min_indices = np.zeros((N, 1))\n",
        "    error_log = np.zeros((maxiter,1)) # You can save the errors here, to then use for computing delta\n",
        "    iteration = 0\n",
        "    cont = 1 # set to 0 when convergence criteria is met\n",
        "\n",
        "    print(\"Running k-means...\")\n",
        "    while cont:\n",
        "        dist_matrix = dist(X,M)\n",
        "        min_indices = np.argmin(dist_matrix, axis=1)\n",
        "\n",
        "        M2 = np.array([X[min_indices == k].mean(axis=0) if X[min_indices == k].shape[0] > 0 else M[k] for k in range(K)])\n",
        "\n",
        "        if iteration == 0:\n",
        "            delta = 100000 # Something very high\n",
        "        else:\n",
        "            delta = np.mean(np.linalg.norm(M2 - M, axis=1))\n",
        "            \n",
        "        M = M2\n",
        "        error_log[iteration] = delta\n",
        "\n",
        "        if (delta <= epsilon or iteration == maxiter):\n",
        "            cont=0\n",
        "\n",
        "        assert not np.isnan(delta), \"delta is nan!\"\n",
        "\n",
        "        print(f\"iteration: {iteration}, delta: {delta}\")\n",
        "        iteration = iteration + 1\n",
        "\n",
        "    # Final update of the indices specifying the clusters for each sample\n",
        "    dist_matrix = dist(X,M)\n",
        "    min_indices = np.argmin(dist_matrix, axis=1)\n",
        "    \n",
        "    A = min_indices # Just renaming\n",
        "\n",
        "    return M, A"
      ]
    },
    {
      "cell_type": "code",
      "execution_count": 202,
      "id": "85b4aabd-172c-400d-84aa-ef21e2c87c4b",
      "metadata": {
        "id": "85b4aabd-172c-400d-84aa-ef21e2c87c4b"
      },
      "outputs": [
        {
          "name": "stdout",
          "output_type": "stream",
          "text": [
            "Running k-means...\n",
            "iteration: 0, delta: 100000\n",
            "iteration: 1, delta: 0.8367721822455686\n",
            "iteration: 2, delta: 0.8485990377670415\n",
            "iteration: 3, delta: 0.0\n"
          ]
        },
        {
          "data": {
            "text/plain": [
              "(array([[6.75      , 8.5       ],\n",
              "        [4.4       , 3.        ],\n",
              "        [8.66666667, 3.66666667]]),\n",
              " array([1, 1, 2, 1, 0, 0, 2, 0, 0, 1, 2, 1], dtype=int64))"
            ]
          },
          "execution_count": 202,
          "metadata": {},
          "output_type": "execute_result"
        }
      ],
      "source": [
        "# TEST\n",
        "np.random.seed(0)\n",
        "X = np.random.randint(1, 10, (12, 2)) #  two features; 12 samples.\n",
        "K = 3\n",
        "mykmeans(X, K)"
      ]
    },
    {
      "cell_type": "markdown",
      "id": "46551e5b-d763-4cfe-afcb-b4adda405bb9",
      "metadata": {
        "id": "46551e5b-d763-4cfe-afcb-b4adda405bb9",
        "tags": []
      },
      "source": [
        "### Step 3: Implementing Bag of Audio Words (BoAW) representation (Graded 20%)\n",
        "Define a function `myboaw(X_LLD, M)` which assigns the set of LLDs in the first argument to the nearest mean using the matrix of means given in the second argument.\n",
        "The function should have the following signature:\n",
        " - Input:\n",
        "     + `X_LLD`: N x D matrix of LLDs from each utterance, where N is the number of frames / instances and D is the (reduced) LLD dimensionality\n",
        "     + `M`: K x D matrix of means (code vectors) outputed from K-Means\n",
        " - Output:\n",
        "     + `boaw_rep`: K x 1 matrix with the _normalized_ boaw representation for each cluster k in each entry.\n",
        "     \n",
        "Hint:\n",
        " - After obtaining the K x 1 vector of unnormalized boaw representations (whose entries are integers), you can get the normalized version by simple dividing the unnormalized vector by the sum over all the entries of the unnormalized boaw vector."
      ]
    },
    {
      "cell_type": "code",
      "execution_count": 86,
      "id": "dea4fe2e-c84d-4567-b115-be673d2429c4",
      "metadata": {
        "id": "dea4fe2e-c84d-4567-b115-be673d2429c4"
      },
      "outputs": [],
      "source": [
        "def myboaw(X_LLD, M):\n",
        "    K, _ = M.shape\n",
        "\n",
        "    dist_matrix = dist(X_LLD, M)         \n",
        "    clusterings = np.argmin(dist_matrix, axis=1)\n",
        "\n",
        "    boaw_unnormalised = np.bincount(clusterings, minlength=K)\n",
        "    boaw_rep = boaw_unnormalised / np.sum(boaw_unnormalised)\n",
        "\n",
        "    return boaw_rep"
      ]
    },
    {
      "cell_type": "code",
      "execution_count": 166,
      "id": "02a255b6-d146-40ee-a60d-1d10d0ee8fcc",
      "metadata": {
        "id": "02a255b6-d146-40ee-a60d-1d10d0ee8fcc"
      },
      "outputs": [
        {
          "name": "stdout",
          "output_type": "stream",
          "text": [
            "Running k-means...\n",
            "iteration: 0, delta: 100000\n",
            "iteration: 1, delta: 1.4837962962962965\n",
            "iteration: 2, delta: 1.087044595616024\n",
            "iteration: 3, delta: 0.0\n",
            "[0.33333333 0.41666667 0.25      ]\n"
          ]
        }
      ],
      "source": [
        "# TEST\n",
        "np.random.seed(0)\n",
        "X = np.random.randint(1, 10, (12, 2)) #  two features; 12 samples.\n",
        "K = 3\n",
        "M, _ = mykmeans(X, K)\n",
        "print(myboaw(X, M))"
      ]
    },
    {
      "cell_type": "markdown",
      "id": "f10e1941-d5ce-476d-b405-8eb10120c942",
      "metadata": {
        "id": "f10e1941-d5ce-476d-b405-8eb10120c942",
        "tags": []
      },
      "source": [
        "## Step 4: BoAW representation in action (graded 20%)"
      ]
    },
    {
      "cell_type": "markdown",
      "id": "265b6340-cee4-4fdd-9f9a-1b8e7379fd94",
      "metadata": {
        "id": "265b6340-cee4-4fdd-9f9a-1b8e7379fd94",
        "tags": []
      },
      "source": [
        "### Step 4.1: Data ingestion (0% - we do it for you!)\n",
        "Read the data and place them in an appropriate data structure such that LLD sequence coming from each file (=utterance) is contained separately.\n",
        "\n",
        "NOTES:\n",
        " 1. Even though you do not need to write code for this part, make sure you understand what is going on, otherwise you will not comprehend the next steps.\n",
        " 2. I would advise you to put the RAVDESS directory in the directory where this notebook is being run from - otherwise you will need to modify the variable `base_folder` below, as is written there."
      ]
    },
    {
      "cell_type": "code",
      "execution_count": 88,
      "id": "eb8bbf65-3c7a-4e93-9ec4-d576db9bcde2",
      "metadata": {
        "id": "eb8bbf65-3c7a-4e93-9ec4-d576db9bcde2"
      },
      "outputs": [],
      "source": [
        "# DO NOT MODIFY\n",
        "\n",
        "import glob\n",
        "import os\n",
        "import pandas as pd\n",
        "\n",
        "\n",
        "# Each file will have some data and metadata we will want to record. We do so in using a class:\n",
        "class FileData():\n",
        "    def __init__(self, speakerid, emoid, LLDseq, LLDcount):\n",
        "        self.speakerid = speakerid\n",
        "        self.emoid = emoid\n",
        "        self.LLDseq = LLDseq\n",
        "        self.LLDcount = LLDcount\n",
        "\n",
        "\n",
        "def ingest_ravdess_data(base_folder):\n",
        "    \"\"\"Build list of FileData instances, one per file/utterance.\"\"\"\n",
        "    LLD_folder = 'LLD_CSV_IS13/'\n",
        "    list_actors_dirs = sorted(glob.glob(os.path.join(base_folder, LLD_folder, 'Actor*')))\n",
        "    #print(list_actors_dirs)\n",
        "\n",
        "    cnt = 0\n",
        "    LLD_data = [] # To be populated by instances of FileData\n",
        "\n",
        "    # The metadata can be obtained from the provided metadata.csv or from the\n",
        "    # filename directly. We'll do the latter.\n",
        "\n",
        "    for actor_folder in list_actors_dirs:\n",
        "        list_actorLLDfiles = sorted(glob.glob(os.path.join(actor_folder, '*.csv')))\n",
        "        #print(list_actorLLDfiles)\n",
        "        for actor_file in list_actorLLDfiles:\n",
        "            #print(f\"file: {actor_file}\")\n",
        "            cnt = cnt + 1\n",
        "            tmp_data_og = pd.read_csv(actor_file, sep=';')\n",
        "            tmp_data = tmp_data_og.iloc[:, 2:]\n",
        "            # if cnt == 1: # Visualise data on first iteration\n",
        "            #     print(tmp_data.shape)\n",
        "            #     print(tmp_data.iloc[:5, :4])\n",
        "            #     cols = tmp_data.columns\n",
        "            #     #print(f\"Column names: {[\"\\n\\t\" + f\"{col}\" for col in cols]}\")\n",
        "            #     print(\"\\nColumns:\")\n",
        "            #     for col in cols:\n",
        "            #         print(\"\\t\" + f\"{col}\")\n",
        "            actor_file_wo_ext = os.path.splitext(actor_file)[0] # Remove extension from file name\n",
        "            filecodes = str.split(actor_file_wo_ext,'-') # list with the filecodes, for example ['03', '02', ...]\n",
        "            emoid = int(filecodes[2]) # the third filecode corresponds to the emotion id\n",
        "            #print(f\"emoid: {emoid}\")\n",
        "            speakerid = int(filecodes[-1]) # the last filecode corresponds to the actor/speaker id\n",
        "            LLD_data.append(FileData(speakerid, emoid, tmp_data, tmp_data.shape[0]))\n",
        "    assert len(LLD_data) == 704, \"Something went wrong! There are 704 csv files in the RAVDESS dataset, but len(LLD_data) != 704.\"\n",
        "\n",
        "    return LLD_data"
      ]
    },
    {
      "cell_type": "code",
      "execution_count": 89,
      "id": "7659890d-32a6-4986-8d97-4c18f6c29bd9",
      "metadata": {
        "id": "7659890d-32a6-4986-8d97-4c18f6c29bd9"
      },
      "outputs": [],
      "source": [
        "# ONLY MODIFY IF BASE-FOLDER IS DIFFERENT!\n",
        "base_folder = './RAVDESS/' # Assuming that the RAVDESS directory is in the directory where this notebook is being run from.\n",
        "LLD_data = ingest_ravdess_data(base_folder) # LLD_data is a data structure that keeps the acoustic LLD sequences for each audio file\n",
        "# The goal of this assignment is to convert the (arbitrary length) LLD sequences into a fixed length utterance representation using Bag-of-Audio-Words approach"
      ]
    },
    {
      "cell_type": "code",
      "execution_count": 90,
      "id": "ccf54247-4a1f-454e-b13a-110499fc72ad",
      "metadata": {
        "id": "ccf54247-4a1f-454e-b13a-110499fc72ad"
      },
      "outputs": [],
      "source": [
        "# DO NOT MODIFY\n",
        "\n",
        "# In this part, each function does one of these things:\n",
        "#  1. Generate train data table with one LLDseq (corresponding to one audio frame) per row, using the first few speakers only.\n",
        "#  2. Generate the mask arrays (using the speakerids) that will be used in the rest of this notebook\n",
        "#        for splitting the datasets in train, val and test sets.\n",
        "#  3. Generate the response variable vectors for the train, val and test sets.\n",
        "\n",
        "def build_ravdess_train_dataset(LLD_data, n_speakers_train=8):\n",
        "    \"\"\"Builds RAVDESS dataset from list of FileData corresponding to the LLD of the utterances.\n",
        "\n",
        "    Input:\n",
        "        LLD_data -- list of FileData instances, one for each utterance file.\n",
        "\n",
        "    Output:\n",
        "        all_train_LLDsequences -- dataframe of shape (N_seqs=total number of LLD seqs, number of LLD features),\n",
        "                                    with one LLD sequence per row.\n",
        "\n",
        "    \"\"\"\n",
        "    all_train_LLDsequences = pd.concat([file_data.LLDseq for file_data in LLD_data if file_data.speakerid <= n_speakers_train]) # Each LLDseq is one feature vector\n",
        "\n",
        "    return all_train_LLDsequences\n",
        "\n",
        "\n",
        "def generate_splitting_masks(LLD_data, n_speakers_train=8, n_speakers_val=4):\n",
        "    all_speakerids = np.array([file_data.speakerid for file_data in LLD_data])\n",
        "\n",
        "    # Masks to build dataset using speaker ids:\n",
        "    mask_train = all_speakerids <= n_speakers_train\n",
        "    mask_val = np.logical_and(n_speakers_train < all_speakerids, all_speakerids <= n_speakers_train + n_speakers_val)\n",
        "    mask_test = n_speakers_train + n_speakers_val < all_speakerids\n",
        "\n",
        "    return mask_train, mask_val, mask_test, all_speakerids\n",
        "\n",
        "def prepare_ravdess_response_data(LLD_data, mask_train, mask_val, mask_test):\n",
        "    all_emoids = np.array([file_data.emoid for file_data in LLD_data])\n",
        "\n",
        "    # Response's part of the dataset\n",
        "    emoids_train = all_emoids[mask_train]\n",
        "    emoids_val = all_emoids[mask_val]\n",
        "    emoids_test = all_emoids[mask_test]\n",
        "\n",
        "    return emoids_train, emoids_val, emoids_test"
      ]
    },
    {
      "cell_type": "code",
      "execution_count": 91,
      "id": "9a8456d0-2638-4beb-9ad5-c2b5e4190f7e",
      "metadata": {
        "id": "9a8456d0-2638-4beb-9ad5-c2b5e4190f7e"
      },
      "outputs": [],
      "source": [
        "# DO NOT MODIFY\n",
        "# Make 0.5-0.25-0.25 train-val-test split using speakerid\n",
        "# (i.e. 8 speakers for the train, 4 speakers for the val and 4 speakers for the test sets).\n",
        "mask_train, mask_val, mask_test, _ = generate_splitting_masks(LLD_data)\n",
        "emoids_train, emoids_val, emoids_test = prepare_ravdess_response_data(LLD_data, mask_train, mask_val, mask_test)\n",
        "LLDs_train = build_ravdess_train_dataset(LLD_data)"
      ]
    },
    {
      "cell_type": "code",
      "execution_count": 92,
      "id": "9d139457-2616-4047-b226-c4c54af7aa5a",
      "metadata": {
        "id": "9d139457-2616-4047-b226-c4c54af7aa5a"
      },
      "outputs": [
        {
          "name": "stdout",
          "output_type": "stream",
          "text": [
            "(162621, 130)\n",
            "[1 1 1 1 2 2 2 2 2 2 2 2 3 3 3 3 3 3 3 3 4 4 4 4 4 4 4 4 5 5 5 5 5 5 5 5 6\n",
            " 6 6 6 6 6 6 6]\n"
          ]
        }
      ],
      "source": [
        "# TEST:\n",
        "print(LLDs_train.shape)\n",
        "print(emoids_train[:44]) # Look at some responses\n",
        "\n",
        "assert LLDs_train.shape[1] == 130, \"There should be 130 features.\""
      ]
    },
    {
      "cell_type": "markdown",
      "id": "c14a0d6f-dbd5-462f-b188-7f7e1ab048f8",
      "metadata": {
        "id": "c14a0d6f-dbd5-462f-b188-7f7e1ab048f8",
        "tags": []
      },
      "source": [
        "### Step 4.2: Learn PCA projection (5%)\n",
        "Learn a PCA projection (i.e. the eigenvectors and eigenvalues of the covariance matrix) using your own PCA implementation, namely `mypca`.\n",
        "\n",
        "NOTE:\n",
        "If there is a large variance across variances of the features then it is wise to z-normalize the data before applying PCA (using for example an instance of the `sklearn.preprocessing.StandardScaler` class).\n",
        "\n",
        "Running the code below shows that indeed there is a huge difference in variances"
      ]
    },
    {
      "cell_type": "code",
      "execution_count": 93,
      "id": "ba492d46-00bd-41cc-8bd1-1373b16e373e",
      "metadata": {
        "id": "ba492d46-00bd-41cc-8bd1-1373b16e373e"
      },
      "outputs": [
        {
          "name": "stdout",
          "output_type": "stream",
          "text": [
            "Variances:\n",
            "-----\n",
            "F0final_sma                  23295.126736\n",
            "voicingFinalUnclipped_sma        0.184585\n",
            "jitterLocal_sma                  0.002086\n",
            "jitterDDP_sma                    0.001889\n",
            "shimmerLocal_sma                 0.010514\n",
            "                                 ...     \n",
            "mfcc_sma_de[10]                  6.408354\n",
            "mfcc_sma_de[11]                  6.417294\n",
            "mfcc_sma_de[12]                  5.963105\n",
            "mfcc_sma_de[13]                  4.900797\n",
            "mfcc_sma_de[14]                  4.299584\n",
            "Length: 130, dtype: float64\n",
            "-----\n",
            "Variance of the variances: 5.4100025350023796e+26\n"
          ]
        }
      ],
      "source": [
        "# DO NOT MODIFY\n",
        "data_var = LLDs_train.var()\n",
        "print(f\"Variances:\\n{'-'*5}\\n{data_var}\\n{'-'*5}\")\n",
        "#ratio_extremes = np.max(data_var)/np.min(data_var)\n",
        "var_of_variances = np.var(data_var)\n",
        "#print(ratio_extremes)\n",
        "print(f\"Variance of the variances: {var_of_variances}\")"
      ]
    },
    {
      "cell_type": "code",
      "execution_count": 94,
      "id": "d2cfdf5f-01f8-4ee8-a9f4-af9bde4c1236",
      "metadata": {
        "id": "d2cfdf5f-01f8-4ee8-a9f4-af9bde4c1236"
      },
      "outputs": [],
      "source": [
        "# You now need to Z-normalize LLDs_train. Call the resulting variable X_zn. You can use sklearn.preprocessing.StandardScaler.\n",
        "from sklearn.preprocessing import StandardScaler\n",
        "# Instantiate scaler\n",
        "\n",
        "scaler = StandardScaler()\n",
        "# Fit scaler\n",
        "X_zn = scaler.fit_transform(LLDs_train) \n",
        "# Finally, apply mypca to extract pca_W and pca_lambdas\n",
        "pca_W, pca_lambdas, _ = mypca(X_zn)"
      ]
    },
    {
      "cell_type": "code",
      "execution_count": 95,
      "id": "772eaa8f-f79c-4eb9-8f06-b0d90b5693f3",
      "metadata": {
        "id": "772eaa8f-f79c-4eb9-8f06-b0d90b5693f3"
      },
      "outputs": [
        {
          "name": "stdout",
          "output_type": "stream",
          "text": [
            "(162621, 130)\n",
            "(130, 130)\n",
            "(130,)\n"
          ]
        }
      ],
      "source": [
        "# TEST:\n",
        "print(X_zn.shape)\n",
        "print(pca_W.shape)\n",
        "print(pca_lambdas.shape)\n",
        "\n",
        "assert X_zn.shape == (162621, 130), \"Something went wrong!\"\n",
        "assert pca_W.shape == (130, 130), \"Something went wrong!\"\n",
        "assert pca_lambdas.shape == (130,), \"Something went wrong!\""
      ]
    },
    {
      "cell_type": "markdown",
      "id": "2ae2f981-715a-4e26-8711-c534106b7c0c",
      "metadata": {
        "id": "2ae2f981-715a-4e26-8711-c534106b7c0c",
        "tags": []
      },
      "source": [
        "### Step 4.3: Applying PCA and K-means (5%)\n",
        "\n",
        "Project the training set using the first `p_pca` PCA components and train a K-Means model with K components.\n",
        "Using a number `p_pca` of principal components equal to 120 and a number of clusters `K` of 256."
      ]
    },
    {
      "cell_type": "code",
      "execution_count": 203,
      "id": "7388eb09-6feb-4e12-85a6-01934402e3e5",
      "metadata": {
        "id": "7388eb09-6feb-4e12-85a6-01934402e3e5"
      },
      "outputs": [],
      "source": [
        "# DO NOT MODIFY\n",
        "p_pca = 120\n",
        "K = 256"
      ]
    },
    {
      "cell_type": "markdown",
      "id": "96bdbb55-6b36-489e-ac12-3a9d45b09162",
      "metadata": {
        "id": "96bdbb55-6b36-489e-ac12-3a9d45b09162"
      },
      "source": [
        "We already have the pre-processed (z-normalized) training LLD data.\n",
        "\n",
        "First, get PCA projection onto the (basis spanned by) the first p_pca eigenvectors.\n",
        "Call the resulting matrix `Z_LLD_train`.\n",
        "\n",
        "Hint: This function should not have more than a couple lines."
      ]
    },
    {
      "cell_type": "code",
      "execution_count": 191,
      "id": "8aba2f4a-7344-49de-93ac-62ac0f0921db",
      "metadata": {
        "id": "8aba2f4a-7344-49de-93ac-62ac0f0921db"
      },
      "outputs": [],
      "source": [
        "def project_onto_pcs(X, pca_W, p_pca):\n",
        "    # Projecting coincides with matrix multiplication (if pca_W column vectors are normalized, which they are):\n",
        "    X_projected = X.dot(pca_W[:, :p_pca])\n",
        "    return X_projected"
      ]
    },
    {
      "cell_type": "code",
      "execution_count": 192,
      "id": "9422f878-82f9-4015-a9d5-a3fcf403589c",
      "metadata": {
        "id": "9422f878-82f9-4015-a9d5-a3fcf403589c"
      },
      "outputs": [],
      "source": [
        "# DO NOT MODIFY\n",
        "Z_LLD_train = project_onto_pcs(X_zn, pca_W, p_pca)"
      ]
    },
    {
      "cell_type": "code",
      "execution_count": 193,
      "id": "b8bb8861-4c72-4d3f-b1f1-01d9a22c35e1",
      "metadata": {
        "id": "b8bb8861-4c72-4d3f-b1f1-01d9a22c35e1"
      },
      "outputs": [
        {
          "name": "stdout",
          "output_type": "stream",
          "text": [
            "(162621, 120)\n"
          ]
        }
      ],
      "source": [
        "# TEST\n",
        "print(Z_LLD_train.shape)\n",
        "assert Z_LLD_train.shape == (162621, 120), \"Something went wrong! Shape of Z_LLD_train is incorrect!\""
      ]
    },
    {
      "cell_type": "code",
      "execution_count": 194,
      "id": "ce79973c-bd64-4f32-aac1-38b9660e28cf",
      "metadata": {
        "id": "ce79973c-bd64-4f32-aac1-38b9660e28cf"
      },
      "outputs": [
        {
          "name": "stdout",
          "output_type": "stream",
          "text": [
            "(40656, 120)\n"
          ]
        }
      ],
      "source": [
        "# DO NOT MODIFY\n",
        "# We will use only every fourth frame/LLD sequence, to reduce the computation time.\n",
        "\n",
        "def subsample(X, n_subsample):\n",
        "    X_subsample = X[np.arange(X.shape[0], step=n_subsample), :] # Use every n_sample'th point\n",
        "    return X_subsample\n",
        "\n",
        "n_subsample = 4 # Use every fourth frame\n",
        "Z_LLD_train_subsample = subsample(Z_LLD_train, n_subsample)\n",
        "print(Z_LLD_train_subsample.shape)"
      ]
    },
    {
      "cell_type": "code",
      "execution_count": 204,
      "id": "faee099e-c742-4f8e-99fb-2ee1bb8402ac",
      "metadata": {
        "id": "faee099e-c742-4f8e-99fb-2ee1bb8402ac"
      },
      "outputs": [
        {
          "name": "stdout",
          "output_type": "stream",
          "text": [
            "Running k-means...\n",
            "iteration: 0, delta: 100000\n",
            "iteration: 1, delta: 1.4853194536069052\n",
            "iteration: 2, delta: 1.0522894840014116\n",
            "iteration: 3, delta: 0.8545235815997467\n",
            "iteration: 4, delta: 0.7292941487224829\n",
            "iteration: 5, delta: 0.6398216055408585\n",
            "iteration: 6, delta: 0.6039399874692676\n",
            "iteration: 7, delta: 0.4780239513337041\n",
            "iteration: 8, delta: 0.3946065781465394\n",
            "iteration: 9, delta: 0.3847282034798641\n",
            "iteration: 10, delta: 0.3767501446923005\n",
            "iteration: 11, delta: 0.3824625031632304\n",
            "iteration: 12, delta: 0.39808426370921757\n",
            "iteration: 13, delta: 0.34272415064020684\n",
            "iteration: 14, delta: 0.3025265189681985\n",
            "iteration: 15, delta: 0.26986832604909433\n",
            "iteration: 16, delta: 0.2339084815741848\n",
            "iteration: 17, delta: 0.2311520818546386\n",
            "iteration: 18, delta: 0.24330338217228434\n",
            "iteration: 19, delta: 0.18462894840477537\n",
            "iteration: 20, delta: 0.1570275245144761\n",
            "iteration: 21, delta: 0.14894002243841312\n",
            "iteration: 22, delta: 0.13270682232083902\n",
            "iteration: 23, delta: 0.1509799135015853\n",
            "iteration: 24, delta: 0.13060377010138005\n",
            "iteration: 25, delta: 0.10956547449486749\n",
            "iteration: 26, delta: 0.09918590554216389\n",
            "iteration: 27, delta: 0.11001587562733137\n",
            "iteration: 28, delta: 0.12220625264412151\n",
            "iteration: 29, delta: 0.11563868310886116\n",
            "iteration: 30, delta: 0.12266516887386368\n",
            "iteration: 31, delta: 0.1207596127254486\n",
            "iteration: 32, delta: 0.12072091369715372\n",
            "iteration: 33, delta: 0.10663480717571126\n",
            "iteration: 34, delta: 0.09236276614706995\n",
            "iteration: 35, delta: 0.10337822118849552\n",
            "iteration: 36, delta: 0.05230025193345912\n",
            "iteration: 37, delta: 0.05537338240052919\n",
            "iteration: 38, delta: 0.047478451088591514\n",
            "iteration: 39, delta: 0.04496153880612005\n",
            "iteration: 40, delta: 0.037511377410212085\n",
            "iteration: 41, delta: 0.047067479962984715\n",
            "iteration: 42, delta: 0.055097517490573865\n",
            "iteration: 43, delta: 0.06257764944328131\n",
            "iteration: 44, delta: 0.059131325831578554\n",
            "iteration: 45, delta: 0.044296182657304825\n",
            "iteration: 46, delta: 0.03724930103251664\n",
            "iteration: 47, delta: 0.037621891835747566\n",
            "iteration: 48, delta: 0.031689025998768924\n",
            "iteration: 49, delta: 0.027310755968437198\n",
            "iteration: 50, delta: 0.02956799104885771\n",
            "iteration: 51, delta: 0.025417915656452537\n",
            "iteration: 52, delta: 0.02185473528758805\n",
            "iteration: 53, delta: 0.017842862895934765\n",
            "iteration: 54, delta: 0.01885420035182754\n",
            "iteration: 55, delta: 0.017998194346608966\n",
            "iteration: 56, delta: 0.01962429579778479\n",
            "iteration: 57, delta: 0.02691198727332337\n",
            "iteration: 58, delta: 0.017227332532669892\n",
            "iteration: 59, delta: 0.013980342949446185\n",
            "iteration: 60, delta: 0.024358103880127376\n",
            "iteration: 61, delta: 0.024407204938268232\n",
            "iteration: 62, delta: 0.024081662064668375\n",
            "iteration: 63, delta: 0.014563644811099088\n",
            "iteration: 64, delta: 0.014307156883921958\n",
            "iteration: 65, delta: 0.014408401041781593\n",
            "iteration: 66, delta: 0.01472248817032616\n",
            "iteration: 67, delta: 0.018147623943181448\n",
            "iteration: 68, delta: 0.016637674755338436\n",
            "iteration: 69, delta: 0.020657383200012907\n",
            "iteration: 70, delta: 0.013887517912994023\n",
            "iteration: 71, delta: 0.011296891434349244\n",
            "iteration: 72, delta: 0.014225645173368795\n",
            "iteration: 73, delta: 0.009445598950529804\n",
            "iteration: 74, delta: 0.007926807633723828\n",
            "iteration: 75, delta: 0.009830427036566631\n",
            "iteration: 76, delta: 0.012119591883824238\n",
            "iteration: 77, delta: 0.008174198806657488\n",
            "iteration: 78, delta: 0.005880764176436424\n",
            "iteration: 79, delta: 0.0045755232310547775\n",
            "iteration: 80, delta: 0.005146672799086636\n",
            "iteration: 81, delta: 0.006638494469897728\n",
            "iteration: 82, delta: 0.006634939978182964\n",
            "iteration: 83, delta: 0.009159165130318888\n",
            "iteration: 84, delta: 0.009731824018790844\n",
            "iteration: 85, delta: 0.011768479558475388\n",
            "iteration: 86, delta: 0.015752482600701397\n",
            "iteration: 87, delta: 0.009230786089150969\n",
            "iteration: 88, delta: 0.009142759421832874\n",
            "iteration: 89, delta: 0.011056908732972232\n",
            "iteration: 90, delta: 0.01461018095278735\n",
            "iteration: 91, delta: 0.00981331382149876\n",
            "iteration: 92, delta: 0.007641510454265111\n",
            "iteration: 93, delta: 0.008868318240938127\n",
            "iteration: 94, delta: 0.007751956591248141\n",
            "iteration: 95, delta: 0.006701336813455291\n",
            "iteration: 96, delta: 0.006544047332500854\n",
            "iteration: 97, delta: 0.0058184875280009336\n",
            "iteration: 98, delta: 0.005690011602992021\n",
            "iteration: 99, delta: 0.004778105010343213\n",
            "iteration: 100, delta: 0.005153414746223864\n",
            "iteration: 101, delta: 0.005415030808836052\n",
            "iteration: 102, delta: 0.005927742476194704\n",
            "iteration: 103, delta: 0.006049599178684915\n",
            "iteration: 104, delta: 0.0064899854641972\n",
            "iteration: 105, delta: 0.005444557281057557\n",
            "iteration: 106, delta: 0.005648675771303872\n",
            "iteration: 107, delta: 0.0050629060128981555\n",
            "iteration: 108, delta: 0.0032214570907420133\n",
            "iteration: 109, delta: 0.005079293890704428\n",
            "iteration: 110, delta: 0.004623230017572354\n",
            "iteration: 111, delta: 0.0017768875084672663\n",
            "iteration: 112, delta: 0.0014449439296577824\n",
            "iteration: 113, delta: 0.0013778110692237693\n",
            "iteration: 114, delta: 0.001778514012208032\n",
            "iteration: 115, delta: 0.0017631982287846094\n",
            "iteration: 116, delta: 0.0017543719682242692\n",
            "iteration: 117, delta: 0.001180364219863019\n",
            "iteration: 118, delta: 0.0010425622155121024\n",
            "iteration: 119, delta: 0.0011729480241700388\n",
            "iteration: 120, delta: 0.0009171596447319686\n",
            "iteration: 121, delta: 0.0009723913275094184\n",
            "iteration: 122, delta: 0.001728853711372909\n",
            "iteration: 123, delta: 0.0014957239298693304\n",
            "iteration: 124, delta: 0.0008084590177561981\n",
            "iteration: 125, delta: 0.0007054336520339594\n",
            "iteration: 126, delta: 0.0011499206523032535\n",
            "iteration: 127, delta: 0.0010113646378367494\n",
            "iteration: 128, delta: 0.0004698467686398148\n",
            "iteration: 129, delta: 0.0006996610337785772\n",
            "iteration: 130, delta: 0.001579341502920479\n",
            "iteration: 131, delta: 0.0016094798034697083\n",
            "iteration: 132, delta: 0.0018260938722675065\n",
            "iteration: 133, delta: 0.0018294347189436303\n",
            "iteration: 134, delta: 0.0028152029578427783\n",
            "iteration: 135, delta: 0.0025052143649272928\n",
            "iteration: 136, delta: 0.0019085737061398922\n",
            "iteration: 137, delta: 0.0021219801197002465\n",
            "iteration: 138, delta: 0.0018735810458791926\n",
            "iteration: 139, delta: 0.0032483080733264934\n",
            "iteration: 140, delta: 0.0016049782996840171\n",
            "iteration: 141, delta: 0.001988679866553301\n",
            "iteration: 142, delta: 0.002805255871816032\n",
            "iteration: 143, delta: 0.0035202682459600392\n",
            "iteration: 144, delta: 0.0035884057232794097\n",
            "iteration: 145, delta: 0.0016297558865173878\n",
            "iteration: 146, delta: 0.001467004757268952\n",
            "iteration: 147, delta: 0.0013390133252966971\n",
            "iteration: 148, delta: 0.001005890345138281\n",
            "iteration: 149, delta: 0.0008030367093785976\n",
            "iteration: 150, delta: 0.0005576133893001997\n",
            "iteration: 151, delta: 0.00035609053735261075\n",
            "iteration: 152, delta: 0.0004920750942186856\n",
            "iteration: 153, delta: 0.00038210429705704197\n",
            "iteration: 154, delta: 0.00020459414998765465\n",
            "iteration: 155, delta: 0.00035805420844361253\n",
            "iteration: 156, delta: 0.00044629358906679074\n",
            "iteration: 157, delta: 0.000920960687374197\n",
            "iteration: 158, delta: 0.0009690848680041343\n",
            "iteration: 159, delta: 0.0004964140490817911\n",
            "iteration: 160, delta: 0.00019083227203377787\n",
            "iteration: 161, delta: 0.00031534845419937214\n",
            "iteration: 162, delta: 0.0005931201595537099\n",
            "iteration: 163, delta: 0.000484352364480548\n",
            "iteration: 164, delta: 0.0007549169978426349\n",
            "iteration: 165, delta: 0.0007808595641301449\n",
            "iteration: 166, delta: 0.0006989041809823333\n",
            "iteration: 167, delta: 0.0011855453046974325\n",
            "iteration: 168, delta: 0.0007139404434299609\n",
            "iteration: 169, delta: 0.000522261602639651\n",
            "iteration: 170, delta: 0.0007214870791967883\n",
            "iteration: 171, delta: 0.0008826627191240082\n",
            "iteration: 172, delta: 0.0012212797699211345\n",
            "iteration: 173, delta: 0.00098356387847568\n",
            "iteration: 174, delta: 0.0011019596795897838\n",
            "iteration: 175, delta: 0.0010839399329671121\n",
            "iteration: 176, delta: 0.0009696476255500383\n",
            "iteration: 177, delta: 0.000960031929529636\n",
            "iteration: 178, delta: 0.0008299564104221453\n",
            "iteration: 179, delta: 0.0010029360264413956\n",
            "iteration: 180, delta: 0.0005029126980082665\n",
            "iteration: 181, delta: 0.00058393071339614\n",
            "iteration: 182, delta: 0.00045951388778081803\n",
            "iteration: 183, delta: 0.0005315425441695\n",
            "iteration: 184, delta: 0.0005837537204714646\n",
            "iteration: 185, delta: 0.001102175942961627\n",
            "iteration: 186, delta: 0.0005568133548454813\n",
            "iteration: 187, delta: 0.0003742195848980953\n",
            "iteration: 188, delta: 0.0006695908184070612\n",
            "iteration: 189, delta: 0.0012560816106214397\n",
            "iteration: 190, delta: 0.0014554942860550628\n",
            "iteration: 191, delta: 0.0012814359893231644\n",
            "iteration: 192, delta: 0.0006393949771786281\n",
            "iteration: 193, delta: 0.00025360346677841483\n",
            "iteration: 194, delta: 0.0003670326012944563\n",
            "iteration: 195, delta: 0.0003498485707089067\n",
            "iteration: 196, delta: 0.00034581525780352914\n",
            "iteration: 197, delta: 0.0004185564850459838\n",
            "iteration: 198, delta: 0.00017175476200900796\n",
            "iteration: 199, delta: 0.0\n"
          ]
        }
      ],
      "source": [
        "# Apply your kmeans implementation to the projected, subsampled, train data:\n",
        "np.random.seed(0)\n",
        "M, _ = mykmeans(Z_LLD_train_subsample, K)"
      ]
    },
    {
      "cell_type": "markdown",
      "id": "6bba6d6b-6cdf-431f-8b72-de46cd4d01d8",
      "metadata": {
        "id": "6bba6d6b-6cdf-431f-8b72-de46cd4d01d8",
        "tags": []
      },
      "source": [
        "### Step 4.4: BoAW encode each file using the loaded data (5%)\n",
        "Using the result of the K-means method and LLD_data, use your implementation of BoAW to build one histogram per utterance/file."
      ]
    },
    {
      "cell_type": "code",
      "execution_count": 196,
      "id": "b3b1c8e5-95f1-4512-940c-e1619afc3f50",
      "metadata": {
        "id": "b3b1c8e5-95f1-4512-940c-e1619afc3f50"
      },
      "outputs": [],
      "source": [
        "# We can collect all boaw representations in one matrix. We will later split it!\n",
        "\n",
        "def boaw_representations(LLD_data, scaler, pca_W, p_pca, K, M):\n",
        "    \"Generate matrix with one boaw representation (for each utterance) per row.\"\n",
        "    N_files = len(LLD_data) # One sample per file/utterance, each sample being a histogram.\n",
        "    #print(f\"Number of utterances: {N_files}\")\n",
        "    X_boaw_all = np.zeros((N_files, K)) # Each row will have K entries, each with the frequency of one of the clusters in that utterance/audio file.\n",
        "\n",
        "    for i in range(N_files):\n",
        "        LLD_normalized = scaler.transform(LLD_data[i].LLDseq)\n",
        "        LLD_projected = project_onto_pcs(LLD_normalized, pca_W, p_pca)\n",
        "        n_boaw_rep = myboaw(LLD_projected, M)\n",
        "        X_boaw_all[i] = n_boaw_rep\n",
        "\n",
        "    return X_boaw_all"
      ]
    },
    {
      "cell_type": "code",
      "execution_count": 197,
      "id": "3330a4fe-3df6-4a0d-8aad-31f7936bef65",
      "metadata": {
        "id": "3330a4fe-3df6-4a0d-8aad-31f7936bef65"
      },
      "outputs": [
        {
          "name": "stdout",
          "output_type": "stream",
          "text": [
            "X_boaw_all shape: (704, 256)\n"
          ]
        }
      ],
      "source": [
        "# DO NOT MODIFY\n",
        "X_boaw_all = boaw_representations(LLD_data, scaler, pca_W, p_pca, K, M)\n",
        "print(f\"X_boaw_all shape: {X_boaw_all.shape}\")\n",
        "assert X_boaw_all.shape == (704, 256), \"Something went wrong!\""
      ]
    },
    {
      "cell_type": "code",
      "execution_count": 198,
      "id": "edd2fb50-3d21-48c2-a56a-ba04e6afe4a6",
      "metadata": {
        "id": "edd2fb50-3d21-48c2-a56a-ba04e6afe4a6"
      },
      "outputs": [],
      "source": [
        "# DO NOT MODIFY\n",
        "# And now we split the representations in train and val sets\n",
        "\n",
        "def split_ravdess_filewise_boaw(X_boaw_all, mask_train, mask_val, mask_test):\n",
        "    \"\"\"Use the masks computed before to split X_boaw_all in train, val and test parts.\"\"\"\n",
        "    X_boaw_train = X_boaw_all[mask_train]\n",
        "    X_boaw_val = X_boaw_all[mask_val]\n",
        "    X_boaw_test = X_boaw_all[mask_test]\n",
        "\n",
        "    return X_boaw_train, X_boaw_val, X_boaw_test"
      ]
    },
    {
      "cell_type": "code",
      "execution_count": 199,
      "id": "283fa79e-3d90-4cb5-9a12-23374ed050dd",
      "metadata": {
        "id": "283fa79e-3d90-4cb5-9a12-23374ed050dd"
      },
      "outputs": [],
      "source": [
        "# DO NOT MODIFY\n",
        "X_boaw_train, X_boaw_val, X_boaw_test = split_ravdess_filewise_boaw(\n",
        "    X_boaw_all, mask_train, mask_val, mask_test\n",
        ")\n",
        "Y_train = emoids_train\n",
        "Y_val = emoids_val\n",
        "Y_test = emoids_test"
      ]
    },
    {
      "cell_type": "code",
      "execution_count": 200,
      "id": "cd64698d-0a6a-4f06-a6d6-0e08b1e4147a",
      "metadata": {
        "id": "cd64698d-0a6a-4f06-a6d6-0e08b1e4147a"
      },
      "outputs": [
        {
          "name": "stdout",
          "output_type": "stream",
          "text": [
            "(352, 256)\n",
            "(176, 256)\n",
            "(176, 256)\n",
            "(352,)\n",
            "(176,)\n",
            "(176,)\n"
          ]
        }
      ],
      "source": [
        "# TEST\n",
        "print(X_boaw_train.shape)\n",
        "print(X_boaw_val.shape)\n",
        "print(X_boaw_test.shape)\n",
        "print(Y_train.shape)\n",
        "print(Y_val.shape)\n",
        "print(Y_test.shape)"
      ]
    },
    {
      "cell_type": "markdown",
      "id": "388a61f1-c4d1-4923-a417-473c03f3ea31",
      "metadata": {
        "id": "388a61f1-c4d1-4923-a417-473c03f3ea31",
        "tags": []
      },
      "source": [
        "### Step 4.5: (5%)\n",
        "Use the sklearn implementation of LinearSVC (linear support vector machine) to optimize C using the validation set.\n",
        "\n",
        "To optimize C, simply try C = 10^-6, 10^-5, 10^-4, 10^-3, 10^-2, 10^-1, 10^-0, and select the one giving the best accuracy.\n",
        "Make sure to output best performance (i.e. accuracy) and corresponding C per BoAW representation."
      ]
    },
    {
      "cell_type": "code",
      "execution_count": 219,
      "id": "552bc7d8-1b69-4c33-9b75-0933a9bb340c",
      "metadata": {
        "id": "552bc7d8-1b69-4c33-9b75-0933a9bb340c"
      },
      "outputs": [],
      "source": [
        "from sklearn.svm import LinearSVC\n",
        "\n",
        "C_set = 10.**np.arange(-6, 1) # the experimental set of SVM complexity values\n",
        "\n",
        "def generate_performances(X_train, X_val, Y_train, Y_val, C_set):\n",
        "    \"\"\"Compute the performances of linear svc (with random state = 1) for each C in C_set.\n",
        "\n",
        "    Output:\n",
        "        performances -- (len(C_set), 1) array witha accuracy corresponding to C_set[i] on entry i.\n",
        "\n",
        "    \"\"\"\n",
        "    performances = np.zeros((len(C_set), 1)) # Performace for a certain C will simply be average correct preds = accuracy\n",
        "    for i in range(len(C_set)):\n",
        "        C = C_set[i]\n",
        "        ding = LinearSVC(C=C, random_state=1, dual='auto')\n",
        "\n",
        "        ding.fit(X_train, Y_train)\n",
        "\n",
        "        acc = ding.score(X_val, Y_val)\n",
        "        performances[i] = acc\n",
        "    return performances\n",
        "\n",
        "def find_best_C(C_set, performances):\n",
        "    \"\"\"Determines the best C in C_set using the list performances of accuracies.\n",
        "\n",
        "    Output:\n",
        "        best_C_boaw -- float\n",
        "        best_accuracy_boaw -- float\n",
        "    \"\"\"\n",
        "    index = np.argmax(performances)\n",
        "    best_C_boaw = C_set[index]\n",
        "    best_accuracy_boaw = performances[index]\n",
        "\n",
        "    return best_C_boaw, best_accuracy_boaw"
      ]
    },
    {
      "cell_type": "code",
      "execution_count": 220,
      "id": "b4ef091c-7e22-4c92-b9d3-5c85b823472d",
      "metadata": {
        "id": "b4ef091c-7e22-4c92-b9d3-5c85b823472d"
      },
      "outputs": [
        {
          "name": "stdout",
          "output_type": "stream",
          "text": [
            "For K=512 and p_pca=130:\n",
            "\tBest accuracy: [0.43181818]\n",
            "\tBest C: 0.001\n"
          ]
        }
      ],
      "source": [
        "# DO NOT MODIFY\n",
        "performances = generate_performances(X_boaw_train, X_boaw_val, Y_train, Y_val, C_set)\n",
        "best_C_boaw, best_accuracy_boaw = find_best_C(C_set, performances)\n",
        "\n",
        "print(f\"For K={K} and p_pca={p_pca}:\")\n",
        "print(f\"\\tBest accuracy: {best_accuracy_boaw}\")\n",
        "print(f\"\\tBest C: {best_C_boaw}\")"
      ]
    },
    {
      "cell_type": "markdown",
      "id": "99afe09a-4bf8-4349-ae0b-076f2888df68",
      "metadata": {
        "id": "99afe09a-4bf8-4349-ae0b-076f2888df68",
        "tags": []
      },
      "source": [
        "### Step 4.5: Repeat steps 4.3 and 4.4 with different values of `p_pca` and `K` (0% - we do it for you!)\n",
        "\n",
        "Use `p_pca` in {120, 130}.\n",
        "Use `K` in {256, 512}.\n",
        "(Therefore you'll have 4 BoAW representations in total).\n",
        "\n",
        "Important note: since there will be hundreds of thousands of LLD vectors\n",
        "it will be wise to subsample them before K-Means taking one every `n_subsample=4` frames."
      ]
    },
    {
      "cell_type": "code",
      "execution_count": 207,
      "id": "7ccc5a31-7d4f-47d2-acc9-9684a23f5c84",
      "metadata": {
        "id": "7ccc5a31-7d4f-47d2-acc9-9684a23f5c84"
      },
      "outputs": [],
      "source": [
        "# DO NOT MODIFY\n",
        "def generate_boaw_representation(X_zn, p_pca, pca_W, K, n_subsample, scaler):\n",
        "    X_projected = project_onto_pcs(X_zn, pca_W, p_pca)\n",
        "    X_projected_subsample = subsample(X_projected, n_subsample)\n",
        "    M, _ = mykmeans(X_projected_subsample, K)\n",
        "    X_boaw_all = boaw_representations(LLD_data, scaler, pca_W, p_pca, K, M)\n",
        "    #print(X_boaw_all.shape)\n",
        "    return X_boaw_all\n",
        "\n",
        "def test_hyperparameters(\n",
        "    X_zn, Y_train, Y_val, p_pcas, pca_W, Ks, n_subsample, scaler, C_set\n",
        "):\n",
        "    X_boaw_all_dict = {}\n",
        "    for p_pca in p_pcas:\n",
        "        for K in Ks:\n",
        "            print(\"-\"*5 + f\"\\np_pca: {p_pca}, K: {K}\")\n",
        "\n",
        "            # Generate the representation\n",
        "            X_boaw_all = generate_boaw_representation(\n",
        "                X_zn, p_pca, pca_W, K, n_subsample, scaler\n",
        "            )\n",
        "\n",
        "            # Split boaw data\n",
        "            X_boaw_train, X_boaw_val, X_boaw_test = split_ravdess_filewise_boaw(\n",
        "                X_boaw_all, mask_train, mask_val, mask_test\n",
        "            )\n",
        "\n",
        "            # One list of performances per representation\n",
        "            performances = generate_performances(\n",
        "                X_boaw_train, X_boaw_val, Y_train, Y_val, C_set\n",
        "            )\n",
        "\n",
        "            # One best C and best accuracy per representation\n",
        "            best_C_boaw, best_accuracy_boaw = find_best_C(C_set, performances)\n",
        "\n",
        "            print(f\"\\nFor K={K} and p_pca={p_pca}:\")\n",
        "            print(f\"\\tBest accuracy: {float(best_accuracy_boaw)}\")\n",
        "            print(f\"\\tBest C: {best_C_boaw}\")\n",
        "\n",
        "            X_boaw_all_dict[(p_pca, K)] = X_boaw_all\n",
        "\n",
        "    return X_boaw_all_dict"
      ]
    },
    {
      "cell_type": "code",
      "execution_count": 208,
      "id": "0ec34590-8a8e-4a11-a29f-52db6712010a",
      "metadata": {
        "id": "0ec34590-8a8e-4a11-a29f-52db6712010a",
        "tags": []
      },
      "outputs": [
        {
          "name": "stdout",
          "output_type": "stream",
          "text": [
            "-----\n",
            "p_pca: 120, K: 256\n",
            "Running k-means...\n",
            "iteration: 0, delta: 100000\n",
            "iteration: 1, delta: 1.4853194536069052\n",
            "iteration: 2, delta: 1.0522894840014116\n",
            "iteration: 3, delta: 0.8545235815997467\n",
            "iteration: 4, delta: 0.7292941487224829\n",
            "iteration: 5, delta: 0.6398216055408585\n",
            "iteration: 6, delta: 0.6039399874692676\n",
            "iteration: 7, delta: 0.4780239513337041\n",
            "iteration: 8, delta: 0.3946065781465394\n",
            "iteration: 9, delta: 0.3847282034798641\n",
            "iteration: 10, delta: 0.3767501446923005\n",
            "iteration: 11, delta: 0.3824625031632304\n",
            "iteration: 12, delta: 0.39808426370921757\n",
            "iteration: 13, delta: 0.34272415064020684\n",
            "iteration: 14, delta: 0.3025265189681985\n",
            "iteration: 15, delta: 0.26986832604909433\n",
            "iteration: 16, delta: 0.2339084815741848\n",
            "iteration: 17, delta: 0.2311520818546386\n",
            "iteration: 18, delta: 0.24330338217228434\n",
            "iteration: 19, delta: 0.18462894840477537\n",
            "iteration: 20, delta: 0.1570275245144761\n",
            "iteration: 21, delta: 0.14894002243841312\n",
            "iteration: 22, delta: 0.13270682232083902\n",
            "iteration: 23, delta: 0.1509799135015853\n",
            "iteration: 24, delta: 0.13060377010138005\n",
            "iteration: 25, delta: 0.10956547449486749\n",
            "iteration: 26, delta: 0.09918590554216389\n",
            "iteration: 27, delta: 0.11001587562733137\n",
            "iteration: 28, delta: 0.12220625264412151\n",
            "iteration: 29, delta: 0.11563868310886116\n",
            "iteration: 30, delta: 0.12266516887386368\n",
            "iteration: 31, delta: 0.1207596127254486\n",
            "iteration: 32, delta: 0.12072091369715372\n",
            "iteration: 33, delta: 0.10663480717571126\n",
            "iteration: 34, delta: 0.09236276614706995\n",
            "iteration: 35, delta: 0.10337822118849552\n",
            "iteration: 36, delta: 0.05230025193345912\n",
            "iteration: 37, delta: 0.05537338240052919\n",
            "iteration: 38, delta: 0.047478451088591514\n",
            "iteration: 39, delta: 0.04496153880612005\n",
            "iteration: 40, delta: 0.037511377410212085\n",
            "iteration: 41, delta: 0.047067479962984715\n",
            "iteration: 42, delta: 0.055097517490573865\n",
            "iteration: 43, delta: 0.06257764944328131\n",
            "iteration: 44, delta: 0.059131325831578554\n",
            "iteration: 45, delta: 0.044296182657304825\n",
            "iteration: 46, delta: 0.03724930103251664\n",
            "iteration: 47, delta: 0.037621891835747566\n",
            "iteration: 48, delta: 0.031689025998768924\n",
            "iteration: 49, delta: 0.027310755968437198\n",
            "iteration: 50, delta: 0.02956799104885771\n",
            "iteration: 51, delta: 0.025417915656452537\n",
            "iteration: 52, delta: 0.02185473528758805\n",
            "iteration: 53, delta: 0.017842862895934765\n",
            "iteration: 54, delta: 0.01885420035182754\n",
            "iteration: 55, delta: 0.017998194346608966\n",
            "iteration: 56, delta: 0.01962429579778479\n",
            "iteration: 57, delta: 0.02691198727332337\n",
            "iteration: 58, delta: 0.017227332532669892\n",
            "iteration: 59, delta: 0.013980342949446185\n",
            "iteration: 60, delta: 0.024358103880127376\n",
            "iteration: 61, delta: 0.024407204938268232\n",
            "iteration: 62, delta: 0.024081662064668375\n",
            "iteration: 63, delta: 0.014563644811099088\n",
            "iteration: 64, delta: 0.014307156883921958\n",
            "iteration: 65, delta: 0.014408401041781593\n",
            "iteration: 66, delta: 0.01472248817032616\n",
            "iteration: 67, delta: 0.018147623943181448\n",
            "iteration: 68, delta: 0.016637674755338436\n",
            "iteration: 69, delta: 0.020657383200012907\n",
            "iteration: 70, delta: 0.013887517912994023\n",
            "iteration: 71, delta: 0.011296891434349244\n",
            "iteration: 72, delta: 0.014225645173368795\n",
            "iteration: 73, delta: 0.009445598950529804\n",
            "iteration: 74, delta: 0.007926807633723828\n",
            "iteration: 75, delta: 0.009830427036566631\n",
            "iteration: 76, delta: 0.012119591883824238\n",
            "iteration: 77, delta: 0.008174198806657488\n",
            "iteration: 78, delta: 0.005880764176436424\n",
            "iteration: 79, delta: 0.0045755232310547775\n",
            "iteration: 80, delta: 0.005146672799086636\n",
            "iteration: 81, delta: 0.006638494469897728\n",
            "iteration: 82, delta: 0.006634939978182964\n",
            "iteration: 83, delta: 0.009159165130318888\n",
            "iteration: 84, delta: 0.009731824018790844\n",
            "iteration: 85, delta: 0.011768479558475388\n",
            "iteration: 86, delta: 0.015752482600701397\n",
            "iteration: 87, delta: 0.009230786089150969\n",
            "iteration: 88, delta: 0.009142759421832874\n",
            "iteration: 89, delta: 0.011056908732972232\n",
            "iteration: 90, delta: 0.01461018095278735\n",
            "iteration: 91, delta: 0.00981331382149876\n",
            "iteration: 92, delta: 0.007641510454265111\n",
            "iteration: 93, delta: 0.008868318240938127\n",
            "iteration: 94, delta: 0.007751956591248141\n",
            "iteration: 95, delta: 0.006701336813455291\n",
            "iteration: 96, delta: 0.006544047332500854\n",
            "iteration: 97, delta: 0.0058184875280009336\n",
            "iteration: 98, delta: 0.005690011602992021\n",
            "iteration: 99, delta: 0.004778105010343213\n",
            "iteration: 100, delta: 0.005153414746223864\n",
            "iteration: 101, delta: 0.005415030808836052\n",
            "iteration: 102, delta: 0.005927742476194704\n",
            "iteration: 103, delta: 0.006049599178684915\n",
            "iteration: 104, delta: 0.0064899854641972\n",
            "iteration: 105, delta: 0.005444557281057557\n",
            "iteration: 106, delta: 0.005648675771303872\n",
            "iteration: 107, delta: 0.0050629060128981555\n",
            "iteration: 108, delta: 0.0032214570907420133\n",
            "iteration: 109, delta: 0.005079293890704428\n",
            "iteration: 110, delta: 0.004623230017572354\n",
            "iteration: 111, delta: 0.0017768875084672663\n",
            "iteration: 112, delta: 0.0014449439296577824\n",
            "iteration: 113, delta: 0.0013778110692237693\n",
            "iteration: 114, delta: 0.001778514012208032\n",
            "iteration: 115, delta: 0.0017631982287846094\n",
            "iteration: 116, delta: 0.0017543719682242692\n",
            "iteration: 117, delta: 0.001180364219863019\n",
            "iteration: 118, delta: 0.0010425622155121024\n",
            "iteration: 119, delta: 0.0011729480241700388\n",
            "iteration: 120, delta: 0.0009171596447319686\n",
            "iteration: 121, delta: 0.0009723913275094184\n",
            "iteration: 122, delta: 0.001728853711372909\n",
            "iteration: 123, delta: 0.0014957239298693304\n",
            "iteration: 124, delta: 0.0008084590177561981\n",
            "iteration: 125, delta: 0.0007054336520339594\n",
            "iteration: 126, delta: 0.0011499206523032535\n",
            "iteration: 127, delta: 0.0010113646378367494\n",
            "iteration: 128, delta: 0.0004698467686398148\n",
            "iteration: 129, delta: 0.0006996610337785772\n",
            "iteration: 130, delta: 0.001579341502920479\n",
            "iteration: 131, delta: 0.0016094798034697083\n",
            "iteration: 132, delta: 0.0018260938722675065\n",
            "iteration: 133, delta: 0.0018294347189436303\n",
            "iteration: 134, delta: 0.0028152029578427783\n",
            "iteration: 135, delta: 0.0025052143649272928\n",
            "iteration: 136, delta: 0.0019085737061398922\n",
            "iteration: 137, delta: 0.0021219801197002465\n",
            "iteration: 138, delta: 0.0018735810458791926\n",
            "iteration: 139, delta: 0.0032483080733264934\n",
            "iteration: 140, delta: 0.0016049782996840171\n",
            "iteration: 141, delta: 0.001988679866553301\n",
            "iteration: 142, delta: 0.002805255871816032\n",
            "iteration: 143, delta: 0.0035202682459600392\n",
            "iteration: 144, delta: 0.0035884057232794097\n",
            "iteration: 145, delta: 0.0016297558865173878\n",
            "iteration: 146, delta: 0.001467004757268952\n",
            "iteration: 147, delta: 0.0013390133252966971\n",
            "iteration: 148, delta: 0.001005890345138281\n",
            "iteration: 149, delta: 0.0008030367093785976\n",
            "iteration: 150, delta: 0.0005576133893001997\n",
            "iteration: 151, delta: 0.00035609053735261075\n",
            "iteration: 152, delta: 0.0004920750942186856\n",
            "iteration: 153, delta: 0.00038210429705704197\n",
            "iteration: 154, delta: 0.00020459414998765465\n",
            "iteration: 155, delta: 0.00035805420844361253\n",
            "iteration: 156, delta: 0.00044629358906679074\n",
            "iteration: 157, delta: 0.000920960687374197\n",
            "iteration: 158, delta: 0.0009690848680041343\n",
            "iteration: 159, delta: 0.0004964140490817911\n",
            "iteration: 160, delta: 0.00019083227203377787\n",
            "iteration: 161, delta: 0.00031534845419937214\n",
            "iteration: 162, delta: 0.0005931201595537099\n",
            "iteration: 163, delta: 0.000484352364480548\n",
            "iteration: 164, delta: 0.0007549169978426349\n",
            "iteration: 165, delta: 0.0007808595641301449\n",
            "iteration: 166, delta: 0.0006989041809823333\n",
            "iteration: 167, delta: 0.0011855453046974325\n",
            "iteration: 168, delta: 0.0007139404434299609\n",
            "iteration: 169, delta: 0.000522261602639651\n",
            "iteration: 170, delta: 0.0007214870791967883\n",
            "iteration: 171, delta: 0.0008826627191240082\n",
            "iteration: 172, delta: 0.0012212797699211345\n",
            "iteration: 173, delta: 0.00098356387847568\n",
            "iteration: 174, delta: 0.0011019596795897838\n",
            "iteration: 175, delta: 0.0010839399329671121\n",
            "iteration: 176, delta: 0.0009696476255500383\n",
            "iteration: 177, delta: 0.000960031929529636\n",
            "iteration: 178, delta: 0.0008299564104221453\n",
            "iteration: 179, delta: 0.0010029360264413956\n",
            "iteration: 180, delta: 0.0005029126980082665\n",
            "iteration: 181, delta: 0.00058393071339614\n",
            "iteration: 182, delta: 0.00045951388778081803\n",
            "iteration: 183, delta: 0.0005315425441695\n",
            "iteration: 184, delta: 0.0005837537204714646\n",
            "iteration: 185, delta: 0.001102175942961627\n",
            "iteration: 186, delta: 0.0005568133548454813\n",
            "iteration: 187, delta: 0.0003742195848980953\n",
            "iteration: 188, delta: 0.0006695908184070612\n",
            "iteration: 189, delta: 0.0012560816106214397\n",
            "iteration: 190, delta: 0.0014554942860550628\n",
            "iteration: 191, delta: 0.0012814359893231644\n",
            "iteration: 192, delta: 0.0006393949771786281\n",
            "iteration: 193, delta: 0.00025360346677841483\n",
            "iteration: 194, delta: 0.0003670326012944563\n",
            "iteration: 195, delta: 0.0003498485707089067\n",
            "iteration: 196, delta: 0.00034581525780352914\n",
            "iteration: 197, delta: 0.0004185564850459838\n",
            "iteration: 198, delta: 0.00017175476200900796\n",
            "iteration: 199, delta: 0.0\n"
          ]
        },
        {
          "name": "stderr",
          "output_type": "stream",
          "text": [
            "C:\\Users\\Thijmen\\AppData\\Local\\Packages\\PythonSoftwareFoundation.Python.3.11_qbz5n2kfra8p0\\LocalCache\\local-packages\\Python311\\site-packages\\sklearn\\svm\\_classes.py:32: FutureWarning: The default value of `dual` will change from `True` to `'auto'` in 1.5. Set the value of `dual` explicitly to suppress the warning.\n",
            "  warnings.warn(\n",
            "C:\\Users\\Thijmen\\AppData\\Local\\Packages\\PythonSoftwareFoundation.Python.3.11_qbz5n2kfra8p0\\LocalCache\\local-packages\\Python311\\site-packages\\sklearn\\svm\\_classes.py:32: FutureWarning: The default value of `dual` will change from `True` to `'auto'` in 1.5. Set the value of `dual` explicitly to suppress the warning.\n",
            "  warnings.warn(\n",
            "C:\\Users\\Thijmen\\AppData\\Local\\Packages\\PythonSoftwareFoundation.Python.3.11_qbz5n2kfra8p0\\LocalCache\\local-packages\\Python311\\site-packages\\sklearn\\svm\\_classes.py:32: FutureWarning: The default value of `dual` will change from `True` to `'auto'` in 1.5. Set the value of `dual` explicitly to suppress the warning.\n",
            "  warnings.warn(\n",
            "C:\\Users\\Thijmen\\AppData\\Local\\Packages\\PythonSoftwareFoundation.Python.3.11_qbz5n2kfra8p0\\LocalCache\\local-packages\\Python311\\site-packages\\sklearn\\svm\\_classes.py:32: FutureWarning: The default value of `dual` will change from `True` to `'auto'` in 1.5. Set the value of `dual` explicitly to suppress the warning.\n",
            "  warnings.warn(\n",
            "C:\\Users\\Thijmen\\AppData\\Local\\Packages\\PythonSoftwareFoundation.Python.3.11_qbz5n2kfra8p0\\LocalCache\\local-packages\\Python311\\site-packages\\sklearn\\svm\\_classes.py:32: FutureWarning: The default value of `dual` will change from `True` to `'auto'` in 1.5. Set the value of `dual` explicitly to suppress the warning.\n",
            "  warnings.warn(\n",
            "C:\\Users\\Thijmen\\AppData\\Local\\Packages\\PythonSoftwareFoundation.Python.3.11_qbz5n2kfra8p0\\LocalCache\\local-packages\\Python311\\site-packages\\sklearn\\svm\\_classes.py:32: FutureWarning: The default value of `dual` will change from `True` to `'auto'` in 1.5. Set the value of `dual` explicitly to suppress the warning.\n",
            "  warnings.warn(\n",
            "C:\\Users\\Thijmen\\AppData\\Local\\Packages\\PythonSoftwareFoundation.Python.3.11_qbz5n2kfra8p0\\LocalCache\\local-packages\\Python311\\site-packages\\sklearn\\svm\\_classes.py:32: FutureWarning: The default value of `dual` will change from `True` to `'auto'` in 1.5. Set the value of `dual` explicitly to suppress the warning.\n",
            "  warnings.warn(\n",
            "C:\\Users\\Thijmen\\AppData\\Local\\Temp\\ipykernel_23292\\2783065300.py:37: DeprecationWarning: Conversion of an array with ndim > 0 to a scalar is deprecated, and will error in future. Ensure you extract a single element from your array before performing this operation. (Deprecated NumPy 1.25.)\n",
            "  print(f\"\\tBest accuracy: {float(best_accuracy_boaw)}\")\n"
          ]
        },
        {
          "name": "stdout",
          "output_type": "stream",
          "text": [
            "\n",
            "For K=256 and p_pca=120:\n",
            "\tBest accuracy: 0.4034090909090909\n",
            "\tBest C: 0.001\n",
            "-----\n",
            "p_pca: 120, K: 512\n",
            "Running k-means...\n",
            "iteration: 0, delta: 100000\n",
            "iteration: 1, delta: 1.4010563096708328\n",
            "iteration: 2, delta: 0.9156136097233867\n",
            "iteration: 3, delta: 0.699442658893203\n",
            "iteration: 4, delta: 0.5571447894405692\n",
            "iteration: 5, delta: 0.5013048010636119\n",
            "iteration: 6, delta: 0.49472777683571556\n",
            "iteration: 7, delta: 0.4122150869470027\n",
            "iteration: 8, delta: 0.36097553280800676\n",
            "iteration: 9, delta: 0.3328393152144958\n",
            "iteration: 10, delta: 0.31641451374282414\n",
            "iteration: 11, delta: 0.2637463363517932\n",
            "iteration: 12, delta: 0.24167901267740605\n",
            "iteration: 13, delta: 0.1786453997787683\n",
            "iteration: 14, delta: 0.15483809463144535\n",
            "iteration: 15, delta: 0.15115234463037208\n",
            "iteration: 16, delta: 0.13475548618461128\n",
            "iteration: 17, delta: 0.12336023841703397\n",
            "iteration: 18, delta: 0.1137456132800909\n",
            "iteration: 19, delta: 0.08915290867004307\n",
            "iteration: 20, delta: 0.09082373761046678\n",
            "iteration: 21, delta: 0.08521570576802669\n",
            "iteration: 22, delta: 0.0826078789265783\n",
            "iteration: 23, delta: 0.06287306960037681\n",
            "iteration: 24, delta: 0.057215955251213604\n",
            "iteration: 25, delta: 0.052406613381855385\n",
            "iteration: 26, delta: 0.041761117187833145\n",
            "iteration: 27, delta: 0.044428793434074534\n",
            "iteration: 28, delta: 0.05020719032435771\n",
            "iteration: 29, delta: 0.03617041550961855\n",
            "iteration: 30, delta: 0.04056371209813173\n",
            "iteration: 31, delta: 0.04827457557424779\n",
            "iteration: 32, delta: 0.024047898247428385\n",
            "iteration: 33, delta: 0.018329960091506524\n",
            "iteration: 34, delta: 0.012663871138081205\n",
            "iteration: 35, delta: 0.010255324512072384\n",
            "iteration: 36, delta: 0.008428321215398887\n",
            "iteration: 37, delta: 0.008107033931763274\n",
            "iteration: 38, delta: 0.0070955716485062055\n",
            "iteration: 39, delta: 0.005630890318755742\n",
            "iteration: 40, delta: 0.005267707834866844\n",
            "iteration: 41, delta: 0.00570154294722071\n",
            "iteration: 42, delta: 0.0040267362730285455\n",
            "iteration: 43, delta: 0.003304654556369855\n",
            "iteration: 44, delta: 0.0030934576443781264\n",
            "iteration: 45, delta: 0.0022064105977486143\n",
            "iteration: 46, delta: 0.002212017832955925\n",
            "iteration: 47, delta: 0.0016841889207669174\n",
            "iteration: 48, delta: 0.0027667736655360704\n",
            "iteration: 49, delta: 0.0027336386736039305\n",
            "iteration: 50, delta: 0.0024345854521235486\n",
            "iteration: 51, delta: 0.0024837857300347103\n",
            "iteration: 52, delta: 0.002420382558527339\n",
            "iteration: 53, delta: 0.0014619523690601987\n",
            "iteration: 54, delta: 0.001589867978472585\n",
            "iteration: 55, delta: 0.0010689459390747708\n",
            "iteration: 56, delta: 0.0015823726552944752\n",
            "iteration: 57, delta: 0.0016858395212900022\n",
            "iteration: 58, delta: 0.0010406727289610789\n",
            "iteration: 59, delta: 0.0011220032224225286\n",
            "iteration: 60, delta: 0.0009747234383484062\n",
            "iteration: 61, delta: 0.0006934986227812168\n",
            "iteration: 62, delta: 0.0003444246418688404\n",
            "iteration: 63, delta: 0.00044324725589778123\n",
            "iteration: 64, delta: 0.0005487155228163703\n",
            "iteration: 65, delta: 0.0005257718817796812\n",
            "iteration: 66, delta: 0.0004778269505830294\n",
            "iteration: 67, delta: 8.265114888582301e-05\n"
          ]
        },
        {
          "name": "stderr",
          "output_type": "stream",
          "text": [
            "C:\\Users\\Thijmen\\AppData\\Local\\Packages\\PythonSoftwareFoundation.Python.3.11_qbz5n2kfra8p0\\LocalCache\\local-packages\\Python311\\site-packages\\sklearn\\svm\\_classes.py:32: FutureWarning: The default value of `dual` will change from `True` to `'auto'` in 1.5. Set the value of `dual` explicitly to suppress the warning.\n",
            "  warnings.warn(\n",
            "C:\\Users\\Thijmen\\AppData\\Local\\Packages\\PythonSoftwareFoundation.Python.3.11_qbz5n2kfra8p0\\LocalCache\\local-packages\\Python311\\site-packages\\sklearn\\svm\\_classes.py:32: FutureWarning: The default value of `dual` will change from `True` to `'auto'` in 1.5. Set the value of `dual` explicitly to suppress the warning.\n",
            "  warnings.warn(\n",
            "C:\\Users\\Thijmen\\AppData\\Local\\Packages\\PythonSoftwareFoundation.Python.3.11_qbz5n2kfra8p0\\LocalCache\\local-packages\\Python311\\site-packages\\sklearn\\svm\\_classes.py:32: FutureWarning: The default value of `dual` will change from `True` to `'auto'` in 1.5. Set the value of `dual` explicitly to suppress the warning.\n",
            "  warnings.warn(\n",
            "C:\\Users\\Thijmen\\AppData\\Local\\Packages\\PythonSoftwareFoundation.Python.3.11_qbz5n2kfra8p0\\LocalCache\\local-packages\\Python311\\site-packages\\sklearn\\svm\\_classes.py:32: FutureWarning: The default value of `dual` will change from `True` to `'auto'` in 1.5. Set the value of `dual` explicitly to suppress the warning.\n",
            "  warnings.warn(\n",
            "C:\\Users\\Thijmen\\AppData\\Local\\Packages\\PythonSoftwareFoundation.Python.3.11_qbz5n2kfra8p0\\LocalCache\\local-packages\\Python311\\site-packages\\sklearn\\svm\\_classes.py:32: FutureWarning: The default value of `dual` will change from `True` to `'auto'` in 1.5. Set the value of `dual` explicitly to suppress the warning.\n",
            "  warnings.warn(\n",
            "C:\\Users\\Thijmen\\AppData\\Local\\Packages\\PythonSoftwareFoundation.Python.3.11_qbz5n2kfra8p0\\LocalCache\\local-packages\\Python311\\site-packages\\sklearn\\svm\\_classes.py:32: FutureWarning: The default value of `dual` will change from `True` to `'auto'` in 1.5. Set the value of `dual` explicitly to suppress the warning.\n",
            "  warnings.warn(\n",
            "C:\\Users\\Thijmen\\AppData\\Local\\Packages\\PythonSoftwareFoundation.Python.3.11_qbz5n2kfra8p0\\LocalCache\\local-packages\\Python311\\site-packages\\sklearn\\svm\\_classes.py:32: FutureWarning: The default value of `dual` will change from `True` to `'auto'` in 1.5. Set the value of `dual` explicitly to suppress the warning.\n",
            "  warnings.warn(\n",
            "C:\\Users\\Thijmen\\AppData\\Local\\Temp\\ipykernel_23292\\2783065300.py:37: DeprecationWarning: Conversion of an array with ndim > 0 to a scalar is deprecated, and will error in future. Ensure you extract a single element from your array before performing this operation. (Deprecated NumPy 1.25.)\n",
            "  print(f\"\\tBest accuracy: {float(best_accuracy_boaw)}\")\n"
          ]
        },
        {
          "name": "stdout",
          "output_type": "stream",
          "text": [
            "\n",
            "For K=512 and p_pca=120:\n",
            "\tBest accuracy: 0.42045454545454547\n",
            "\tBest C: 0.0001\n",
            "-----\n",
            "p_pca: 130, K: 256\n",
            "Running k-means...\n",
            "iteration: 0, delta: 100000\n",
            "iteration: 1, delta: 1.4852234952703915\n",
            "iteration: 2, delta: 1.0504549636455045\n",
            "iteration: 3, delta: 0.8544125890994145\n",
            "iteration: 4, delta: 0.7211980518590393\n",
            "iteration: 5, delta: 0.6459126330085672\n",
            "iteration: 6, delta: 0.6060193995389382\n",
            "iteration: 7, delta: 0.49643239613324086\n",
            "iteration: 8, delta: 0.39158620995956855\n",
            "iteration: 9, delta: 0.37920426627675813\n",
            "iteration: 10, delta: 0.36864557858982466\n",
            "iteration: 11, delta: 0.340144401059989\n",
            "iteration: 12, delta: 0.347546930704361\n",
            "iteration: 13, delta: 0.3233640069827672\n",
            "iteration: 14, delta: 0.3159552806182771\n",
            "iteration: 15, delta: 0.2704699975245567\n",
            "iteration: 16, delta: 0.2113571993052169\n",
            "iteration: 17, delta: 0.2182846857481633\n",
            "iteration: 18, delta: 0.21143154728164382\n",
            "iteration: 19, delta: 0.17377317982407153\n",
            "iteration: 20, delta: 0.19964266720875384\n",
            "iteration: 21, delta: 0.1837988287803718\n",
            "iteration: 22, delta: 0.18392766051123563\n",
            "iteration: 23, delta: 0.166057999177458\n",
            "iteration: 24, delta: 0.1301099584982544\n",
            "iteration: 25, delta: 0.12895261046702594\n",
            "iteration: 26, delta: 0.13469195486644436\n",
            "iteration: 27, delta: 0.14015340889613065\n",
            "iteration: 28, delta: 0.14627759227099757\n",
            "iteration: 29, delta: 0.12901642458825607\n",
            "iteration: 30, delta: 0.09708849447477283\n",
            "iteration: 31, delta: 0.0938120766116004\n",
            "iteration: 32, delta: 0.09915113462563545\n",
            "iteration: 33, delta: 0.08323429893143583\n",
            "iteration: 34, delta: 0.07071757266749562\n",
            "iteration: 35, delta: 0.050497198649520576\n",
            "iteration: 36, delta: 0.05350298022351239\n",
            "iteration: 37, delta: 0.046790903980369225\n",
            "iteration: 38, delta: 0.06003290579607448\n",
            "iteration: 39, delta: 0.05624021356149636\n",
            "iteration: 40, delta: 0.0550986120088277\n",
            "iteration: 41, delta: 0.03283558692676721\n",
            "iteration: 42, delta: 0.01972006926293205\n",
            "iteration: 43, delta: 0.020145822915626967\n",
            "iteration: 44, delta: 0.01556639477392114\n",
            "iteration: 45, delta: 0.014093230658632657\n",
            "iteration: 46, delta: 0.015279058567757343\n",
            "iteration: 47, delta: 0.014423351343664102\n",
            "iteration: 48, delta: 0.018222993118351544\n",
            "iteration: 49, delta: 0.019490237269439527\n",
            "iteration: 50, delta: 0.011229555494086588\n",
            "iteration: 51, delta: 0.010877887925252091\n",
            "iteration: 52, delta: 0.01208407584877138\n",
            "iteration: 53, delta: 0.014319621280621513\n",
            "iteration: 54, delta: 0.018592858798299847\n",
            "iteration: 55, delta: 0.021716342103705565\n",
            "iteration: 56, delta: 0.01809289552650026\n",
            "iteration: 57, delta: 0.01672447024938113\n",
            "iteration: 58, delta: 0.02002869386804852\n",
            "iteration: 59, delta: 0.01915157150162461\n",
            "iteration: 60, delta: 0.019204420040123817\n",
            "iteration: 61, delta: 0.01754614077411161\n",
            "iteration: 62, delta: 0.015877848627567262\n",
            "iteration: 63, delta: 0.014545098885932889\n",
            "iteration: 64, delta: 0.0157889218107999\n",
            "iteration: 65, delta: 0.013695764568075745\n",
            "iteration: 66, delta: 0.017293052213849563\n",
            "iteration: 67, delta: 0.019154829172629735\n",
            "iteration: 68, delta: 0.021842690299342334\n",
            "iteration: 69, delta: 0.01611840340536448\n",
            "iteration: 70, delta: 0.011743637577733931\n",
            "iteration: 71, delta: 0.010415838745507167\n",
            "iteration: 72, delta: 0.011399373616796962\n",
            "iteration: 73, delta: 0.010314219754334416\n",
            "iteration: 74, delta: 0.010705908227349525\n",
            "iteration: 75, delta: 0.010457285412676525\n",
            "iteration: 76, delta: 0.009935687843710449\n",
            "iteration: 77, delta: 0.008736413740941827\n",
            "iteration: 78, delta: 0.011086911903926515\n",
            "iteration: 79, delta: 0.009033487650236168\n",
            "iteration: 80, delta: 0.007935323669858586\n",
            "iteration: 81, delta: 0.007460570692887983\n",
            "iteration: 82, delta: 0.008825540757823049\n",
            "iteration: 83, delta: 0.014198373179921963\n",
            "iteration: 84, delta: 0.010099231898980177\n",
            "iteration: 85, delta: 0.009786612277208263\n",
            "iteration: 86, delta: 0.010158396106154176\n",
            "iteration: 87, delta: 0.01537301319053093\n",
            "iteration: 88, delta: 0.01580538224721587\n",
            "iteration: 89, delta: 0.016319393552583356\n",
            "iteration: 90, delta: 0.019841538736256478\n",
            "iteration: 91, delta: 0.027712663509618193\n",
            "iteration: 92, delta: 0.018838248633064693\n",
            "iteration: 93, delta: 0.01626210829302741\n",
            "iteration: 94, delta: 0.015244892769801312\n",
            "iteration: 95, delta: 0.016497601185801545\n",
            "iteration: 96, delta: 0.015561612440294009\n",
            "iteration: 97, delta: 0.018736998645903558\n",
            "iteration: 98, delta: 0.023435373933288393\n",
            "iteration: 99, delta: 0.024394668654494488\n",
            "iteration: 100, delta: 0.020650530661686962\n",
            "iteration: 101, delta: 0.013413785677141028\n",
            "iteration: 102, delta: 0.015124801191804642\n",
            "iteration: 103, delta: 0.012943886821668707\n",
            "iteration: 104, delta: 0.01433753457507781\n",
            "iteration: 105, delta: 0.017631690163572186\n",
            "iteration: 106, delta: 0.017237872395278644\n",
            "iteration: 107, delta: 0.013900657083713148\n",
            "iteration: 108, delta: 0.013248834432324254\n",
            "iteration: 109, delta: 0.015781919809295823\n",
            "iteration: 110, delta: 0.016823562844344497\n",
            "iteration: 111, delta: 0.016306601138828848\n",
            "iteration: 112, delta: 0.017672719542198238\n",
            "iteration: 113, delta: 0.014675225819949931\n",
            "iteration: 114, delta: 0.0169363346078031\n",
            "iteration: 115, delta: 0.015033298257652022\n",
            "iteration: 116, delta: 0.008831864604916669\n",
            "iteration: 117, delta: 0.004927975809821358\n",
            "iteration: 118, delta: 0.00412605056949932\n",
            "iteration: 119, delta: 0.0022602516674351263\n",
            "iteration: 120, delta: 0.0017176024763989862\n",
            "iteration: 121, delta: 0.0019906932153619704\n",
            "iteration: 122, delta: 0.0019264506762373197\n",
            "iteration: 123, delta: 0.0015142395638233763\n",
            "iteration: 124, delta: 0.001336786784119237\n",
            "iteration: 125, delta: 0.0012464868332026334\n",
            "iteration: 126, delta: 0.0006646740288581227\n",
            "iteration: 127, delta: 0.00031970303470317736\n",
            "iteration: 128, delta: 0.0003020003181824854\n",
            "iteration: 129, delta: 0.00034162239945139246\n",
            "iteration: 130, delta: 0.00021518295318311887\n",
            "iteration: 131, delta: 0.00038217035269032246\n",
            "iteration: 132, delta: 0.00028495132369212386\n",
            "iteration: 133, delta: 0.0008261868715633807\n",
            "iteration: 134, delta: 0.0008885008227922065\n",
            "iteration: 135, delta: 0.000774696388822646\n",
            "iteration: 136, delta: 0.0008227209998745116\n",
            "iteration: 137, delta: 0.0002032318952254139\n",
            "iteration: 138, delta: 0.00036746652378648976\n",
            "iteration: 139, delta: 0.00023656957851906632\n",
            "iteration: 140, delta: 0.00029392479471041964\n",
            "iteration: 141, delta: 0.00014230670672743328\n",
            "iteration: 142, delta: 0.0002283310870627774\n",
            "iteration: 143, delta: 0.0003194916869268114\n",
            "iteration: 144, delta: 0.0004447870331977851\n",
            "iteration: 145, delta: 0.0003843759097554031\n",
            "iteration: 146, delta: 9.260926816535182e-05\n"
          ]
        },
        {
          "name": "stderr",
          "output_type": "stream",
          "text": [
            "C:\\Users\\Thijmen\\AppData\\Local\\Packages\\PythonSoftwareFoundation.Python.3.11_qbz5n2kfra8p0\\LocalCache\\local-packages\\Python311\\site-packages\\sklearn\\svm\\_classes.py:32: FutureWarning: The default value of `dual` will change from `True` to `'auto'` in 1.5. Set the value of `dual` explicitly to suppress the warning.\n",
            "  warnings.warn(\n",
            "C:\\Users\\Thijmen\\AppData\\Local\\Packages\\PythonSoftwareFoundation.Python.3.11_qbz5n2kfra8p0\\LocalCache\\local-packages\\Python311\\site-packages\\sklearn\\svm\\_classes.py:32: FutureWarning: The default value of `dual` will change from `True` to `'auto'` in 1.5. Set the value of `dual` explicitly to suppress the warning.\n",
            "  warnings.warn(\n",
            "C:\\Users\\Thijmen\\AppData\\Local\\Packages\\PythonSoftwareFoundation.Python.3.11_qbz5n2kfra8p0\\LocalCache\\local-packages\\Python311\\site-packages\\sklearn\\svm\\_classes.py:32: FutureWarning: The default value of `dual` will change from `True` to `'auto'` in 1.5. Set the value of `dual` explicitly to suppress the warning.\n",
            "  warnings.warn(\n",
            "C:\\Users\\Thijmen\\AppData\\Local\\Packages\\PythonSoftwareFoundation.Python.3.11_qbz5n2kfra8p0\\LocalCache\\local-packages\\Python311\\site-packages\\sklearn\\svm\\_classes.py:32: FutureWarning: The default value of `dual` will change from `True` to `'auto'` in 1.5. Set the value of `dual` explicitly to suppress the warning.\n",
            "  warnings.warn(\n",
            "C:\\Users\\Thijmen\\AppData\\Local\\Packages\\PythonSoftwareFoundation.Python.3.11_qbz5n2kfra8p0\\LocalCache\\local-packages\\Python311\\site-packages\\sklearn\\svm\\_classes.py:32: FutureWarning: The default value of `dual` will change from `True` to `'auto'` in 1.5. Set the value of `dual` explicitly to suppress the warning.\n",
            "  warnings.warn(\n",
            "C:\\Users\\Thijmen\\AppData\\Local\\Packages\\PythonSoftwareFoundation.Python.3.11_qbz5n2kfra8p0\\LocalCache\\local-packages\\Python311\\site-packages\\sklearn\\svm\\_classes.py:32: FutureWarning: The default value of `dual` will change from `True` to `'auto'` in 1.5. Set the value of `dual` explicitly to suppress the warning.\n",
            "  warnings.warn(\n",
            "C:\\Users\\Thijmen\\AppData\\Local\\Packages\\PythonSoftwareFoundation.Python.3.11_qbz5n2kfra8p0\\LocalCache\\local-packages\\Python311\\site-packages\\sklearn\\svm\\_classes.py:32: FutureWarning: The default value of `dual` will change from `True` to `'auto'` in 1.5. Set the value of `dual` explicitly to suppress the warning.\n",
            "  warnings.warn(\n",
            "C:\\Users\\Thijmen\\AppData\\Local\\Temp\\ipykernel_23292\\2783065300.py:37: DeprecationWarning: Conversion of an array with ndim > 0 to a scalar is deprecated, and will error in future. Ensure you extract a single element from your array before performing this operation. (Deprecated NumPy 1.25.)\n",
            "  print(f\"\\tBest accuracy: {float(best_accuracy_boaw)}\")\n"
          ]
        },
        {
          "name": "stdout",
          "output_type": "stream",
          "text": [
            "\n",
            "For K=256 and p_pca=130:\n",
            "\tBest accuracy: 0.4034090909090909\n",
            "\tBest C: 0.01\n",
            "-----\n",
            "p_pca: 130, K: 512\n",
            "Running k-means...\n",
            "iteration: 0, delta: 100000\n",
            "iteration: 1, delta: 1.4028019879023914\n",
            "iteration: 2, delta: 0.9210870449368416\n",
            "iteration: 3, delta: 0.7003748410375121\n",
            "iteration: 4, delta: 0.5566905144016674\n",
            "iteration: 5, delta: 0.4989120591085026\n",
            "iteration: 6, delta: 0.492187617749635\n",
            "iteration: 7, delta: 0.4158032188992583\n",
            "iteration: 8, delta: 0.3713212660199481\n",
            "iteration: 9, delta: 0.34603843634659354\n",
            "iteration: 10, delta: 0.3134037799610784\n",
            "iteration: 11, delta: 0.2743071095733838\n",
            "iteration: 12, delta: 0.23857418927322757\n",
            "iteration: 13, delta: 0.17939168383177906\n",
            "iteration: 14, delta: 0.1565673276718128\n",
            "iteration: 15, delta: 0.1348070775912846\n",
            "iteration: 16, delta: 0.1419357513035936\n",
            "iteration: 17, delta: 0.10725067960822193\n",
            "iteration: 18, delta: 0.09543204437077818\n",
            "iteration: 19, delta: 0.09109425895650142\n",
            "iteration: 20, delta: 0.09380312801099225\n",
            "iteration: 21, delta: 0.09441176448196352\n",
            "iteration: 22, delta: 0.09653408919425377\n",
            "iteration: 23, delta: 0.06444535030402765\n",
            "iteration: 24, delta: 0.0596425968113106\n",
            "iteration: 25, delta: 0.04963884206967432\n",
            "iteration: 26, delta: 0.05057558085026953\n",
            "iteration: 27, delta: 0.046468029531943816\n",
            "iteration: 28, delta: 0.04064580908483832\n",
            "iteration: 29, delta: 0.040029810546115985\n",
            "iteration: 30, delta: 0.04483289218604351\n",
            "iteration: 31, delta: 0.044230122169476555\n",
            "iteration: 32, delta: 0.05383253826937008\n",
            "iteration: 33, delta: 0.027428713597429155\n",
            "iteration: 34, delta: 0.025625021968932432\n",
            "iteration: 35, delta: 0.029120116580012127\n",
            "iteration: 36, delta: 0.024133140041302226\n",
            "iteration: 37, delta: 0.023619692560527296\n",
            "iteration: 38, delta: 0.017780168681037104\n",
            "iteration: 39, delta: 0.02003414609192766\n",
            "iteration: 40, delta: 0.013471474817089758\n",
            "iteration: 41, delta: 0.013692474387792641\n",
            "iteration: 42, delta: 0.01852710597490568\n",
            "iteration: 43, delta: 0.012842178490537082\n",
            "iteration: 44, delta: 0.011868004148591325\n",
            "iteration: 45, delta: 0.012877993970008236\n",
            "iteration: 46, delta: 0.014142928848628644\n",
            "iteration: 47, delta: 0.012806894258757019\n",
            "iteration: 48, delta: 0.010604807521518695\n",
            "iteration: 49, delta: 0.010229320788548222\n",
            "iteration: 50, delta: 0.006857076447116088\n",
            "iteration: 51, delta: 0.0073314316684462595\n",
            "iteration: 52, delta: 0.0069105254058401434\n",
            "iteration: 53, delta: 0.005926662413217695\n",
            "iteration: 54, delta: 0.005544723379258142\n",
            "iteration: 55, delta: 0.008243718764180046\n",
            "iteration: 56, delta: 0.008750368298052008\n",
            "iteration: 57, delta: 0.008443670165797149\n",
            "iteration: 58, delta: 0.006090421576222811\n",
            "iteration: 59, delta: 0.005888521297839727\n",
            "iteration: 60, delta: 0.003657394527279394\n",
            "iteration: 61, delta: 0.0032771124981028944\n",
            "iteration: 62, delta: 0.002567708865890932\n",
            "iteration: 63, delta: 0.0027395181989100965\n",
            "iteration: 64, delta: 0.001526120742466813\n",
            "iteration: 65, delta: 0.0011302594693299462\n",
            "iteration: 66, delta: 0.002416605628772812\n",
            "iteration: 67, delta: 0.0018221908711132803\n",
            "iteration: 68, delta: 0.0036654825765408284\n",
            "iteration: 69, delta: 0.002139107875687234\n",
            "iteration: 70, delta: 0.0020383050151703847\n",
            "iteration: 71, delta: 0.0035942600814971456\n",
            "iteration: 72, delta: 0.004140286171338453\n",
            "iteration: 73, delta: 0.003466707904152293\n",
            "iteration: 74, delta: 0.004051357636826857\n",
            "iteration: 75, delta: 0.005540778342572168\n",
            "iteration: 76, delta: 0.0036174154558357686\n",
            "iteration: 77, delta: 0.0036203196408765978\n",
            "iteration: 78, delta: 0.0034847943157984462\n",
            "iteration: 79, delta: 0.006096173566635157\n",
            "iteration: 80, delta: 0.0015777180935440587\n",
            "iteration: 81, delta: 0.0016457719578512678\n",
            "iteration: 82, delta: 0.0020558246265571325\n",
            "iteration: 83, delta: 0.0027551336602779923\n",
            "iteration: 84, delta: 0.004061167115028058\n",
            "iteration: 85, delta: 0.003150899970109105\n",
            "iteration: 86, delta: 0.002228137247348891\n",
            "iteration: 87, delta: 0.002212175928810054\n",
            "iteration: 88, delta: 0.0033537804933924517\n",
            "iteration: 89, delta: 0.0018068539707542458\n",
            "iteration: 90, delta: 0.003540462667548737\n",
            "iteration: 91, delta: 0.003743401606302418\n",
            "iteration: 92, delta: 0.002387714579263636\n",
            "iteration: 93, delta: 0.0018688130893473823\n",
            "iteration: 94, delta: 0.002192637552023874\n",
            "iteration: 95, delta: 0.002439992742031983\n",
            "iteration: 96, delta: 0.0008259715521795738\n",
            "iteration: 97, delta: 0.0004026209003945906\n",
            "iteration: 98, delta: 0.0004654801342028036\n",
            "iteration: 99, delta: 0.0004734499020493516\n",
            "iteration: 100, delta: 0.0002365771272620476\n",
            "iteration: 101, delta: 0.0001991579793669746\n",
            "iteration: 102, delta: 0.0\n",
            "\n",
            "For K=512 and p_pca=130:\n",
            "\tBest accuracy: 0.4318181818181818\n",
            "\tBest C: 0.001\n"
          ]
        },
        {
          "name": "stderr",
          "output_type": "stream",
          "text": [
            "C:\\Users\\Thijmen\\AppData\\Local\\Packages\\PythonSoftwareFoundation.Python.3.11_qbz5n2kfra8p0\\LocalCache\\local-packages\\Python311\\site-packages\\sklearn\\svm\\_classes.py:32: FutureWarning: The default value of `dual` will change from `True` to `'auto'` in 1.5. Set the value of `dual` explicitly to suppress the warning.\n",
            "  warnings.warn(\n",
            "C:\\Users\\Thijmen\\AppData\\Local\\Packages\\PythonSoftwareFoundation.Python.3.11_qbz5n2kfra8p0\\LocalCache\\local-packages\\Python311\\site-packages\\sklearn\\svm\\_classes.py:32: FutureWarning: The default value of `dual` will change from `True` to `'auto'` in 1.5. Set the value of `dual` explicitly to suppress the warning.\n",
            "  warnings.warn(\n",
            "C:\\Users\\Thijmen\\AppData\\Local\\Packages\\PythonSoftwareFoundation.Python.3.11_qbz5n2kfra8p0\\LocalCache\\local-packages\\Python311\\site-packages\\sklearn\\svm\\_classes.py:32: FutureWarning: The default value of `dual` will change from `True` to `'auto'` in 1.5. Set the value of `dual` explicitly to suppress the warning.\n",
            "  warnings.warn(\n",
            "C:\\Users\\Thijmen\\AppData\\Local\\Packages\\PythonSoftwareFoundation.Python.3.11_qbz5n2kfra8p0\\LocalCache\\local-packages\\Python311\\site-packages\\sklearn\\svm\\_classes.py:32: FutureWarning: The default value of `dual` will change from `True` to `'auto'` in 1.5. Set the value of `dual` explicitly to suppress the warning.\n",
            "  warnings.warn(\n",
            "C:\\Users\\Thijmen\\AppData\\Local\\Packages\\PythonSoftwareFoundation.Python.3.11_qbz5n2kfra8p0\\LocalCache\\local-packages\\Python311\\site-packages\\sklearn\\svm\\_classes.py:32: FutureWarning: The default value of `dual` will change from `True` to `'auto'` in 1.5. Set the value of `dual` explicitly to suppress the warning.\n",
            "  warnings.warn(\n",
            "C:\\Users\\Thijmen\\AppData\\Local\\Packages\\PythonSoftwareFoundation.Python.3.11_qbz5n2kfra8p0\\LocalCache\\local-packages\\Python311\\site-packages\\sklearn\\svm\\_classes.py:32: FutureWarning: The default value of `dual` will change from `True` to `'auto'` in 1.5. Set the value of `dual` explicitly to suppress the warning.\n",
            "  warnings.warn(\n",
            "C:\\Users\\Thijmen\\AppData\\Local\\Packages\\PythonSoftwareFoundation.Python.3.11_qbz5n2kfra8p0\\LocalCache\\local-packages\\Python311\\site-packages\\sklearn\\svm\\_classes.py:32: FutureWarning: The default value of `dual` will change from `True` to `'auto'` in 1.5. Set the value of `dual` explicitly to suppress the warning.\n",
            "  warnings.warn(\n",
            "C:\\Users\\Thijmen\\AppData\\Local\\Temp\\ipykernel_23292\\2783065300.py:37: DeprecationWarning: Conversion of an array with ndim > 0 to a scalar is deprecated, and will error in future. Ensure you extract a single element from your array before performing this operation. (Deprecated NumPy 1.25.)\n",
            "  print(f\"\\tBest accuracy: {float(best_accuracy_boaw)}\")\n"
          ]
        }
      ],
      "source": [
        "# DO NOT MODIFY\n",
        "n_subsample = 4\n",
        "p_pcas = [120, 130]\n",
        "Ks = [256, 512]\n",
        "X_boaw_all_dict = test_hyperparameters(\n",
        "    X_zn, Y_train, Y_val, p_pcas, pca_W, Ks, n_subsample, scaler, C_set\n",
        ")"
      ]
    },
    {
      "cell_type": "markdown",
      "id": "acef577a-45f3-43ec-b40b-904e2ee93ed8",
      "metadata": {
        "id": "acef577a-45f3-43ec-b40b-904e2ee93ed8",
        "tags": []
      },
      "source": [
        "### Step 4.6: (0% - we do it for you!)\n",
        " We did everything using the train and validation sets only until now. This enables us to choose the best hyperparameters `p_pca`, `K` and `C`.\n",
        "\n",
        " Looking at the performance/accuracy results you obtained in the previous step, answer the question: which `p_pca`, `K` and `C` combination gave the best validation set performance?\n",
        " AND: using the boaw encoding for that `p_pca, K` combination and the best C, finally apply the setting on the test set."
      ]
    },
    {
      "cell_type": "code",
      "execution_count": 221,
      "id": "2cf3261a-02e2-4bf6-88ae-c1a35e39c4bc",
      "metadata": {
        "id": "2cf3261a-02e2-4bf6-88ae-c1a35e39c4bc"
      },
      "outputs": [
        {
          "name": "stdout",
          "output_type": "stream",
          "text": [
            "\n",
            "For K=512, p_pca=130 and C=0.001:\n",
            "\tAccuracy: 0.42045454545454547.\n"
          ]
        },
        {
          "name": "stderr",
          "output_type": "stream",
          "text": [
            "C:\\Users\\Thijmen\\AppData\\Local\\Packages\\PythonSoftwareFoundation.Python.3.11_qbz5n2kfra8p0\\LocalCache\\local-packages\\Python311\\site-packages\\sklearn\\svm\\_classes.py:32: FutureWarning: The default value of `dual` will change from `True` to `'auto'` in 1.5. Set the value of `dual` explicitly to suppress the warning.\n",
            "  warnings.warn(\n"
          ]
        }
      ],
      "source": [
        "# NOT GRADED, BUT YOU CAN PLAY WITH THE VALUES OF K, p_pca AND C\n",
        "# Best values:\n",
        "K = 512\n",
        "p_pca = 130\n",
        "C = 0.001\n",
        "\n",
        "# 1. Now we combine the training and validation, retrain a model with best C and\n",
        "# best boaw representation (i.e. best K, p_pca) then predict on the test set.\n",
        "\n",
        "# Generate boaw representation for this p_pca and K:\n",
        "X_boaw_all = X_boaw_all_dict[(p_pca, K)]\n",
        "\n",
        "# Split boaw data\n",
        "X_boaw_train, X_boaw_val, X_boaw_test = split_ravdess_filewise_boaw(\n",
        "    X_boaw_all, mask_train, mask_val, mask_test\n",
        ")\n",
        "\n",
        "\n",
        "# join train and val in one\n",
        "X_boaw_trainval = np.concatenate([X_boaw_train, X_boaw_val])\n",
        "Y_trainval = np.concatenate([Y_train, Y_val])\n",
        "\n",
        "# 2. Now we run the classification model\n",
        "clf = LinearSVC(C=C, random_state=1)\n",
        "clf.fit(X_boaw_trainval, Y_trainval)\n",
        "preds_test = clf.predict(X_boaw_test)\n",
        "performance = np.mean(Y_test == preds_test)\n",
        "\n",
        "print(f\"\\nFor K={K}, p_pca={p_pca} and C={C}:\")\n",
        "print(f\"\\tAccuracy: {performance}.\")"
      ]
    },
    {
      "cell_type": "markdown",
      "id": "86cc7e89-3233-443c-b08d-1bcf23946a79",
      "metadata": {
        "id": "86cc7e89-3233-443c-b08d-1bcf23946a79"
      },
      "source": [
        "Note: If everything went well, you should have an accuracy around 0.43 (on the test set) when using the best hyper-parameters `K`, `p_pca` and `C`."
      ]
    },
    {
      "cell_type": "markdown",
      "id": "474db641-f497-4736-8609-0e939f262de9",
      "metadata": {
        "id": "474db641-f497-4736-8609-0e939f262de9"
      },
      "source": [
        "**Before you submit, click Kernel > Restart & Run All to make sure you submit a working version of your code!**\n",
        "\n",
        "--- End of the assignment ---"
      ]
    }
  ],
  "metadata": {
    "colab": {
      "provenance": []
    },
    "kernelspec": {
      "display_name": "Python 3 (ipykernel)",
      "language": "python",
      "name": "python3"
    },
    "language_info": {
      "codemirror_mode": {
        "name": "ipython",
        "version": 3
      },
      "file_extension": ".py",
      "mimetype": "text/x-python",
      "name": "python",
      "nbconvert_exporter": "python",
      "pygments_lexer": "ipython3",
      "version": "3.11.5"
    }
  },
  "nbformat": 4,
  "nbformat_minor": 5
}
